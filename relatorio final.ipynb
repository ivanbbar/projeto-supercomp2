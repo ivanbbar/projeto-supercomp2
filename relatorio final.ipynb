{
 "cells": [
  {
   "attachments": {},
   "cell_type": "markdown",
   "metadata": {},
   "source": [
    "## Maratona de Filmes\n",
    "\n",
    "##### Ivan Barros"
   ]
  },
  {
   "attachments": {},
   "cell_type": "markdown",
   "metadata": {},
   "source": [
    "Você quer passar um final de semana assistindo ao máximo de filmes possível, mas há restrições quanto aos horários disponíveis e ao número de títulos que podem ser vistos em cada categoria (comédia, drama, ação, etc).\n",
    "\n",
    "Entrada: Um inteiro N representando o número de filmes disponíveis para assistir e N trios de inteiros (H[i], F[i], C[i]), representando a hora de início, a hora de fim e a categoria do i-ésimo filme. Além disso, um inteiro M representando o número de categorias e uma lista de M inteiros representando o número máximo de filmes que podem ser assistidos em cada categoria.\n",
    "\n",
    "Saída: Um inteiro representando o número máximo de filmes que podem ser assistidos de acordo com as restrições de horários e número máximo por categoria.\n",
    "\n",
    "### Exaustiva\n",
    "\n",
    "###### Elaborar explicação\n",
    "\n",
    "### Exaustiva com Open MP\n",
    "\n",
    "###### Elaborar explicação\n",
    "\n",
    "### Heurística Gulosa\n",
    "\n",
    "Elaborado no relatório intermediário\n",
    "\n",
    "\n",
    "### Aleatoriedade\n",
    "\n",
    "Elaborado no relatório intermediário\n"
   ]
  },
  {
   "attachments": {},
   "cell_type": "markdown",
   "metadata": {},
   "source": [
    "## Implementação dos Algoritmos"
   ]
  },
  {
   "attachments": {},
   "cell_type": "markdown",
   "metadata": {},
   "source": [
    "### Exaustiva"
   ]
  },
  {
   "attachments": {},
   "cell_type": "markdown",
   "metadata": {},
   "source": [
    "##### Explica o código"
   ]
  },
  {
   "attachments": {},
   "cell_type": "markdown",
   "metadata": {},
   "source": [
    "### Exaustiva com Open MP"
   ]
  },
  {
   "attachments": {},
   "cell_type": "markdown",
   "metadata": {},
   "source": [
    "##### Explica o código"
   ]
  },
  {
   "attachments": {},
   "cell_type": "markdown",
   "metadata": {},
   "source": [
    "## Output Gerado"
   ]
  },
  {
   "attachments": {},
   "cell_type": "markdown",
   "metadata": {},
   "source": [
    "O arquivo .txt gerado na saída do programa tem o seguinte formato:\n",
    " - Linha 1: Quantidade n de filmes ajustados para a situação\n",
    " - Linhas 2 a n+1: id dos filmes escolhidos, juntamente com sua categoria"
   ]
  },
  {
   "attachments": {},
   "cell_type": "markdown",
   "metadata": {},
   "source": [
    "Exemplo de arquivo gerado na saída:\n",
    "\n",
    "~~~javascript\n",
    "24\n",
    "1215 2\n",
    "2427 4\n",
    "2256 3\n",
    "9419 1\n",
    "1783 5\n",
    "5382 3\n",
    "7192 5\n",
    "6915 6\n",
    "9276 7\n",
    "8657 3\n",
    "2230 3\n",
    "7821 4\n",
    "672 7\n",
    "3193 7\n",
    "543 7\n",
    "2722 4\n",
    "1343 4\n",
    "1469 4\n",
    "9240 3\n",
    "4585 3\n",
    "4040 6\n",
    "1732 6\n",
    "2959 4\n",
    "7711 6\n",
    "\n",
    "~~~"
   ]
  },
  {
   "attachments": {},
   "cell_type": "markdown",
   "metadata": {},
   "source": [
    "## Profiling"
   ]
  },
  {
   "attachments": {},
   "cell_type": "markdown",
   "metadata": {},
   "source": [
    "É preciso realizar uma análise de um programa durante sua execução, de modo a determinar seu consumo de memória e/ou tempo de execução\n",
    "\n",
    "Com profiling, podemos responder duas importantes perguntas:\n",
    " - Onde o programa consome mais recursos?\n",
    " - Onde devo concentrar meus esforços de otimização?"
   ]
  },
  {
   "attachments": {},
   "cell_type": "markdown",
   "metadata": {},
   "source": [
    "Vamos fazer uso da ferramenta Valgrind para realizar o profiling desse código e entender esses pontos relacionados ao programa"
   ]
  },
  {
   "attachments": {},
   "cell_type": "markdown",
   "metadata": {},
   "source": [
    "### Exaustiva"
   ]
  },
  {
   "cell_type": "code",
   "execution_count": null,
   "metadata": {},
   "outputs": [
    {
     "name": "stdout",
     "output_type": "stream",
     "text": [
      "==914869== Callgrind, a call-graph generating cache profiler\n",
      "==914869== Copyright (C) 2002-2017, and GNU GPL'd, by Josef Weidendorfer et al.\n",
      "==914869== Using Valgrind-3.15.0 and LibVEX; rerun with -h for copyright info\n",
      "==914869== Command: ./greedy\n",
      "==914869== \n",
      "==914869== For interactive control, run 'callgrind_control -h'.\n",
      "--914869-- WARNING: Serious error when reading debug info\n",
      "--914869-- When reading debug info from /home/user/supercomp/supercomp/material/projetos/projeto-ivan/greedy:\n",
      "--914869-- Ignoring non-Dwarf2/3/4 block in .debug_info\n",
      "./greedy: /lib/x86_64-linux-gnu/libc.so.6: version `GLIBC_2.34' not found (required by ./greedy)\n",
      "==914869== \n",
      "==914869== Events    : Ir\n",
      "==914869== Collected : 75930\n",
      "==914869== \n",
      "==914869== I   refs:      75,930\n"
     ]
    }
   ],
   "source": [
    "!valgrind --tool=callgrind ./exaustiva <input_valgrind.txt > exaustiva_valgrind_output.txt"
   ]
  },
  {
   "attachments": {},
   "cell_type": "markdown",
   "metadata": {},
   "source": [
    "Com isso, encontramos o valor de PID= 9576 e podemos executar o codigo:"
   ]
  },
  {
   "cell_type": "code",
   "execution_count": null,
   "metadata": {},
   "outputs": [
    {
     "name": "stdout",
     "output_type": "stream",
     "text": [
      "--------------------------------------------------------------------------------\n",
      "Profile data file 'callgrind.out.914869' (creator: callgrind-3.15.0)\n",
      "--------------------------------------------------------------------------------\n",
      "I1 cache: \n",
      "D1 cache: \n",
      "LL cache: \n",
      "Timerange: Basic block 0 - 18516\n",
      "Trigger: Program termination\n",
      "Profiled target:  ./greedy (PID 914869, part 1)\n",
      "Events recorded:  Ir\n",
      "Events shown:     Ir\n",
      "Event sort order: Ir\n",
      "Thresholds:       99\n",
      "Include dirs:     \n",
      "User annotated:   greedy.cpp\n",
      "Auto-annotation:  off\n",
      "\n",
      "--------------------------------------------------------------------------------\n",
      "Ir     \n",
      "--------------------------------------------------------------------------------\n",
      "75,930  PROGRAM TOTALS\n",
      "\n",
      "--------------------------------------------------------------------------------\n",
      "Ir      file:function\n",
      "--------------------------------------------------------------------------------\n",
      "15,710  /build/glibc-SzIz7B/glibc-2.31/elf/dl-tunables.c:__GI___tunables_init [/usr/lib/x86_64-linux-gnu/ld-2.31.so]\n",
      " 9,631  /build/glibc-SzIz7B/glibc-2.31/elf/dl-version.c:_dl_check_map_versions [/usr/lib/x86_64-linux-gnu/ld-2.31.so]\n",
      " 8,266  /build/glibc-SzIz7B/glibc-2.31/string/../sysdeps/x86_64/strcmp.S:strcmp [/usr/lib/x86_64-linux-gnu/ld-2.31.so]\n",
      " 5,026  /build/glibc-SzIz7B/glibc-2.31/elf/dl-tunables.h:__GI___tunables_init\n",
      " 3,186  /build/glibc-SzIz7B/glibc-2.31/elf/dl-load.c:_dl_map_object_from_fd [/usr/lib/x86_64-linux-gnu/ld-2.31.so]\n",
      " 3,062  /build/glibc-SzIz7B/glibc-2.31/elf/dl-misc.c:_dl_name_match_p [/usr/lib/x86_64-linux-gnu/ld-2.31.so]\n",
      " 2,948  /build/glibc-SzIz7B/glibc-2.31/elf/dl-cache.c:_dl_cache_libcmp [/usr/lib/x86_64-linux-gnu/ld-2.31.so]\n",
      " 2,239  /build/glibc-SzIz7B/glibc-2.31/elf/dl-deps.c:_dl_map_object_deps [/usr/lib/x86_64-linux-gnu/ld-2.31.so]\n",
      " 2,105  /build/glibc-SzIz7B/glibc-2.31/elf/dl-load.c:_dl_map_object [/usr/lib/x86_64-linux-gnu/ld-2.31.so]\n",
      " 1,608  /build/glibc-SzIz7B/glibc-2.31/elf/get-dynamic-info.h:_dl_map_object_from_fd\n",
      " 1,447  /build/glibc-SzIz7B/glibc-2.31/elf/dl-load.c:open_verify.constprop.0 [/usr/lib/x86_64-linux-gnu/ld-2.31.so]\n",
      " 1,187  /build/glibc-SzIz7B/glibc-2.31/elf/dl-object.c:_dl_new_object [/usr/lib/x86_64-linux-gnu/ld-2.31.so]\n",
      " 1,143  /build/glibc-SzIz7B/glibc-2.31/elf/dl-cache.c:_dl_load_cache_lookup [/usr/lib/x86_64-linux-gnu/ld-2.31.so]\n",
      " 1,124  /build/glibc-SzIz7B/glibc-2.31/elf/dl-load.c:open_path [/usr/lib/x86_64-linux-gnu/ld-2.31.so]\n",
      " 1,030  /build/glibc-SzIz7B/glibc-2.31/string/../sysdeps/x86_64/multiarch/../strlen.S:strlen [/usr/lib/x86_64-linux-gnu/ld-2.31.so]\n",
      "   953  /build/glibc-SzIz7B/glibc-2.31/string/../sysdeps/x86_64/multiarch/memset-vec-unaligned-erms.S:memset [/usr/lib/x86_64-linux-gnu/ld-2.31.so]\n",
      "   920  /build/glibc-SzIz7B/glibc-2.31/elf/dl-minimal.c:malloc [/usr/lib/x86_64-linux-gnu/ld-2.31.so]\n",
      "   893  /build/glibc-SzIz7B/glibc-2.31/elf/dl-exception.c:_dl_exception_create_format [/usr/lib/x86_64-linux-gnu/ld-2.31.so]\n",
      "   843  /build/glibc-SzIz7B/glibc-2.31/elf/rtld.c:dl_main [/usr/lib/x86_64-linux-gnu/ld-2.31.so]\n",
      "   687  /build/glibc-SzIz7B/glibc-2.31/elf/./dl-map-segments.h:_dl_map_object_from_fd\n",
      "   666  /build/glibc-SzIz7B/glibc-2.31/elf/dl-sort-maps.c:_dl_sort_maps [/usr/lib/x86_64-linux-gnu/ld-2.31.so]\n",
      "   661  /build/glibc-SzIz7B/glibc-2.31/elf/../sysdeps/x86/dl-prop.h:_dl_process_pt_note [/usr/lib/x86_64-linux-gnu/ld-2.31.so]\n",
      "   599  /build/glibc-SzIz7B/glibc-2.31/string/../sysdeps/x86_64/multiarch/../strchr.S:index [/usr/lib/x86_64-linux-gnu/ld-2.31.so]\n",
      "   598  /build/glibc-SzIz7B/glibc-2.31/elf/dl-hwcaps.c:_dl_important_hwcaps [/usr/lib/x86_64-linux-gnu/ld-2.31.so]\n",
      "   561  /build/glibc-SzIz7B/glibc-2.31/string/../sysdeps/x86_64/multiarch/memmove-vec-unaligned-erms.S:mempcpy [/usr/lib/x86_64-linux-gnu/ld-2.31.so]\n",
      "   466  /build/glibc-SzIz7B/glibc-2.31/misc/../sysdeps/unix/sysv/linux/mmap64.c:mmap [/usr/lib/x86_64-linux-gnu/ld-2.31.so]\n",
      "   463  /build/glibc-SzIz7B/glibc-2.31/string/../sysdeps/x86_64/multiarch/memmove-vec-unaligned-erms.S:memcpy [/usr/lib/x86_64-linux-gnu/ld-2.31.so]\n",
      "   447  /build/glibc-SzIz7B/glibc-2.31/elf/../elf/dl-sysdep.c:_dl_sysdep_start [/usr/lib/x86_64-linux-gnu/ld-2.31.so]\n",
      "   439  /build/glibc-SzIz7B/glibc-2.31/elf/../sysdeps/x86_64/dl-machine.h:_dl_start\n",
      "   420  /build/glibc-SzIz7B/glibc-2.31/elf/dl-error-skeleton.c:_dl_catch_exception [/usr/lib/x86_64-linux-gnu/ld-2.31.so]\n",
      "   356  /build/glibc-SzIz7B/glibc-2.31/io/../sysdeps/unix/sysv/linux/open64_nocancel.c:__open_nocancel [/usr/lib/x86_64-linux-gnu/ld-2.31.so]\n",
      "   335  /build/glibc-SzIz7B/glibc-2.31/elf/get-dynamic-info.h:dl_main\n",
      "   327  /build/glibc-SzIz7B/glibc-2.31/elf/dl-load.c:_dl_init_paths [/usr/lib/x86_64-linux-gnu/ld-2.31.so]\n",
      "   309  /build/glibc-SzIz7B/glibc-2.31/elf/do-rel.h:_dl_start\n",
      "   305  /build/glibc-SzIz7B/glibc-2.31/elf/dl-environ.c:_dl_next_ld_env_entry [/usr/lib/x86_64-linux-gnu/ld-2.31.so]\n",
      "   303  /build/glibc-SzIz7B/glibc-2.31/elf/dl-misc.c:_dl_debug_vdprintf [/usr/lib/x86_64-linux-gnu/ld-2.31.so]\n",
      "   288  /build/glibc-SzIz7B/glibc-2.31/setjmp/../sysdeps/x86_64/setjmp.S:__sigsetjmp [/usr/lib/x86_64-linux-gnu/ld-2.31.so]\n",
      "   273  /build/glibc-SzIz7B/glibc-2.31/string/../sysdeps/x86_64/strcspn.S:strcspn [/usr/lib/x86_64-linux-gnu/ld-2.31.so]\n",
      "   259  /build/glibc-SzIz7B/glibc-2.31/elf/dl-object.c:_dl_add_to_namespace_list [/usr/lib/x86_64-linux-gnu/ld-2.31.so]\n",
      "   253  /build/glibc-SzIz7B/glibc-2.31/elf/dl-load.c:open_verify.constprop.1 [/usr/lib/x86_64-linux-gnu/ld-2.31.so]\n",
      "   248  /build/glibc-SzIz7B/glibc-2.31/elf/dl-minimal.c:strsep [/usr/lib/x86_64-linux-gnu/ld-2.31.so]\n",
      "   238  /build/glibc-SzIz7B/glibc-2.31/elf/get-dynamic-info.h:_dl_start\n",
      "   214  /build/glibc-SzIz7B/glibc-2.31/elf/dl-tunables.c:__tunable_get_val [/usr/lib/x86_64-linux-gnu/ld-2.31.so]\n",
      "   198  /build/glibc-SzIz7B/glibc-2.31/elf/dl-deps.c:openaux [/usr/lib/x86_64-linux-gnu/ld-2.31.so]\n",
      "   198  /build/glibc-SzIz7B/glibc-2.31/elf/dl-load.c:_dl_dst_count [/usr/lib/x86_64-linux-gnu/ld-2.31.so]\n",
      "   171  /build/glibc-SzIz7B/glibc-2.31/elf/./dl-load.h:_dl_map_object_from_fd\n",
      "   168  /build/glibc-SzIz7B/glibc-2.31/elf/dl-lookup.c:_dl_setup_hash [/usr/lib/x86_64-linux-gnu/ld-2.31.so]\n",
      "   156  /build/glibc-SzIz7B/glibc-2.31/elf/dl-load.c:fillin_rpath [/usr/lib/x86_64-linux-gnu/ld-2.31.so]\n",
      "   146  /build/glibc-SzIz7B/glibc-2.31/elf/../sysdeps/x86/cpu-features.c:_dl_sysdep_start\n",
      "   118  /build/glibc-SzIz7B/glibc-2.31/elf/../sysdeps/posix/dl-fileid.h:_dl_map_object_from_fd\n",
      "   111  /build/glibc-SzIz7B/glibc-2.31/elf/dl-version.c:_dl_check_all_versions [/usr/lib/x86_64-linux-gnu/ld-2.31.so]\n",
      "   109  /build/glibc-SzIz7B/glibc-2.31/io/../sysdeps/unix/sysv/linux/wordsize-64/xstat.c:_xstat [/usr/lib/x86_64-linux-gnu/ld-2.31.so]\n",
      "   108  /build/glibc-SzIz7B/glibc-2.31/elf/dl-minimal.c:calloc [/usr/lib/x86_64-linux-gnu/ld-2.31.so]\n",
      "   108  /build/glibc-SzIz7B/glibc-2.31/string/strdup.c:strdup [/usr/lib/x86_64-linux-gnu/ld-2.31.so]\n",
      "    99  /build/glibc-SzIz7B/glibc-2.31/elf/../sysdeps/x86/cpu-features.c:get_common_indices.constprop.0 [/usr/lib/x86_64-linux-gnu/ld-2.31.so]\n",
      "    90  /build/glibc-SzIz7B/glibc-2.31/malloc/scratch_buffer_set_array_size.c:__libc_scratch_buffer_set_array_size [/usr/lib/x86_64-linux-gnu/ld-2.31.so]\n",
      "    77  /build/glibc-SzIz7B/glibc-2.31/elf/../sysdeps/x86/dl-prop.h:dl_main\n",
      "    74  /build/glibc-SzIz7B/glibc-2.31/elf/../sysdeps/unix/sysv/linux/dl-sysdep.c:_dl_discover_osversion [/usr/lib/x86_64-linux-gnu/ld-2.31.so]\n",
      "    70  ???:0x00000000040010a0 [???]\n",
      "    68  /build/glibc-SzIz7B/glibc-2.31/elf/rtld.c:handle_preload_list [/usr/lib/x86_64-linux-gnu/ld-2.31.so]\n",
      "    66  /build/glibc-SzIz7B/glibc-2.31/io/../sysdeps/unix/sysv/linux/wordsize-64/fxstat.c:_fxstat [/usr/lib/x86_64-linux-gnu/ld-2.31.so]\n",
      "\n",
      "--------------------------------------------------------------------------------\n",
      "-- User-annotated source: greedy.cpp\n",
      "--------------------------------------------------------------------------------\n",
      "  No information has been collected for greedy.cpp\n",
      "\n"
     ]
    }
   ],
   "source": [
    "!callgrind_annotate callgrind.out.914869 exaustiva.cpp "
   ]
  },
  {
   "attachments": {},
   "cell_type": "markdown",
   "metadata": {},
   "source": [
    "### Exaustiva com Open MP"
   ]
  },
  {
   "cell_type": "code",
   "execution_count": null,
   "metadata": {},
   "outputs": [
    {
     "name": "stdout",
     "output_type": "stream",
     "text": [
      "==914869== Callgrind, a call-graph generating cache profiler\n",
      "==914869== Copyright (C) 2002-2017, and GNU GPL'd, by Josef Weidendorfer et al.\n",
      "==914869== Using Valgrind-3.15.0 and LibVEX; rerun with -h for copyright info\n",
      "==914869== Command: ./greedy\n",
      "==914869== \n",
      "==914869== For interactive control, run 'callgrind_control -h'.\n",
      "--914869-- WARNING: Serious error when reading debug info\n",
      "--914869-- When reading debug info from /home/user/supercomp/supercomp/material/projetos/projeto-ivan/greedy:\n",
      "--914869-- Ignoring non-Dwarf2/3/4 block in .debug_info\n",
      "./greedy: /lib/x86_64-linux-gnu/libc.so.6: version `GLIBC_2.34' not found (required by ./greedy)\n",
      "==914869== \n",
      "==914869== Events    : Ir\n",
      "==914869== Collected : 75930\n",
      "==914869== \n",
      "==914869== I   refs:      75,930\n"
     ]
    }
   ],
   "source": [
    "!valgrind --tool=callgrind ./exaustiva_opmp <input_valgrind.txt > exaustiva_opmp_valgrind_output.txt"
   ]
  },
  {
   "attachments": {},
   "cell_type": "markdown",
   "metadata": {},
   "source": [
    "Com isso, encontramos o valor de PID= 9576 e podemos executar o codigo:"
   ]
  },
  {
   "cell_type": "code",
   "execution_count": null,
   "metadata": {},
   "outputs": [
    {
     "name": "stdout",
     "output_type": "stream",
     "text": [
      "--------------------------------------------------------------------------------\n",
      "Profile data file 'callgrind.out.914869' (creator: callgrind-3.15.0)\n",
      "--------------------------------------------------------------------------------\n",
      "I1 cache: \n",
      "D1 cache: \n",
      "LL cache: \n",
      "Timerange: Basic block 0 - 18516\n",
      "Trigger: Program termination\n",
      "Profiled target:  ./greedy (PID 914869, part 1)\n",
      "Events recorded:  Ir\n",
      "Events shown:     Ir\n",
      "Event sort order: Ir\n",
      "Thresholds:       99\n",
      "Include dirs:     \n",
      "User annotated:   greedy.cpp\n",
      "Auto-annotation:  off\n",
      "\n",
      "--------------------------------------------------------------------------------\n",
      "Ir     \n",
      "--------------------------------------------------------------------------------\n",
      "75,930  PROGRAM TOTALS\n",
      "\n",
      "--------------------------------------------------------------------------------\n",
      "Ir      file:function\n",
      "--------------------------------------------------------------------------------\n",
      "15,710  /build/glibc-SzIz7B/glibc-2.31/elf/dl-tunables.c:__GI___tunables_init [/usr/lib/x86_64-linux-gnu/ld-2.31.so]\n",
      " 9,631  /build/glibc-SzIz7B/glibc-2.31/elf/dl-version.c:_dl_check_map_versions [/usr/lib/x86_64-linux-gnu/ld-2.31.so]\n",
      " 8,266  /build/glibc-SzIz7B/glibc-2.31/string/../sysdeps/x86_64/strcmp.S:strcmp [/usr/lib/x86_64-linux-gnu/ld-2.31.so]\n",
      " 5,026  /build/glibc-SzIz7B/glibc-2.31/elf/dl-tunables.h:__GI___tunables_init\n",
      " 3,186  /build/glibc-SzIz7B/glibc-2.31/elf/dl-load.c:_dl_map_object_from_fd [/usr/lib/x86_64-linux-gnu/ld-2.31.so]\n",
      " 3,062  /build/glibc-SzIz7B/glibc-2.31/elf/dl-misc.c:_dl_name_match_p [/usr/lib/x86_64-linux-gnu/ld-2.31.so]\n",
      " 2,948  /build/glibc-SzIz7B/glibc-2.31/elf/dl-cache.c:_dl_cache_libcmp [/usr/lib/x86_64-linux-gnu/ld-2.31.so]\n",
      " 2,239  /build/glibc-SzIz7B/glibc-2.31/elf/dl-deps.c:_dl_map_object_deps [/usr/lib/x86_64-linux-gnu/ld-2.31.so]\n",
      " 2,105  /build/glibc-SzIz7B/glibc-2.31/elf/dl-load.c:_dl_map_object [/usr/lib/x86_64-linux-gnu/ld-2.31.so]\n",
      " 1,608  /build/glibc-SzIz7B/glibc-2.31/elf/get-dynamic-info.h:_dl_map_object_from_fd\n",
      " 1,447  /build/glibc-SzIz7B/glibc-2.31/elf/dl-load.c:open_verify.constprop.0 [/usr/lib/x86_64-linux-gnu/ld-2.31.so]\n",
      " 1,187  /build/glibc-SzIz7B/glibc-2.31/elf/dl-object.c:_dl_new_object [/usr/lib/x86_64-linux-gnu/ld-2.31.so]\n",
      " 1,143  /build/glibc-SzIz7B/glibc-2.31/elf/dl-cache.c:_dl_load_cache_lookup [/usr/lib/x86_64-linux-gnu/ld-2.31.so]\n",
      " 1,124  /build/glibc-SzIz7B/glibc-2.31/elf/dl-load.c:open_path [/usr/lib/x86_64-linux-gnu/ld-2.31.so]\n",
      " 1,030  /build/glibc-SzIz7B/glibc-2.31/string/../sysdeps/x86_64/multiarch/../strlen.S:strlen [/usr/lib/x86_64-linux-gnu/ld-2.31.so]\n",
      "   953  /build/glibc-SzIz7B/glibc-2.31/string/../sysdeps/x86_64/multiarch/memset-vec-unaligned-erms.S:memset [/usr/lib/x86_64-linux-gnu/ld-2.31.so]\n",
      "   920  /build/glibc-SzIz7B/glibc-2.31/elf/dl-minimal.c:malloc [/usr/lib/x86_64-linux-gnu/ld-2.31.so]\n",
      "   893  /build/glibc-SzIz7B/glibc-2.31/elf/dl-exception.c:_dl_exception_create_format [/usr/lib/x86_64-linux-gnu/ld-2.31.so]\n",
      "   843  /build/glibc-SzIz7B/glibc-2.31/elf/rtld.c:dl_main [/usr/lib/x86_64-linux-gnu/ld-2.31.so]\n",
      "   687  /build/glibc-SzIz7B/glibc-2.31/elf/./dl-map-segments.h:_dl_map_object_from_fd\n",
      "   666  /build/glibc-SzIz7B/glibc-2.31/elf/dl-sort-maps.c:_dl_sort_maps [/usr/lib/x86_64-linux-gnu/ld-2.31.so]\n",
      "   661  /build/glibc-SzIz7B/glibc-2.31/elf/../sysdeps/x86/dl-prop.h:_dl_process_pt_note [/usr/lib/x86_64-linux-gnu/ld-2.31.so]\n",
      "   599  /build/glibc-SzIz7B/glibc-2.31/string/../sysdeps/x86_64/multiarch/../strchr.S:index [/usr/lib/x86_64-linux-gnu/ld-2.31.so]\n",
      "   598  /build/glibc-SzIz7B/glibc-2.31/elf/dl-hwcaps.c:_dl_important_hwcaps [/usr/lib/x86_64-linux-gnu/ld-2.31.so]\n",
      "   561  /build/glibc-SzIz7B/glibc-2.31/string/../sysdeps/x86_64/multiarch/memmove-vec-unaligned-erms.S:mempcpy [/usr/lib/x86_64-linux-gnu/ld-2.31.so]\n",
      "   466  /build/glibc-SzIz7B/glibc-2.31/misc/../sysdeps/unix/sysv/linux/mmap64.c:mmap [/usr/lib/x86_64-linux-gnu/ld-2.31.so]\n",
      "   463  /build/glibc-SzIz7B/glibc-2.31/string/../sysdeps/x86_64/multiarch/memmove-vec-unaligned-erms.S:memcpy [/usr/lib/x86_64-linux-gnu/ld-2.31.so]\n",
      "   447  /build/glibc-SzIz7B/glibc-2.31/elf/../elf/dl-sysdep.c:_dl_sysdep_start [/usr/lib/x86_64-linux-gnu/ld-2.31.so]\n",
      "   439  /build/glibc-SzIz7B/glibc-2.31/elf/../sysdeps/x86_64/dl-machine.h:_dl_start\n",
      "   420  /build/glibc-SzIz7B/glibc-2.31/elf/dl-error-skeleton.c:_dl_catch_exception [/usr/lib/x86_64-linux-gnu/ld-2.31.so]\n",
      "   356  /build/glibc-SzIz7B/glibc-2.31/io/../sysdeps/unix/sysv/linux/open64_nocancel.c:__open_nocancel [/usr/lib/x86_64-linux-gnu/ld-2.31.so]\n",
      "   335  /build/glibc-SzIz7B/glibc-2.31/elf/get-dynamic-info.h:dl_main\n",
      "   327  /build/glibc-SzIz7B/glibc-2.31/elf/dl-load.c:_dl_init_paths [/usr/lib/x86_64-linux-gnu/ld-2.31.so]\n",
      "   309  /build/glibc-SzIz7B/glibc-2.31/elf/do-rel.h:_dl_start\n",
      "   305  /build/glibc-SzIz7B/glibc-2.31/elf/dl-environ.c:_dl_next_ld_env_entry [/usr/lib/x86_64-linux-gnu/ld-2.31.so]\n",
      "   303  /build/glibc-SzIz7B/glibc-2.31/elf/dl-misc.c:_dl_debug_vdprintf [/usr/lib/x86_64-linux-gnu/ld-2.31.so]\n",
      "   288  /build/glibc-SzIz7B/glibc-2.31/setjmp/../sysdeps/x86_64/setjmp.S:__sigsetjmp [/usr/lib/x86_64-linux-gnu/ld-2.31.so]\n",
      "   273  /build/glibc-SzIz7B/glibc-2.31/string/../sysdeps/x86_64/strcspn.S:strcspn [/usr/lib/x86_64-linux-gnu/ld-2.31.so]\n",
      "   259  /build/glibc-SzIz7B/glibc-2.31/elf/dl-object.c:_dl_add_to_namespace_list [/usr/lib/x86_64-linux-gnu/ld-2.31.so]\n",
      "   253  /build/glibc-SzIz7B/glibc-2.31/elf/dl-load.c:open_verify.constprop.1 [/usr/lib/x86_64-linux-gnu/ld-2.31.so]\n",
      "   248  /build/glibc-SzIz7B/glibc-2.31/elf/dl-minimal.c:strsep [/usr/lib/x86_64-linux-gnu/ld-2.31.so]\n",
      "   238  /build/glibc-SzIz7B/glibc-2.31/elf/get-dynamic-info.h:_dl_start\n",
      "   214  /build/glibc-SzIz7B/glibc-2.31/elf/dl-tunables.c:__tunable_get_val [/usr/lib/x86_64-linux-gnu/ld-2.31.so]\n",
      "   198  /build/glibc-SzIz7B/glibc-2.31/elf/dl-deps.c:openaux [/usr/lib/x86_64-linux-gnu/ld-2.31.so]\n",
      "   198  /build/glibc-SzIz7B/glibc-2.31/elf/dl-load.c:_dl_dst_count [/usr/lib/x86_64-linux-gnu/ld-2.31.so]\n",
      "   171  /build/glibc-SzIz7B/glibc-2.31/elf/./dl-load.h:_dl_map_object_from_fd\n",
      "   168  /build/glibc-SzIz7B/glibc-2.31/elf/dl-lookup.c:_dl_setup_hash [/usr/lib/x86_64-linux-gnu/ld-2.31.so]\n",
      "   156  /build/glibc-SzIz7B/glibc-2.31/elf/dl-load.c:fillin_rpath [/usr/lib/x86_64-linux-gnu/ld-2.31.so]\n",
      "   146  /build/glibc-SzIz7B/glibc-2.31/elf/../sysdeps/x86/cpu-features.c:_dl_sysdep_start\n",
      "   118  /build/glibc-SzIz7B/glibc-2.31/elf/../sysdeps/posix/dl-fileid.h:_dl_map_object_from_fd\n",
      "   111  /build/glibc-SzIz7B/glibc-2.31/elf/dl-version.c:_dl_check_all_versions [/usr/lib/x86_64-linux-gnu/ld-2.31.so]\n",
      "   109  /build/glibc-SzIz7B/glibc-2.31/io/../sysdeps/unix/sysv/linux/wordsize-64/xstat.c:_xstat [/usr/lib/x86_64-linux-gnu/ld-2.31.so]\n",
      "   108  /build/glibc-SzIz7B/glibc-2.31/elf/dl-minimal.c:calloc [/usr/lib/x86_64-linux-gnu/ld-2.31.so]\n",
      "   108  /build/glibc-SzIz7B/glibc-2.31/string/strdup.c:strdup [/usr/lib/x86_64-linux-gnu/ld-2.31.so]\n",
      "    99  /build/glibc-SzIz7B/glibc-2.31/elf/../sysdeps/x86/cpu-features.c:get_common_indices.constprop.0 [/usr/lib/x86_64-linux-gnu/ld-2.31.so]\n",
      "    90  /build/glibc-SzIz7B/glibc-2.31/malloc/scratch_buffer_set_array_size.c:__libc_scratch_buffer_set_array_size [/usr/lib/x86_64-linux-gnu/ld-2.31.so]\n",
      "    77  /build/glibc-SzIz7B/glibc-2.31/elf/../sysdeps/x86/dl-prop.h:dl_main\n",
      "    74  /build/glibc-SzIz7B/glibc-2.31/elf/../sysdeps/unix/sysv/linux/dl-sysdep.c:_dl_discover_osversion [/usr/lib/x86_64-linux-gnu/ld-2.31.so]\n",
      "    70  ???:0x00000000040010a0 [???]\n",
      "    68  /build/glibc-SzIz7B/glibc-2.31/elf/rtld.c:handle_preload_list [/usr/lib/x86_64-linux-gnu/ld-2.31.so]\n",
      "    66  /build/glibc-SzIz7B/glibc-2.31/io/../sysdeps/unix/sysv/linux/wordsize-64/fxstat.c:_fxstat [/usr/lib/x86_64-linux-gnu/ld-2.31.so]\n",
      "\n",
      "--------------------------------------------------------------------------------\n",
      "-- User-annotated source: greedy.cpp\n",
      "--------------------------------------------------------------------------------\n",
      "  No information has been collected for greedy.cpp\n",
      "\n"
     ]
    }
   ],
   "source": [
    "!callgrind_annotate callgrind.out.914869 exaustiva_opmp.cpp "
   ]
  },
  {
   "attachments": {},
   "cell_type": "markdown",
   "metadata": {},
   "source": [
    "### Takeaways\n",
    "\n",
    "Considerações Considerações Considerações Considerações Considerações Considerações Considerações Considerações Considerações Considerações Considerações Considerações Considerações Considerações Considerações Considerações Considerações Considerações Considerações Considerações Considerações Considerações Considerações Considerações Considerações Considerações Considerações Considerações Considerações Considerações Considerações Considerações Considerações Considerações Considerações Considerações "
   ]
  },
  {
   "attachments": {},
   "cell_type": "markdown",
   "metadata": {},
   "source": [
    "## comparando desempenhos"
   ]
  },
  {
   "attachments": {},
   "cell_type": "markdown",
   "metadata": {},
   "source": [
    "Os arquivos de input utilizados são do formato input_n_m em que n e m são o número de filmes e o número de categorias, respectivamente. \n",
    "\n",
    "- n varia entre 10000 e 10000000 \n",
    "- m varia entre 2 e 10"
   ]
  },
  {
   "attachments": {},
   "cell_type": "markdown",
   "metadata": {},
   "source": [
    "### Compilando"
   ]
  },
  {
   "attachments": {},
   "cell_type": "markdown",
   "metadata": {},
   "source": [
    "Exemplo de compilação"
   ]
  },
  {
   "cell_type": "code",
   "execution_count": null,
   "metadata": {},
   "outputs": [],
   "source": [
    " g++ -Wall -O3 -g exaustiva.cpp -o exaustiva"
   ]
  },
  {
   "attachments": {},
   "cell_type": "markdown",
   "metadata": {},
   "source": [
    "### Executando"
   ]
  },
  {
   "attachments": {},
   "cell_type": "markdown",
   "metadata": {},
   "source": [
    "Exemplo de execução"
   ]
  },
  {
   "cell_type": "code",
   "execution_count": null,
   "metadata": {},
   "outputs": [],
   "source": [
    "./exaustiva < input_files3/input_10000_100.txt > /output_files3/greedy_output_10000_100.txt"
   ]
  },
  {
   "attachments": {},
   "cell_type": "markdown",
   "metadata": {},
   "source": [
    "## Comparação de resultados"
   ]
  },
  {
   "attachments": {},
   "cell_type": "markdown",
   "metadata": {},
   "source": [
    "## Primeiro passo: número de categorias constante"
   ]
  },
  {
   "attachments": {},
   "cell_type": "markdown",
   "metadata": {},
   "source": [
    "### Utilizaremos um número constante (5) de categorias. Os arquivos estão presentes na pasta input_files3"
   ]
  },
  {
   "attachments": {},
   "cell_type": "markdown",
   "metadata": {},
   "source": [
    "O código abaixo é responsável por testar o desempenho de dois algoritmos diferentes - \"exaustiva\" e \"exaustiva_opmp\" - em diferentes arquivos de entrada com diferentes tamanhos de dados. O objetivo é comparar o tempo de execução e o consumo de memória dos dois algoritmos em diferentes cenários.\n",
    "\n",
    "O código cria uma estrutura de dados em forma de dicionário que armazena os resultados de cada teste. Para cada algoritmo e arquivo de entrada, o código executa o algoritmo dez vezes e mede o tempo de execução e o consumo de memória para cada execução. Os resultados são armazenados no dicionário criado anteriormente para posterior análise.\n",
    "\n",
    "O código usa a biblioteca pandas para criar um dataframe que organiza os resultados em uma tabela e a biblioteca matplotlib para plotar gráficos que mostram a comparação de desempenho entre os dois algoritmos em diferentes cenários."
   ]
  },
  {
   "cell_type": "code",
   "execution_count": 3,
   "metadata": {},
   "outputs": [
    {
     "name": "stdout",
     "output_type": "stream",
     "text": [
      "exaustiva - input_10_5.txt - 1/10\n",
      "\tTime: 0.0034973621368408203\n",
      "exaustiva - input_10_5.txt - 2/10\n",
      "\tTime: 0.002354860305786133\n",
      "exaustiva - input_10_5.txt - 3/10\n",
      "\tTime: 0.0023789405822753906\n",
      "exaustiva - input_10_5.txt - 4/10\n",
      "\tTime: 0.002073049545288086\n",
      "exaustiva - input_10_5.txt - 5/10\n",
      "\tTime: 0.0027763843536376953\n",
      "exaustiva - input_10_5.txt - 6/10\n",
      "\tTime: 0.001986980438232422\n",
      "exaustiva - input_10_5.txt - 7/10\n",
      "\tTime: 0.00191497802734375\n",
      "exaustiva - input_10_5.txt - 8/10\n",
      "\tTime: 0.002066373825073242\n",
      "exaustiva - input_10_5.txt - 9/10\n",
      "\tTime: 0.0020394325256347656\n",
      "exaustiva - input_10_5.txt - 10/10\n",
      "\tTime: 0.0021021366119384766\n",
      "exaustiva - input_18_5.txt - 1/10\n",
      "\tTime: 0.005606651306152344\n",
      "exaustiva - input_18_5.txt - 2/10\n",
      "\tTime: 0.005003213882446289\n",
      "exaustiva - input_18_5.txt - 3/10\n",
      "\tTime: 0.004767656326293945\n",
      "exaustiva - input_18_5.txt - 4/10\n",
      "\tTime: 0.005256175994873047\n",
      "exaustiva - input_18_5.txt - 5/10\n",
      "\tTime: 0.005311250686645508\n",
      "exaustiva - input_18_5.txt - 6/10\n",
      "\tTime: 0.005026578903198242\n",
      "exaustiva - input_18_5.txt - 7/10\n",
      "\tTime: 0.00487518310546875\n",
      "exaustiva - input_18_5.txt - 8/10\n",
      "\tTime: 0.004697084426879883\n",
      "exaustiva - input_18_5.txt - 9/10\n",
      "\tTime: 0.004549741744995117\n",
      "exaustiva - input_18_5.txt - 10/10\n",
      "\tTime: 0.004335165023803711\n",
      "exaustiva - input_26_5.txt - 1/10\n",
      "\tTime: 0.12943410873413086\n",
      "exaustiva - input_26_5.txt - 2/10\n",
      "\tTime: 0.1428356170654297\n",
      "exaustiva - input_26_5.txt - 3/10\n",
      "\tTime: 0.12395834922790527\n",
      "exaustiva - input_26_5.txt - 4/10\n",
      "\tTime: 0.1252579689025879\n",
      "exaustiva - input_26_5.txt - 5/10\n",
      "\tTime: 0.14486193656921387\n",
      "exaustiva - input_26_5.txt - 6/10\n",
      "\tTime: 0.13726449012756348\n",
      "exaustiva - input_26_5.txt - 7/10\n",
      "\tTime: 0.1323404312133789\n",
      "exaustiva - input_26_5.txt - 8/10\n",
      "\tTime: 0.14368605613708496\n",
      "exaustiva - input_26_5.txt - 9/10\n",
      "\tTime: 0.1389174461364746\n",
      "exaustiva - input_26_5.txt - 10/10\n",
      "\tTime: 0.13147902488708496\n",
      "exaustiva - input_34_5.txt - 1/10\n",
      "\tTime: 3.1644749641418457\n",
      "exaustiva - input_34_5.txt - 2/10\n",
      "\tTime: 3.3614985942840576\n",
      "exaustiva - input_34_5.txt - 3/10\n",
      "\tTime: 3.46331787109375\n",
      "exaustiva - input_34_5.txt - 4/10\n",
      "\tTime: 3.451845169067383\n",
      "exaustiva - input_34_5.txt - 5/10\n",
      "\tTime: 3.332418203353882\n",
      "exaustiva - input_34_5.txt - 6/10\n",
      "\tTime: 3.283097267150879\n",
      "exaustiva - input_34_5.txt - 7/10\n",
      "\tTime: 3.310790538787842\n",
      "exaustiva - input_34_5.txt - 8/10\n",
      "\tTime: 3.236971139907837\n",
      "exaustiva - input_34_5.txt - 9/10\n",
      "\tTime: 3.299129009246826\n",
      "exaustiva - input_34_5.txt - 10/10\n",
      "\tTime: 3.3230812549591064\n",
      "exaustiva - input_37_5.txt - 1/10\n"
     ]
    },
    {
     "name": "stderr",
     "output_type": "stream",
     "text": [
      "munmap_chunk(): invalid pointer\n",
      "Aborted (core dumped)\n"
     ]
    },
    {
     "name": "stdout",
     "output_type": "stream",
     "text": [
      "\tTime: 11.299115419387817\n",
      "exaustiva - input_37_5.txt - 2/10\n"
     ]
    },
    {
     "name": "stderr",
     "output_type": "stream",
     "text": [
      "munmap_chunk(): invalid pointer\n",
      "Aborted (core dumped)\n"
     ]
    },
    {
     "name": "stdout",
     "output_type": "stream",
     "text": [
      "\tTime: 11.04348611831665\n",
      "exaustiva - input_37_5.txt - 3/10\n"
     ]
    },
    {
     "name": "stderr",
     "output_type": "stream",
     "text": [
      "munmap_chunk(): invalid pointer\n",
      "Aborted (core dumped)\n"
     ]
    },
    {
     "name": "stdout",
     "output_type": "stream",
     "text": [
      "\tTime: 10.979703903198242\n",
      "exaustiva - input_37_5.txt - 4/10\n"
     ]
    },
    {
     "name": "stderr",
     "output_type": "stream",
     "text": [
      "munmap_chunk(): invalid pointer\n",
      "Aborted (core dumped)\n"
     ]
    },
    {
     "name": "stdout",
     "output_type": "stream",
     "text": [
      "\tTime: 10.811034679412842\n",
      "exaustiva - input_37_5.txt - 5/10\n"
     ]
    },
    {
     "name": "stderr",
     "output_type": "stream",
     "text": [
      "munmap_chunk(): invalid pointer\n",
      "Aborted (core dumped)\n"
     ]
    },
    {
     "name": "stdout",
     "output_type": "stream",
     "text": [
      "\tTime: 11.216386318206787\n",
      "exaustiva - input_37_5.txt - 6/10\n"
     ]
    },
    {
     "name": "stderr",
     "output_type": "stream",
     "text": [
      "munmap_chunk(): invalid pointer\n",
      "Aborted (core dumped)\n"
     ]
    },
    {
     "name": "stdout",
     "output_type": "stream",
     "text": [
      "\tTime: 10.906296014785767\n",
      "exaustiva - input_37_5.txt - 7/10\n"
     ]
    },
    {
     "name": "stderr",
     "output_type": "stream",
     "text": [
      "munmap_chunk(): invalid pointer\n",
      "Aborted (core dumped)\n"
     ]
    },
    {
     "name": "stdout",
     "output_type": "stream",
     "text": [
      "\tTime: 10.450919151306152\n",
      "exaustiva - input_37_5.txt - 8/10\n"
     ]
    },
    {
     "name": "stderr",
     "output_type": "stream",
     "text": [
      "munmap_chunk(): invalid pointer\n",
      "Aborted (core dumped)\n"
     ]
    },
    {
     "name": "stdout",
     "output_type": "stream",
     "text": [
      "\tTime: 10.33279538154602\n",
      "exaustiva - input_37_5.txt - 9/10\n"
     ]
    },
    {
     "name": "stderr",
     "output_type": "stream",
     "text": [
      "munmap_chunk(): invalid pointer\n",
      "Aborted (core dumped)\n"
     ]
    },
    {
     "name": "stdout",
     "output_type": "stream",
     "text": [
      "\tTime: 10.20367169380188\n",
      "exaustiva - input_37_5.txt - 10/10\n"
     ]
    },
    {
     "name": "stderr",
     "output_type": "stream",
     "text": [
      "munmap_chunk(): invalid pointer\n",
      "Aborted (core dumped)\n"
     ]
    },
    {
     "name": "stdout",
     "output_type": "stream",
     "text": [
      "\tTime: 10.21893048286438\n",
      "exaustiva - input_40_5.txt - 1/10\n",
      "\tTime: 31.583264589309692\n",
      "exaustiva - input_40_5.txt - 2/10\n",
      "\tTime: 31.356483459472656\n",
      "exaustiva - input_40_5.txt - 3/10\n",
      "\tTime: 31.31810188293457\n",
      "exaustiva - input_40_5.txt - 4/10\n",
      "\tTime: 31.2314395904541\n",
      "exaustiva - input_40_5.txt - 5/10\n",
      "\tTime: 32.039270639419556\n",
      "exaustiva - input_40_5.txt - 6/10\n",
      "\tTime: 31.052801847457886\n",
      "exaustiva - input_40_5.txt - 7/10\n",
      "\tTime: 31.975907564163208\n",
      "exaustiva - input_40_5.txt - 8/10\n",
      "\tTime: 31.907137632369995\n",
      "exaustiva - input_40_5.txt - 9/10\n",
      "\tTime: 31.912662744522095\n",
      "exaustiva - input_40_5.txt - 10/10\n",
      "\tTime: 31.990187883377075\n",
      "exaustiva_opmp - input_10_5.txt - 1/10\n",
      "\tTime: 0.0018749237060546875\n",
      "exaustiva_opmp - input_10_5.txt - 2/10\n",
      "\tTime: 0.0014691352844238281\n",
      "exaustiva_opmp - input_10_5.txt - 3/10\n",
      "\tTime: 0.0014719963073730469\n",
      "exaustiva_opmp - input_10_5.txt - 4/10\n",
      "\tTime: 0.0013959407806396484\n",
      "exaustiva_opmp - input_10_5.txt - 5/10\n",
      "\tTime: 0.0014102458953857422\n",
      "exaustiva_opmp - input_10_5.txt - 6/10\n",
      "\tTime: 0.0014424324035644531\n",
      "exaustiva_opmp - input_10_5.txt - 7/10\n",
      "\tTime: 0.0015609264373779297\n",
      "exaustiva_opmp - input_10_5.txt - 8/10\n",
      "\tTime: 0.0016872882843017578\n",
      "exaustiva_opmp - input_10_5.txt - 9/10\n",
      "\tTime: 0.0014464855194091797\n",
      "exaustiva_opmp - input_10_5.txt - 10/10\n",
      "\tTime: 0.0014772415161132812\n",
      "exaustiva_opmp - input_18_5.txt - 1/10\n",
      "\tTime: 0.003952741622924805\n",
      "exaustiva_opmp - input_18_5.txt - 2/10\n",
      "\tTime: 0.004027128219604492\n",
      "exaustiva_opmp - input_18_5.txt - 3/10\n",
      "\tTime: 0.004159688949584961\n",
      "exaustiva_opmp - input_18_5.txt - 4/10\n",
      "\tTime: 0.004553318023681641\n",
      "exaustiva_opmp - input_18_5.txt - 5/10\n",
      "\tTime: 0.004076957702636719\n",
      "exaustiva_opmp - input_18_5.txt - 6/10\n",
      "\tTime: 0.004172563552856445\n",
      "exaustiva_opmp - input_18_5.txt - 7/10\n",
      "\tTime: 0.004209995269775391\n",
      "exaustiva_opmp - input_18_5.txt - 8/10\n",
      "\tTime: 0.004317045211791992\n",
      "exaustiva_opmp - input_18_5.txt - 9/10\n",
      "\tTime: 0.004112958908081055\n",
      "exaustiva_opmp - input_18_5.txt - 10/10\n",
      "\tTime: 0.004207611083984375\n",
      "exaustiva_opmp - input_26_5.txt - 1/10\n",
      "\tTime: 0.12967896461486816\n",
      "exaustiva_opmp - input_26_5.txt - 2/10\n",
      "\tTime: 0.13869857788085938\n",
      "exaustiva_opmp - input_26_5.txt - 3/10\n",
      "\tTime: 0.13335585594177246\n",
      "exaustiva_opmp - input_26_5.txt - 4/10\n",
      "\tTime: 0.1294269561767578\n",
      "exaustiva_opmp - input_26_5.txt - 5/10\n",
      "\tTime: 0.13001036643981934\n",
      "exaustiva_opmp - input_26_5.txt - 6/10\n",
      "\tTime: 0.12785840034484863\n",
      "exaustiva_opmp - input_26_5.txt - 7/10\n",
      "\tTime: 0.12574315071105957\n",
      "exaustiva_opmp - input_26_5.txt - 8/10\n",
      "\tTime: 0.12757563591003418\n",
      "exaustiva_opmp - input_26_5.txt - 9/10\n",
      "\tTime: 0.1325523853302002\n",
      "exaustiva_opmp - input_26_5.txt - 10/10\n",
      "\tTime: 0.13369297981262207\n",
      "exaustiva_opmp - input_34_5.txt - 1/10\n",
      "\tTime: 3.3623921871185303\n",
      "exaustiva_opmp - input_34_5.txt - 2/10\n",
      "\tTime: 3.0447731018066406\n",
      "exaustiva_opmp - input_34_5.txt - 3/10\n",
      "\tTime: 3.123880386352539\n",
      "exaustiva_opmp - input_34_5.txt - 4/10\n",
      "\tTime: 3.099614381790161\n",
      "exaustiva_opmp - input_34_5.txt - 5/10\n",
      "\tTime: 3.0351643562316895\n",
      "exaustiva_opmp - input_34_5.txt - 6/10\n",
      "\tTime: 3.108278751373291\n",
      "exaustiva_opmp - input_34_5.txt - 7/10\n",
      "\tTime: 3.0993945598602295\n",
      "exaustiva_opmp - input_34_5.txt - 8/10\n",
      "\tTime: 3.0609679222106934\n",
      "exaustiva_opmp - input_34_5.txt - 9/10\n",
      "\tTime: 3.0698063373565674\n",
      "exaustiva_opmp - input_34_5.txt - 10/10\n",
      "\tTime: 3.1437366008758545\n",
      "exaustiva_opmp - input_37_5.txt - 1/10\n"
     ]
    },
    {
     "name": "stderr",
     "output_type": "stream",
     "text": [
      "munmap_chunk(): invalid pointer\n",
      "Aborted (core dumped)\n"
     ]
    },
    {
     "name": "stdout",
     "output_type": "stream",
     "text": [
      "\tTime: 10.358728170394897\n",
      "exaustiva_opmp - input_37_5.txt - 2/10\n"
     ]
    },
    {
     "name": "stderr",
     "output_type": "stream",
     "text": [
      "munmap_chunk(): invalid pointer\n",
      "Aborted (core dumped)\n"
     ]
    },
    {
     "name": "stdout",
     "output_type": "stream",
     "text": [
      "\tTime: 10.428939580917358\n",
      "exaustiva_opmp - input_37_5.txt - 3/10\n"
     ]
    },
    {
     "name": "stderr",
     "output_type": "stream",
     "text": [
      "munmap_chunk(): invalid pointer\n",
      "Aborted (core dumped)\n"
     ]
    },
    {
     "name": "stdout",
     "output_type": "stream",
     "text": [
      "\tTime: 10.148204803466797\n",
      "exaustiva_opmp - input_37_5.txt - 4/10\n"
     ]
    },
    {
     "name": "stderr",
     "output_type": "stream",
     "text": [
      "munmap_chunk(): invalid pointer\n",
      "Aborted (core dumped)\n"
     ]
    },
    {
     "name": "stdout",
     "output_type": "stream",
     "text": [
      "\tTime: 10.471796989440918\n",
      "exaustiva_opmp - input_37_5.txt - 5/10\n"
     ]
    },
    {
     "name": "stderr",
     "output_type": "stream",
     "text": [
      "munmap_chunk(): invalid pointer\n",
      "Aborted (core dumped)\n"
     ]
    },
    {
     "name": "stdout",
     "output_type": "stream",
     "text": [
      "\tTime: 10.200795650482178\n",
      "exaustiva_opmp - input_37_5.txt - 6/10\n"
     ]
    },
    {
     "name": "stderr",
     "output_type": "stream",
     "text": [
      "munmap_chunk(): invalid pointer\n",
      "Aborted (core dumped)\n"
     ]
    },
    {
     "name": "stdout",
     "output_type": "stream",
     "text": [
      "\tTime: 10.063575983047485\n",
      "exaustiva_opmp - input_37_5.txt - 7/10\n"
     ]
    },
    {
     "name": "stderr",
     "output_type": "stream",
     "text": [
      "munmap_chunk(): invalid pointer\n",
      "Aborted (core dumped)\n"
     ]
    },
    {
     "name": "stdout",
     "output_type": "stream",
     "text": [
      "\tTime: 10.140214681625366\n",
      "exaustiva_opmp - input_37_5.txt - 8/10\n"
     ]
    },
    {
     "name": "stderr",
     "output_type": "stream",
     "text": [
      "munmap_chunk(): invalid pointer\n",
      "Aborted (core dumped)\n"
     ]
    },
    {
     "name": "stdout",
     "output_type": "stream",
     "text": [
      "\tTime: 10.382621049880981\n",
      "exaustiva_opmp - input_37_5.txt - 9/10\n"
     ]
    },
    {
     "name": "stderr",
     "output_type": "stream",
     "text": [
      "munmap_chunk(): invalid pointer\n",
      "Aborted (core dumped)\n"
     ]
    },
    {
     "name": "stdout",
     "output_type": "stream",
     "text": [
      "\tTime: 10.34472942352295\n",
      "exaustiva_opmp - input_37_5.txt - 10/10\n"
     ]
    },
    {
     "name": "stderr",
     "output_type": "stream",
     "text": [
      "munmap_chunk(): invalid pointer\n",
      "Aborted (core dumped)\n"
     ]
    },
    {
     "name": "stdout",
     "output_type": "stream",
     "text": [
      "\tTime: 10.185963153839111\n",
      "exaustiva_opmp - input_40_5.txt - 1/10\n",
      "\tTime: 31.382986307144165\n",
      "exaustiva_opmp - input_40_5.txt - 2/10\n",
      "\tTime: 31.82225203514099\n",
      "exaustiva_opmp - input_40_5.txt - 3/10\n",
      "\tTime: 31.021443128585815\n",
      "exaustiva_opmp - input_40_5.txt - 4/10\n",
      "\tTime: 32.87273049354553\n",
      "exaustiva_opmp - input_40_5.txt - 5/10\n",
      "\tTime: 30.95489740371704\n",
      "exaustiva_opmp - input_40_5.txt - 6/10\n",
      "\tTime: 31.027554988861084\n",
      "exaustiva_opmp - input_40_5.txt - 7/10\n",
      "\tTime: 32.42505764961243\n",
      "exaustiva_opmp - input_40_5.txt - 8/10\n",
      "\tTime: 31.039724826812744\n",
      "exaustiva_opmp - input_40_5.txt - 9/10\n",
      "\tTime: 31.012996196746826\n",
      "exaustiva_opmp - input_40_5.txt - 10/10\n",
      "\tTime: 30.91445779800415\n"
     ]
    }
   ],
   "source": [
    "import time\n",
    "import subprocess\n",
    "\n",
    "algorithms = ['exaustiva', 'exaustiva_opmp']\n",
    "file_sizes = ['input_10_5.txt', 'input_18_5.txt', 'input_26_5.txt', 'input_34_5.txt', 'input_37_5.txt', 'input_40_5.txt']\n",
    "\n",
    "data3 = {algo: {file: {'tempo': [], 'memoria': []} for file in file_sizes} for algo in algorithms}\n",
    "\n",
    "def number_of_movies(file):\n",
    "    with open(file, 'r') as f:\n",
    "        line = f.readline().split()\n",
    "        return int(line[0])\n",
    "    \n",
    "for algorithm, files in data3.items():\n",
    "    for file_name, measurements in files.items():\n",
    "        for i in range(10):\n",
    "            print(f\"{algorithm} - {file_name} - {i+1}/10\")\n",
    "            output_name = f\"{i}_{file_name.split('.')[0]}\"\n",
    "            start_time = time.time()\n",
    "            subprocess.run(f'./{algorithm} < input_files3/{file_name} > output_files3/{algorithm}_output_{output_name}', shell=True)\n",
    "            #!./{algorithm} < input_files1/{file_name} > output_files1/{algorithm}_output_{output_name}\n",
    "            end_time = time.time() - start_time\n",
    "            print(f\"\\tTime: {end_time}\")\n",
    "            measurements[\"tempo\"].append(end_time)\n",
    "            measurements[\"memoria\"].append(number_of_movies(f\"output_files3/{algorithm}_output_{output_name}\"))"
   ]
  },
  {
   "attachments": {},
   "cell_type": "markdown",
   "metadata": {},
   "source": [
    "Agora salvaremos o resultado em um json"
   ]
  },
  {
   "cell_type": "code",
   "execution_count": 4,
   "metadata": {},
   "outputs": [],
   "source": [
    "import json\n",
    "\n",
    "with open('data3.json', 'w') as fp:\n",
    "    json.dump(json.dumps(data3, indent=2), fp)"
   ]
  },
  {
   "attachments": {},
   "cell_type": "markdown",
   "metadata": {},
   "source": [
    "Gerando o DataFrame para ser utilizado no gráfico"
   ]
  },
  {
   "cell_type": "code",
   "execution_count": 5,
   "metadata": {},
   "outputs": [
    {
     "data": {
      "text/html": [
       "<div>\n",
       "<style scoped>\n",
       "    .dataframe tbody tr th:only-of-type {\n",
       "        vertical-align: middle;\n",
       "    }\n",
       "\n",
       "    .dataframe tbody tr th {\n",
       "        vertical-align: top;\n",
       "    }\n",
       "\n",
       "    .dataframe thead th {\n",
       "        text-align: right;\n",
       "    }\n",
       "</style>\n",
       "<table border=\"1\" class=\"dataframe\">\n",
       "  <thead>\n",
       "    <tr style=\"text-align: right;\">\n",
       "      <th></th>\n",
       "      <th>algorithm</th>\n",
       "      <th>file</th>\n",
       "      <th>iteration</th>\n",
       "      <th>tempo</th>\n",
       "      <th>memoria</th>\n",
       "    </tr>\n",
       "  </thead>\n",
       "  <tbody>\n",
       "    <tr>\n",
       "      <th>0</th>\n",
       "      <td>exaustiva</td>\n",
       "      <td>input_10_5.txt</td>\n",
       "      <td>1</td>\n",
       "      <td>0.003497</td>\n",
       "      <td>6</td>\n",
       "    </tr>\n",
       "    <tr>\n",
       "      <th>0</th>\n",
       "      <td>exaustiva</td>\n",
       "      <td>input_10_5.txt</td>\n",
       "      <td>2</td>\n",
       "      <td>0.002355</td>\n",
       "      <td>6</td>\n",
       "    </tr>\n",
       "    <tr>\n",
       "      <th>0</th>\n",
       "      <td>exaustiva</td>\n",
       "      <td>input_10_5.txt</td>\n",
       "      <td>3</td>\n",
       "      <td>0.002379</td>\n",
       "      <td>6</td>\n",
       "    </tr>\n",
       "    <tr>\n",
       "      <th>0</th>\n",
       "      <td>exaustiva</td>\n",
       "      <td>input_10_5.txt</td>\n",
       "      <td>4</td>\n",
       "      <td>0.002073</td>\n",
       "      <td>6</td>\n",
       "    </tr>\n",
       "    <tr>\n",
       "      <th>0</th>\n",
       "      <td>exaustiva</td>\n",
       "      <td>input_10_5.txt</td>\n",
       "      <td>5</td>\n",
       "      <td>0.002776</td>\n",
       "      <td>6</td>\n",
       "    </tr>\n",
       "    <tr>\n",
       "      <th>...</th>\n",
       "      <td>...</td>\n",
       "      <td>...</td>\n",
       "      <td>...</td>\n",
       "      <td>...</td>\n",
       "      <td>...</td>\n",
       "    </tr>\n",
       "    <tr>\n",
       "      <th>0</th>\n",
       "      <td>exaustiva_opmp</td>\n",
       "      <td>input_40_5.txt</td>\n",
       "      <td>6</td>\n",
       "      <td>31.027555</td>\n",
       "      <td>18</td>\n",
       "    </tr>\n",
       "    <tr>\n",
       "      <th>0</th>\n",
       "      <td>exaustiva_opmp</td>\n",
       "      <td>input_40_5.txt</td>\n",
       "      <td>7</td>\n",
       "      <td>32.425058</td>\n",
       "      <td>21</td>\n",
       "    </tr>\n",
       "    <tr>\n",
       "      <th>0</th>\n",
       "      <td>exaustiva_opmp</td>\n",
       "      <td>input_40_5.txt</td>\n",
       "      <td>8</td>\n",
       "      <td>31.039725</td>\n",
       "      <td>19</td>\n",
       "    </tr>\n",
       "    <tr>\n",
       "      <th>0</th>\n",
       "      <td>exaustiva_opmp</td>\n",
       "      <td>input_40_5.txt</td>\n",
       "      <td>9</td>\n",
       "      <td>31.012996</td>\n",
       "      <td>15</td>\n",
       "    </tr>\n",
       "    <tr>\n",
       "      <th>0</th>\n",
       "      <td>exaustiva_opmp</td>\n",
       "      <td>input_40_5.txt</td>\n",
       "      <td>10</td>\n",
       "      <td>30.914458</td>\n",
       "      <td>21</td>\n",
       "    </tr>\n",
       "  </tbody>\n",
       "</table>\n",
       "<p>120 rows × 5 columns</p>\n",
       "</div>"
      ],
      "text/plain": [
       "         algorithm            file iteration      tempo memoria\n",
       "0        exaustiva  input_10_5.txt         1   0.003497       6\n",
       "0        exaustiva  input_10_5.txt         2   0.002355       6\n",
       "0        exaustiva  input_10_5.txt         3   0.002379       6\n",
       "0        exaustiva  input_10_5.txt         4   0.002073       6\n",
       "0        exaustiva  input_10_5.txt         5   0.002776       6\n",
       "..             ...             ...       ...        ...     ...\n",
       "0   exaustiva_opmp  input_40_5.txt         6  31.027555      18\n",
       "0   exaustiva_opmp  input_40_5.txt         7  32.425058      21\n",
       "0   exaustiva_opmp  input_40_5.txt         8  31.039725      19\n",
       "0   exaustiva_opmp  input_40_5.txt         9  31.012996      15\n",
       "0   exaustiva_opmp  input_40_5.txt        10  30.914458      21\n",
       "\n",
       "[120 rows x 5 columns]"
      ]
     },
     "execution_count": 5,
     "metadata": {},
     "output_type": "execute_result"
    }
   ],
   "source": [
    "import pandas as pd\n",
    "\n",
    "df3 = pd.DataFrame(columns=['algorithm', 'file', 'iteration', 'tempo', 'memoria'])\n",
    "\n",
    "for algorithm in data3:\n",
    "    for arquivo in data3[algorithm]:\n",
    "        for i in range(10):\n",
    "            df3 = pd.concat([df3, pd.DataFrame({\n",
    "                'algorithm': [algorithm],\n",
    "                'file': [arquivo],\n",
    "                'iteration': [i+1],\n",
    "                'tempo': [data3[algorithm][arquivo]['tempo'][i]],\n",
    "                'memoria': [data3[algorithm][arquivo]['memoria'][i]]\n",
    "            })])\n",
    "\n",
    "df3"
   ]
  },
  {
   "cell_type": "code",
   "execution_count": 6,
   "metadata": {},
   "outputs": [],
   "source": [
    "df3.to_csv('data3.csv', index=False)"
   ]
  },
  {
   "attachments": {},
   "cell_type": "markdown",
   "metadata": {},
   "source": [
    "### Gŕafico de tempo"
   ]
  },
  {
   "cell_type": "code",
   "execution_count": 7,
   "metadata": {},
   "outputs": [],
   "source": [
    "df_mean3 = df3.groupby(['algorithm', 'file']).mean(numeric_only=True).reset_index()\n",
    "df_mean3.sort_values(by=['tempo'], inplace=True)\n"
   ]
  },
  {
   "cell_type": "code",
   "execution_count": 8,
   "metadata": {},
   "outputs": [
    {
     "data": {
      "text/html": [
       "<div>\n",
       "<style scoped>\n",
       "    .dataframe tbody tr th:only-of-type {\n",
       "        vertical-align: middle;\n",
       "    }\n",
       "\n",
       "    .dataframe tbody tr th {\n",
       "        vertical-align: top;\n",
       "    }\n",
       "\n",
       "    .dataframe thead th {\n",
       "        text-align: right;\n",
       "    }\n",
       "</style>\n",
       "<table border=\"1\" class=\"dataframe\">\n",
       "  <thead>\n",
       "    <tr style=\"text-align: right;\">\n",
       "      <th></th>\n",
       "      <th>algorithm</th>\n",
       "      <th>file</th>\n",
       "      <th>tempo</th>\n",
       "    </tr>\n",
       "  </thead>\n",
       "  <tbody>\n",
       "    <tr>\n",
       "      <th>6</th>\n",
       "      <td>exaustiva_opmp</td>\n",
       "      <td>input_10_5.txt</td>\n",
       "      <td>0.001524</td>\n",
       "    </tr>\n",
       "    <tr>\n",
       "      <th>0</th>\n",
       "      <td>exaustiva</td>\n",
       "      <td>input_10_5.txt</td>\n",
       "      <td>0.002319</td>\n",
       "    </tr>\n",
       "    <tr>\n",
       "      <th>7</th>\n",
       "      <td>exaustiva_opmp</td>\n",
       "      <td>input_18_5.txt</td>\n",
       "      <td>0.004179</td>\n",
       "    </tr>\n",
       "    <tr>\n",
       "      <th>1</th>\n",
       "      <td>exaustiva</td>\n",
       "      <td>input_18_5.txt</td>\n",
       "      <td>0.004943</td>\n",
       "    </tr>\n",
       "    <tr>\n",
       "      <th>8</th>\n",
       "      <td>exaustiva_opmp</td>\n",
       "      <td>input_26_5.txt</td>\n",
       "      <td>0.130859</td>\n",
       "    </tr>\n",
       "    <tr>\n",
       "      <th>2</th>\n",
       "      <td>exaustiva</td>\n",
       "      <td>input_26_5.txt</td>\n",
       "      <td>0.135004</td>\n",
       "    </tr>\n",
       "    <tr>\n",
       "      <th>9</th>\n",
       "      <td>exaustiva_opmp</td>\n",
       "      <td>input_34_5.txt</td>\n",
       "      <td>3.114801</td>\n",
       "    </tr>\n",
       "    <tr>\n",
       "      <th>3</th>\n",
       "      <td>exaustiva</td>\n",
       "      <td>input_34_5.txt</td>\n",
       "      <td>3.322662</td>\n",
       "    </tr>\n",
       "    <tr>\n",
       "      <th>10</th>\n",
       "      <td>exaustiva_opmp</td>\n",
       "      <td>input_37_5.txt</td>\n",
       "      <td>10.272557</td>\n",
       "    </tr>\n",
       "    <tr>\n",
       "      <th>4</th>\n",
       "      <td>exaustiva</td>\n",
       "      <td>input_37_5.txt</td>\n",
       "      <td>10.746234</td>\n",
       "    </tr>\n",
       "    <tr>\n",
       "      <th>11</th>\n",
       "      <td>exaustiva_opmp</td>\n",
       "      <td>input_40_5.txt</td>\n",
       "      <td>31.447410</td>\n",
       "    </tr>\n",
       "    <tr>\n",
       "      <th>5</th>\n",
       "      <td>exaustiva</td>\n",
       "      <td>input_40_5.txt</td>\n",
       "      <td>31.636726</td>\n",
       "    </tr>\n",
       "  </tbody>\n",
       "</table>\n",
       "</div>"
      ],
      "text/plain": [
       "         algorithm            file      tempo\n",
       "6   exaustiva_opmp  input_10_5.txt   0.001524\n",
       "0        exaustiva  input_10_5.txt   0.002319\n",
       "7   exaustiva_opmp  input_18_5.txt   0.004179\n",
       "1        exaustiva  input_18_5.txt   0.004943\n",
       "8   exaustiva_opmp  input_26_5.txt   0.130859\n",
       "2        exaustiva  input_26_5.txt   0.135004\n",
       "9   exaustiva_opmp  input_34_5.txt   3.114801\n",
       "3        exaustiva  input_34_5.txt   3.322662\n",
       "10  exaustiva_opmp  input_37_5.txt  10.272557\n",
       "4        exaustiva  input_37_5.txt  10.746234\n",
       "11  exaustiva_opmp  input_40_5.txt  31.447410\n",
       "5        exaustiva  input_40_5.txt  31.636726"
      ]
     },
     "execution_count": 8,
     "metadata": {},
     "output_type": "execute_result"
    }
   ],
   "source": [
    "df_mean3"
   ]
  },
  {
   "cell_type": "code",
   "execution_count": 9,
   "metadata": {},
   "outputs": [
    {
     "data": {
      "image/png": "[encoded data removed]",
      "text/plain": [
       "<Figure size 1200x500 with 1 Axes>"
      ]
     },
     "metadata": {},
     "output_type": "display_data"
    }
   ],
   "source": [
    "import matplotlib.pyplot as plt\n",
    "\n",
    "fig, ax = plt.subplots(figsize=(12, 5))\n",
    "for algorithm in df_mean3['algorithm'].unique():\n",
    "    df_aux3 = df_mean3[df_mean3['algorithm'] == algorithm]\n",
    "    ax.plot(df_aux3['file'], df_aux3['tempo'], label=algorithm)\n",
    "\n",
    "ax.set_title('Time of each algorith by file')\n",
    "ax.set_xlabel('File')\n",
    "ax.set_ylabel('Time (s)')\n",
    "ax.legend()\n",
    "plt.show()"
   ]
  },
  {
   "attachments": {},
   "cell_type": "markdown",
   "metadata": {},
   "source": [
    "Embora apresentem abordagens diferentes, esses algoritmos podem apresentar tempos de execução bastante próximos, especialmente quando se trata de inputs relativamente pequenos, pois não há muitas variações a serem exploradas. No entanto, à medida que o tamanho do input aumenta, a heurística gulosa tende a se tornar mais lenta em relação à abordagem aleatorizada.\n",
    "\n",
    "Isso ocorre porque, à medida que o input aumenta, a heurística gulosa pode ficar presa em soluções locais ótimas, sem conseguir explorar outras alternativas que possam levar a soluções melhores. Já a heurística aleatorizada, por sua vez, pode explorar diferentes caminhos aleatórios, o que aumenta a probabilidade de encontrar soluções melhores, ainda que isso possa levar mais tempo."
   ]
  },
  {
   "attachments": {},
   "cell_type": "markdown",
   "metadata": {},
   "source": [
    "### Gráfico de filmes por input"
   ]
  },
  {
   "cell_type": "code",
   "execution_count": 11,
   "metadata": {},
   "outputs": [],
   "source": [
    "df_mean_movies3 = df3.drop(columns=['tempo','iteration'])\n",
    "df_mean_movies3 = df_mean_movies3.groupby(['algorithm', 'file']).mean().reset_index()\n",
    "order_files3 = list(data3['exaustiva'].keys())\n",
    "\n",
    "df_mean_movies3['file'] = pd.Categorical(df_mean_movies3['file'], categories=order_files3, ordered=True)\n",
    "df_mean_movies = df_mean_movies3.sort_values(by=['file'])\n"
   ]
  },
  {
   "cell_type": "code",
   "execution_count": 12,
   "metadata": {},
   "outputs": [
    {
     "data": {
      "image/png": "[encoded data removed]",
      "text/plain": [
       "<Figure size 1000x500 with 1 Axes>"
      ]
     },
     "metadata": {},
     "output_type": "display_data"
    }
   ],
   "source": [
    "fig, ax = plt.subplots(figsize=(10, 5))\n",
    "\n",
    "for algorithm in df_mean_movies3['algorithm'].unique():\n",
    "    df_aux3 = df_mean_movies3[df_mean_movies3['algorithm'] == algorithm]\n",
    "    ax.plot(df_aux3['file'], df_aux3['memoria'], label=algorithm)\n",
    "\n",
    "ax.set_title('Movies for each file')\n",
    "ax.set_xlabel('file')\n",
    "ax.set_ylabel('# movies')\n",
    "ax.legend()\n",
    "plt.show()"
   ]
  },
  {
   "attachments": {},
   "cell_type": "markdown",
   "metadata": {},
   "source": [
    "No gráfico que mostra a relação entre o número de filmes no input e a estratégia utilizada para a resolução do problema da Mochila de Filmes, é possível observar que a estratégia gulosa apresenta uma vantagem significativa em cenários com maior quantidade de filmes. Isso se deve ao fato de que a estratégia gulosa percorre todos os filmes disponíveis para selecionar os que melhor se encaixam na Mochila de Filmes. Por outro lado, a abordagem aleatória escolhe um filme aleatoriamente e tenta inseri-lo na mochila, sem necessariamente considerar todos os outros filmes disponíveis."
   ]
  },
  {
   "attachments": {},
   "cell_type": "markdown",
   "metadata": {},
   "source": [
    "## Segundo passo: número de filmes constante"
   ]
  },
  {
   "attachments": {},
   "cell_type": "markdown",
   "metadata": {},
   "source": [
    "### Utilizaremos um número constante (20) de filmes. Os arquivos estão presentes na pasta input_files4"
   ]
  },
  {
   "attachments": {},
   "cell_type": "markdown",
   "metadata": {},
   "source": [
    "Seguindo a mesma lógica do primeiro passo, teremos:"
   ]
  },
  {
   "cell_type": "code",
   "execution_count": 18,
   "metadata": {},
   "outputs": [
    {
     "name": "stdout",
     "output_type": "stream",
     "text": [
      "exaustiva - input_30_1.txt - 1/10\n"
     ]
    },
    {
     "name": "stderr",
     "output_type": "stream",
     "text": [
      "munmap_chunk(): invalid pointer\n",
      "Aborted (core dumped)\n"
     ]
    },
    {
     "name": "stdout",
     "output_type": "stream",
     "text": [
      "\tTime: 1.0398681163787842\n",
      "exaustiva - input_30_1.txt - 2/10\n"
     ]
    },
    {
     "name": "stderr",
     "output_type": "stream",
     "text": [
      "munmap_chunk(): invalid pointer\n",
      "Aborted (core dumped)\n"
     ]
    },
    {
     "name": "stdout",
     "output_type": "stream",
     "text": [
      "\tTime: 1.0904831886291504\n",
      "exaustiva - input_30_1.txt - 3/10\n"
     ]
    },
    {
     "name": "stderr",
     "output_type": "stream",
     "text": [
      "munmap_chunk(): invalid pointer\n",
      "Aborted (core dumped)\n"
     ]
    },
    {
     "name": "stdout",
     "output_type": "stream",
     "text": [
      "\tTime: 1.0091452598571777\n",
      "exaustiva - input_30_1.txt - 4/10\n"
     ]
    },
    {
     "name": "stderr",
     "output_type": "stream",
     "text": [
      "munmap_chunk(): invalid pointer\n",
      "Aborted (core dumped)\n"
     ]
    },
    {
     "name": "stdout",
     "output_type": "stream",
     "text": [
      "\tTime: 0.9500596523284912\n",
      "exaustiva - input_30_1.txt - 5/10\n"
     ]
    },
    {
     "name": "stderr",
     "output_type": "stream",
     "text": [
      "munmap_chunk(): invalid pointer\n",
      "Aborted (core dumped)\n"
     ]
    },
    {
     "name": "stdout",
     "output_type": "stream",
     "text": [
      "\tTime: 0.9530880451202393\n",
      "exaustiva - input_30_1.txt - 6/10\n"
     ]
    },
    {
     "name": "stderr",
     "output_type": "stream",
     "text": [
      "munmap_chunk(): invalid pointer\n",
      "Aborted (core dumped)\n"
     ]
    },
    {
     "name": "stdout",
     "output_type": "stream",
     "text": [
      "\tTime: 0.937999963760376\n",
      "exaustiva - input_30_1.txt - 7/10\n"
     ]
    },
    {
     "name": "stderr",
     "output_type": "stream",
     "text": [
      "munmap_chunk(): invalid pointer\n",
      "Aborted (core dumped)\n"
     ]
    },
    {
     "name": "stdout",
     "output_type": "stream",
     "text": [
      "\tTime: 1.0686323642730713\n",
      "exaustiva - input_30_1.txt - 8/10\n"
     ]
    },
    {
     "name": "stderr",
     "output_type": "stream",
     "text": [
      "munmap_chunk(): invalid pointer\n",
      "Aborted (core dumped)\n"
     ]
    },
    {
     "name": "stdout",
     "output_type": "stream",
     "text": [
      "\tTime: 0.9399888515472412\n",
      "exaustiva - input_30_1.txt - 9/10\n"
     ]
    },
    {
     "name": "stderr",
     "output_type": "stream",
     "text": [
      "munmap_chunk(): invalid pointer\n",
      "Aborted (core dumped)\n"
     ]
    },
    {
     "name": "stdout",
     "output_type": "stream",
     "text": [
      "\tTime: 1.037057638168335\n",
      "exaustiva - input_30_1.txt - 10/10\n"
     ]
    },
    {
     "name": "stderr",
     "output_type": "stream",
     "text": [
      "munmap_chunk(): invalid pointer\n",
      "Aborted (core dumped)\n"
     ]
    },
    {
     "name": "stdout",
     "output_type": "stream",
     "text": [
      "\tTime: 1.0003230571746826\n",
      "exaustiva - input_30_3.txt - 1/10\n",
      "\tTime: 0.0023674964904785156\n",
      "exaustiva - input_30_3.txt - 2/10\n",
      "\tTime: 0.002272367477416992\n",
      "exaustiva - input_30_3.txt - 3/10\n",
      "\tTime: 0.002095937728881836\n",
      "exaustiva - input_30_3.txt - 4/10\n",
      "\tTime: 0.002080202102661133\n",
      "exaustiva - input_30_3.txt - 5/10\n",
      "\tTime: 0.0020592212677001953\n",
      "exaustiva - input_30_3.txt - 6/10\n",
      "\tTime: 0.002081632614135742\n",
      "exaustiva - input_30_3.txt - 7/10\n",
      "\tTime: 0.002042531967163086\n",
      "exaustiva - input_30_3.txt - 8/10\n",
      "\tTime: 0.0022199153900146484\n",
      "exaustiva - input_30_3.txt - 9/10\n",
      "\tTime: 0.002279996871948242\n",
      "exaustiva - input_30_3.txt - 10/10\n",
      "\tTime: 0.0021049976348876953\n",
      "exaustiva - input_30_5.txt - 1/10\n",
      "\tTime: 0.431931734085083\n",
      "exaustiva - input_30_5.txt - 2/10\n",
      "\tTime: 0.421722412109375\n",
      "exaustiva - input_30_5.txt - 3/10\n",
      "\tTime: 0.445448637008667\n",
      "exaustiva - input_30_5.txt - 4/10\n",
      "\tTime: 0.42661190032958984\n",
      "exaustiva - input_30_5.txt - 5/10\n",
      "\tTime: 0.45322299003601074\n",
      "exaustiva - input_30_5.txt - 6/10\n",
      "\tTime: 0.4401679039001465\n",
      "exaustiva - input_30_5.txt - 7/10\n",
      "\tTime: 0.4712092876434326\n",
      "exaustiva - input_30_5.txt - 8/10\n",
      "\tTime: 0.49912023544311523\n",
      "exaustiva - input_30_5.txt - 9/10\n",
      "\tTime: 0.441162109375\n",
      "exaustiva - input_30_5.txt - 10/10\n",
      "\tTime: 0.4355430603027344\n",
      "exaustiva - input_30_8.txt - 1/10\n"
     ]
    },
    {
     "name": "stderr",
     "output_type": "stream",
     "text": [
      "munmap_chunk(): invalid pointer\n",
      "Aborted (core dumped)\n"
     ]
    },
    {
     "name": "stdout",
     "output_type": "stream",
     "text": [
      "\tTime: 0.25019359588623047\n",
      "exaustiva - input_30_8.txt - 2/10\n"
     ]
    },
    {
     "name": "stderr",
     "output_type": "stream",
     "text": [
      "munmap_chunk(): invalid pointer\n",
      "Aborted (core dumped)\n"
     ]
    },
    {
     "name": "stdout",
     "output_type": "stream",
     "text": [
      "\tTime: 0.296680212020874\n",
      "exaustiva - input_30_8.txt - 3/10\n"
     ]
    },
    {
     "name": "stderr",
     "output_type": "stream",
     "text": [
      "munmap_chunk(): invalid pointer\n",
      "Aborted (core dumped)\n"
     ]
    },
    {
     "name": "stdout",
     "output_type": "stream",
     "text": [
      "\tTime: 0.3076639175415039\n",
      "exaustiva - input_30_8.txt - 4/10\n"
     ]
    },
    {
     "name": "stderr",
     "output_type": "stream",
     "text": [
      "munmap_chunk(): invalid pointer\n",
      "Aborted (core dumped)\n"
     ]
    },
    {
     "name": "stdout",
     "output_type": "stream",
     "text": [
      "\tTime: 0.27150678634643555\n",
      "exaustiva - input_30_8.txt - 5/10\n"
     ]
    },
    {
     "name": "stderr",
     "output_type": "stream",
     "text": [
      "munmap_chunk(): invalid pointer\n",
      "Aborted (core dumped)\n"
     ]
    },
    {
     "name": "stdout",
     "output_type": "stream",
     "text": [
      "\tTime: 0.29459619522094727\n",
      "exaustiva - input_30_8.txt - 6/10\n"
     ]
    },
    {
     "name": "stderr",
     "output_type": "stream",
     "text": [
      "munmap_chunk(): invalid pointer\n",
      "Aborted (core dumped)\n"
     ]
    },
    {
     "name": "stdout",
     "output_type": "stream",
     "text": [
      "\tTime: 0.28774333000183105\n",
      "exaustiva - input_30_8.txt - 7/10\n"
     ]
    },
    {
     "name": "stderr",
     "output_type": "stream",
     "text": [
      "munmap_chunk(): invalid pointer\n",
      "Aborted (core dumped)\n"
     ]
    },
    {
     "name": "stdout",
     "output_type": "stream",
     "text": [
      "\tTime: 0.37270236015319824\n",
      "exaustiva - input_30_8.txt - 8/10\n"
     ]
    },
    {
     "name": "stderr",
     "output_type": "stream",
     "text": [
      "munmap_chunk(): invalid pointer\n",
      "Aborted (core dumped)\n"
     ]
    },
    {
     "name": "stdout",
     "output_type": "stream",
     "text": [
      "\tTime: 0.2555062770843506\n",
      "exaustiva - input_30_8.txt - 9/10\n"
     ]
    },
    {
     "name": "stderr",
     "output_type": "stream",
     "text": [
      "munmap_chunk(): invalid pointer\n",
      "Aborted (core dumped)\n"
     ]
    },
    {
     "name": "stdout",
     "output_type": "stream",
     "text": [
      "\tTime: 0.2821018695831299\n",
      "exaustiva - input_30_8.txt - 10/10\n"
     ]
    },
    {
     "name": "stderr",
     "output_type": "stream",
     "text": [
      "munmap_chunk(): invalid pointer\n",
      "Aborted (core dumped)\n"
     ]
    },
    {
     "name": "stdout",
     "output_type": "stream",
     "text": [
      "\tTime: 0.3475167751312256\n",
      "exaustiva - input_30_10.txt - 1/10\n",
      "\tTime: 0.13063335418701172\n",
      "exaustiva - input_30_10.txt - 2/10\n",
      "\tTime: 0.12373733520507812\n",
      "exaustiva - input_30_10.txt - 3/10\n",
      "\tTime: 0.11467695236206055\n",
      "exaustiva - input_30_10.txt - 4/10\n",
      "\tTime: 0.11186766624450684\n",
      "exaustiva - input_30_10.txt - 5/10\n",
      "\tTime: 0.10945463180541992\n",
      "exaustiva - input_30_10.txt - 6/10\n",
      "\tTime: 0.10626983642578125\n",
      "exaustiva - input_30_10.txt - 7/10\n",
      "\tTime: 0.11173248291015625\n",
      "exaustiva - input_30_10.txt - 8/10\n",
      "\tTime: 0.11930131912231445\n",
      "exaustiva - input_30_10.txt - 9/10\n",
      "\tTime: 0.1679244041442871\n",
      "exaustiva - input_30_10.txt - 10/10\n",
      "\tTime: 0.12091183662414551\n",
      "exaustiva_opmp - input_30_1.txt - 1/10\n"
     ]
    },
    {
     "name": "stderr",
     "output_type": "stream",
     "text": [
      "munmap_chunk(): invalid pointer\n",
      "Aborted (core dumped)\n"
     ]
    },
    {
     "name": "stdout",
     "output_type": "stream",
     "text": [
      "\tTime: 1.0578560829162598\n",
      "exaustiva_opmp - input_30_1.txt - 2/10\n"
     ]
    },
    {
     "name": "stderr",
     "output_type": "stream",
     "text": [
      "munmap_chunk(): invalid pointer\n",
      "Aborted (core dumped)\n"
     ]
    },
    {
     "name": "stdout",
     "output_type": "stream",
     "text": [
      "\tTime: 1.028817892074585\n",
      "exaustiva_opmp - input_30_1.txt - 3/10\n"
     ]
    },
    {
     "name": "stderr",
     "output_type": "stream",
     "text": [
      "munmap_chunk(): invalid pointer\n",
      "Aborted (core dumped)\n"
     ]
    },
    {
     "name": "stdout",
     "output_type": "stream",
     "text": [
      "\tTime: 1.0077128410339355\n",
      "exaustiva_opmp - input_30_1.txt - 4/10\n"
     ]
    },
    {
     "name": "stderr",
     "output_type": "stream",
     "text": [
      "munmap_chunk(): invalid pointer\n",
      "Aborted (core dumped)\n"
     ]
    },
    {
     "name": "stdout",
     "output_type": "stream",
     "text": [
      "\tTime: 1.085057020187378\n",
      "exaustiva_opmp - input_30_1.txt - 5/10\n"
     ]
    },
    {
     "name": "stderr",
     "output_type": "stream",
     "text": [
      "munmap_chunk(): invalid pointer\n",
      "Aborted (core dumped)\n"
     ]
    },
    {
     "name": "stdout",
     "output_type": "stream",
     "text": [
      "\tTime: 1.0784130096435547\n",
      "exaustiva_opmp - input_30_1.txt - 6/10\n"
     ]
    },
    {
     "name": "stderr",
     "output_type": "stream",
     "text": [
      "munmap_chunk(): invalid pointer\n",
      "Aborted (core dumped)\n"
     ]
    },
    {
     "name": "stdout",
     "output_type": "stream",
     "text": [
      "\tTime: 1.0937016010284424\n",
      "exaustiva_opmp - input_30_1.txt - 7/10\n"
     ]
    },
    {
     "name": "stderr",
     "output_type": "stream",
     "text": [
      "munmap_chunk(): invalid pointer\n",
      "Aborted (core dumped)\n"
     ]
    },
    {
     "name": "stdout",
     "output_type": "stream",
     "text": [
      "\tTime: 1.0746886730194092\n",
      "exaustiva_opmp - input_30_1.txt - 8/10\n"
     ]
    },
    {
     "name": "stderr",
     "output_type": "stream",
     "text": [
      "munmap_chunk(): invalid pointer\n",
      "Aborted (core dumped)\n"
     ]
    },
    {
     "name": "stdout",
     "output_type": "stream",
     "text": [
      "\tTime: 1.1200823783874512\n",
      "exaustiva_opmp - input_30_1.txt - 9/10\n"
     ]
    },
    {
     "name": "stderr",
     "output_type": "stream",
     "text": [
      "munmap_chunk(): invalid pointer\n",
      "Aborted (core dumped)\n"
     ]
    },
    {
     "name": "stdout",
     "output_type": "stream",
     "text": [
      "\tTime: 1.2191746234893799\n",
      "exaustiva_opmp - input_30_1.txt - 10/10\n"
     ]
    },
    {
     "name": "stderr",
     "output_type": "stream",
     "text": [
      "munmap_chunk(): invalid pointer\n",
      "Aborted (core dumped)\n"
     ]
    },
    {
     "name": "stdout",
     "output_type": "stream",
     "text": [
      "\tTime: 1.1122076511383057\n",
      "exaustiva_opmp - input_30_3.txt - 1/10\n",
      "\tTime: 0.002674102783203125\n",
      "exaustiva_opmp - input_30_3.txt - 2/10\n",
      "\tTime: 0.002228975296020508\n",
      "exaustiva_opmp - input_30_3.txt - 3/10\n",
      "\tTime: 0.002172231674194336\n",
      "exaustiva_opmp - input_30_3.txt - 4/10\n",
      "\tTime: 0.0020852088928222656\n",
      "exaustiva_opmp - input_30_3.txt - 5/10\n",
      "\tTime: 0.00211334228515625\n",
      "exaustiva_opmp - input_30_3.txt - 6/10\n",
      "\tTime: 0.0021131038665771484\n",
      "exaustiva_opmp - input_30_3.txt - 7/10\n",
      "\tTime: 0.002545595169067383\n",
      "exaustiva_opmp - input_30_3.txt - 8/10\n",
      "\tTime: 0.0032036304473876953\n",
      "exaustiva_opmp - input_30_3.txt - 9/10\n",
      "\tTime: 0.002200603485107422\n",
      "exaustiva_opmp - input_30_3.txt - 10/10\n",
      "\tTime: 0.0022249221801757812\n",
      "exaustiva_opmp - input_30_5.txt - 1/10\n",
      "\tTime: 0.5092637538909912\n",
      "exaustiva_opmp - input_30_5.txt - 2/10\n",
      "\tTime: 0.4426727294921875\n",
      "exaustiva_opmp - input_30_5.txt - 3/10\n",
      "\tTime: 0.4697554111480713\n",
      "exaustiva_opmp - input_30_5.txt - 4/10\n",
      "\tTime: 0.4447312355041504\n",
      "exaustiva_opmp - input_30_5.txt - 5/10\n",
      "\tTime: 0.4490959644317627\n",
      "exaustiva_opmp - input_30_5.txt - 6/10\n",
      "\tTime: 0.42839717864990234\n",
      "exaustiva_opmp - input_30_5.txt - 7/10\n",
      "\tTime: 0.46938657760620117\n",
      "exaustiva_opmp - input_30_5.txt - 8/10\n",
      "\tTime: 0.4387519359588623\n",
      "exaustiva_opmp - input_30_5.txt - 9/10\n",
      "\tTime: 0.43816184997558594\n",
      "exaustiva_opmp - input_30_5.txt - 10/10\n",
      "\tTime: 0.42873573303222656\n",
      "exaustiva_opmp - input_30_8.txt - 1/10\n"
     ]
    },
    {
     "name": "stderr",
     "output_type": "stream",
     "text": [
      "munmap_chunk(): invalid pointer\n",
      "Aborted (core dumped)\n"
     ]
    },
    {
     "name": "stdout",
     "output_type": "stream",
     "text": [
      "\tTime: 0.2624335289001465\n",
      "exaustiva_opmp - input_30_8.txt - 2/10\n"
     ]
    },
    {
     "name": "stderr",
     "output_type": "stream",
     "text": [
      "munmap_chunk(): invalid pointer\n",
      "Aborted (core dumped)\n"
     ]
    },
    {
     "name": "stdout",
     "output_type": "stream",
     "text": [
      "\tTime: 0.30567216873168945\n",
      "exaustiva_opmp - input_30_8.txt - 3/10\n"
     ]
    },
    {
     "name": "stderr",
     "output_type": "stream",
     "text": [
      "munmap_chunk(): invalid pointer\n",
      "Aborted (core dumped)\n"
     ]
    },
    {
     "name": "stdout",
     "output_type": "stream",
     "text": [
      "\tTime: 0.2536489963531494\n",
      "exaustiva_opmp - input_30_8.txt - 4/10\n"
     ]
    },
    {
     "name": "stderr",
     "output_type": "stream",
     "text": [
      "munmap_chunk(): invalid pointer\n",
      "Aborted (core dumped)\n"
     ]
    },
    {
     "name": "stdout",
     "output_type": "stream",
     "text": [
      "\tTime: 0.28916096687316895\n",
      "exaustiva_opmp - input_30_8.txt - 5/10\n"
     ]
    },
    {
     "name": "stderr",
     "output_type": "stream",
     "text": [
      "munmap_chunk(): invalid pointer\n",
      "Aborted (core dumped)\n"
     ]
    },
    {
     "name": "stdout",
     "output_type": "stream",
     "text": [
      "\tTime: 0.34572744369506836\n",
      "exaustiva_opmp - input_30_8.txt - 6/10\n"
     ]
    },
    {
     "name": "stderr",
     "output_type": "stream",
     "text": [
      "munmap_chunk(): invalid pointer\n",
      "Aborted (core dumped)\n"
     ]
    },
    {
     "name": "stdout",
     "output_type": "stream",
     "text": [
      "\tTime: 0.26765966415405273\n",
      "exaustiva_opmp - input_30_8.txt - 7/10\n"
     ]
    },
    {
     "name": "stderr",
     "output_type": "stream",
     "text": [
      "munmap_chunk(): invalid pointer\n",
      "Aborted (core dumped)\n"
     ]
    },
    {
     "name": "stdout",
     "output_type": "stream",
     "text": [
      "\tTime: 0.30573105812072754\n",
      "exaustiva_opmp - input_30_8.txt - 8/10\n"
     ]
    },
    {
     "name": "stderr",
     "output_type": "stream",
     "text": [
      "munmap_chunk(): invalid pointer\n",
      "Aborted (core dumped)\n"
     ]
    },
    {
     "name": "stdout",
     "output_type": "stream",
     "text": [
      "\tTime: 0.2940695285797119\n",
      "exaustiva_opmp - input_30_8.txt - 9/10\n"
     ]
    },
    {
     "name": "stderr",
     "output_type": "stream",
     "text": [
      "munmap_chunk(): invalid pointer\n",
      "Aborted (core dumped)\n"
     ]
    },
    {
     "name": "stdout",
     "output_type": "stream",
     "text": [
      "\tTime: 0.26525449752807617\n",
      "exaustiva_opmp - input_30_8.txt - 10/10\n"
     ]
    },
    {
     "name": "stderr",
     "output_type": "stream",
     "text": [
      "munmap_chunk(): invalid pointer\n",
      "Aborted (core dumped)\n"
     ]
    },
    {
     "name": "stdout",
     "output_type": "stream",
     "text": [
      "\tTime: 0.2634000778198242\n",
      "exaustiva_opmp - input_30_10.txt - 1/10\n",
      "\tTime: 0.11206388473510742\n",
      "exaustiva_opmp - input_30_10.txt - 2/10\n",
      "\tTime: 0.13254594802856445\n",
      "exaustiva_opmp - input_30_10.txt - 3/10\n",
      "\tTime: 0.167144775390625\n",
      "exaustiva_opmp - input_30_10.txt - 4/10\n",
      "\tTime: 0.12779474258422852\n",
      "exaustiva_opmp - input_30_10.txt - 5/10\n",
      "\tTime: 0.1243138313293457\n",
      "exaustiva_opmp - input_30_10.txt - 6/10\n",
      "\tTime: 0.12580084800720215\n",
      "exaustiva_opmp - input_30_10.txt - 7/10\n",
      "\tTime: 0.12435364723205566\n",
      "exaustiva_opmp - input_30_10.txt - 8/10\n",
      "\tTime: 0.12294459342956543\n",
      "exaustiva_opmp - input_30_10.txt - 9/10\n",
      "\tTime: 0.11741328239440918\n",
      "exaustiva_opmp - input_30_10.txt - 10/10\n",
      "\tTime: 0.11033272743225098\n"
     ]
    }
   ],
   "source": [
    "import time\n",
    "import subprocess\n",
    "\n",
    "algorithms = ['exaustiva', 'exaustiva_opmp']\n",
    "file_sizes = ['input_30_1.txt', 'input_30_3.txt', 'input_30_5.txt', 'input_30_8.txt', 'input_30_10.txt']\n",
    "\n",
    "data4 = {algo: {file: {'tempo': [], 'memoria': []} for file in file_sizes} for algo in algorithms}\n",
    "\n",
    "def number_of_movies(file):\n",
    "    with open(file, 'r') as f:\n",
    "        line = f.readline().split()\n",
    "        return int(line[0])\n",
    "    \n",
    "for algorithm, files in data4.items():\n",
    "    for file_name, measurements in files.items():\n",
    "        for i in range(10):\n",
    "            print(f\"{algorithm} - {file_name} - {i+1}/10\")\n",
    "            output_name = f\"{i}_{file_name.split('.')[0]}\"\n",
    "            start_time = time.time()\n",
    "            subprocess.run(f'./{algorithm} < input_files4/{file_name} > output_files4/{algorithm}_output_{output_name}', shell=True)\n",
    "            #!./{algorithm} < input_files/{file_name} > output_files/{algorithm}_output_{output_name}\n",
    "            end_time = time.time() - start_time\n",
    "            print(f\"\\tTime: {end_time}\")\n",
    "            measurements[\"tempo\"].append(end_time)\n",
    "            measurements[\"memoria\"].append(number_of_movies(f\"output_files4/{algorithm}_output_{output_name}\"))"
   ]
  },
  {
   "attachments": {},
   "cell_type": "markdown",
   "metadata": {},
   "source": [
    "Agora vamos salvar no json"
   ]
  },
  {
   "cell_type": "code",
   "execution_count": 19,
   "metadata": {},
   "outputs": [],
   "source": [
    "import json\n",
    "\n",
    "with open('data4.json', 'w') as fp:\n",
    "    json.dump(json.dumps(data4, indent=2), fp)"
   ]
  },
  {
   "attachments": {},
   "cell_type": "markdown",
   "metadata": {},
   "source": [
    "Gerando o df pra ser usado no gráfico"
   ]
  },
  {
   "cell_type": "code",
   "execution_count": 20,
   "metadata": {},
   "outputs": [
    {
     "data": {
      "text/html": [
       "<div>\n",
       "<style scoped>\n",
       "    .dataframe tbody tr th:only-of-type {\n",
       "        vertical-align: middle;\n",
       "    }\n",
       "\n",
       "    .dataframe tbody tr th {\n",
       "        vertical-align: top;\n",
       "    }\n",
       "\n",
       "    .dataframe thead th {\n",
       "        text-align: right;\n",
       "    }\n",
       "</style>\n",
       "<table border=\"1\" class=\"dataframe\">\n",
       "  <thead>\n",
       "    <tr style=\"text-align: right;\">\n",
       "      <th></th>\n",
       "      <th>algorithm</th>\n",
       "      <th>file</th>\n",
       "      <th>iteration</th>\n",
       "      <th>tempo</th>\n",
       "      <th>memoria</th>\n",
       "    </tr>\n",
       "  </thead>\n",
       "  <tbody>\n",
       "    <tr>\n",
       "      <th>0</th>\n",
       "      <td>exaustiva</td>\n",
       "      <td>input_30_1.txt</td>\n",
       "      <td>1</td>\n",
       "      <td>1.039868</td>\n",
       "      <td>8</td>\n",
       "    </tr>\n",
       "    <tr>\n",
       "      <th>0</th>\n",
       "      <td>exaustiva</td>\n",
       "      <td>input_30_1.txt</td>\n",
       "      <td>2</td>\n",
       "      <td>1.090483</td>\n",
       "      <td>7</td>\n",
       "    </tr>\n",
       "    <tr>\n",
       "      <th>0</th>\n",
       "      <td>exaustiva</td>\n",
       "      <td>input_30_1.txt</td>\n",
       "      <td>3</td>\n",
       "      <td>1.009145</td>\n",
       "      <td>7</td>\n",
       "    </tr>\n",
       "    <tr>\n",
       "      <th>0</th>\n",
       "      <td>exaustiva</td>\n",
       "      <td>input_30_1.txt</td>\n",
       "      <td>4</td>\n",
       "      <td>0.950060</td>\n",
       "      <td>7</td>\n",
       "    </tr>\n",
       "    <tr>\n",
       "      <th>0</th>\n",
       "      <td>exaustiva</td>\n",
       "      <td>input_30_1.txt</td>\n",
       "      <td>5</td>\n",
       "      <td>0.953088</td>\n",
       "      <td>7</td>\n",
       "    </tr>\n",
       "    <tr>\n",
       "      <th>...</th>\n",
       "      <td>...</td>\n",
       "      <td>...</td>\n",
       "      <td>...</td>\n",
       "      <td>...</td>\n",
       "      <td>...</td>\n",
       "    </tr>\n",
       "    <tr>\n",
       "      <th>0</th>\n",
       "      <td>exaustiva_opmp</td>\n",
       "      <td>input_30_10.txt</td>\n",
       "      <td>6</td>\n",
       "      <td>0.125801</td>\n",
       "      <td>19</td>\n",
       "    </tr>\n",
       "    <tr>\n",
       "      <th>0</th>\n",
       "      <td>exaustiva_opmp</td>\n",
       "      <td>input_30_10.txt</td>\n",
       "      <td>7</td>\n",
       "      <td>0.124354</td>\n",
       "      <td>19</td>\n",
       "    </tr>\n",
       "    <tr>\n",
       "      <th>0</th>\n",
       "      <td>exaustiva_opmp</td>\n",
       "      <td>input_30_10.txt</td>\n",
       "      <td>8</td>\n",
       "      <td>0.122945</td>\n",
       "      <td>19</td>\n",
       "    </tr>\n",
       "    <tr>\n",
       "      <th>0</th>\n",
       "      <td>exaustiva_opmp</td>\n",
       "      <td>input_30_10.txt</td>\n",
       "      <td>9</td>\n",
       "      <td>0.117413</td>\n",
       "      <td>19</td>\n",
       "    </tr>\n",
       "    <tr>\n",
       "      <th>0</th>\n",
       "      <td>exaustiva_opmp</td>\n",
       "      <td>input_30_10.txt</td>\n",
       "      <td>10</td>\n",
       "      <td>0.110333</td>\n",
       "      <td>19</td>\n",
       "    </tr>\n",
       "  </tbody>\n",
       "</table>\n",
       "<p>100 rows × 5 columns</p>\n",
       "</div>"
      ],
      "text/plain": [
       "         algorithm             file iteration     tempo memoria\n",
       "0        exaustiva   input_30_1.txt         1  1.039868       8\n",
       "0        exaustiva   input_30_1.txt         2  1.090483       7\n",
       "0        exaustiva   input_30_1.txt         3  1.009145       7\n",
       "0        exaustiva   input_30_1.txt         4  0.950060       7\n",
       "0        exaustiva   input_30_1.txt         5  0.953088       7\n",
       "..             ...              ...       ...       ...     ...\n",
       "0   exaustiva_opmp  input_30_10.txt         6  0.125801      19\n",
       "0   exaustiva_opmp  input_30_10.txt         7  0.124354      19\n",
       "0   exaustiva_opmp  input_30_10.txt         8  0.122945      19\n",
       "0   exaustiva_opmp  input_30_10.txt         9  0.117413      19\n",
       "0   exaustiva_opmp  input_30_10.txt        10  0.110333      19\n",
       "\n",
       "[100 rows x 5 columns]"
      ]
     },
     "execution_count": 20,
     "metadata": {},
     "output_type": "execute_result"
    }
   ],
   "source": [
    "import pandas as pd\n",
    "\n",
    "df4 = pd.DataFrame(columns=['algorithm', 'file', 'iteration', 'tempo', 'memoria'])\n",
    "\n",
    "for algorithm in data4:\n",
    "    for arquivo in data4[algorithm]:\n",
    "        for i in range(10):\n",
    "            df4 = pd.concat([df4, pd.DataFrame({\n",
    "                'algorithm': [algorithm],\n",
    "                'file': [arquivo],\n",
    "                'iteration': [i+1],\n",
    "                'tempo': [data4[algorithm][arquivo]['tempo'][i]],\n",
    "                'memoria': [data4[algorithm][arquivo]['memoria'][i]]\n",
    "            })])\n",
    "\n",
    "df4"
   ]
  },
  {
   "cell_type": "code",
   "execution_count": 21,
   "metadata": {},
   "outputs": [],
   "source": [
    "df4.to_csv('data4.csv', index=False)"
   ]
  },
  {
   "attachments": {},
   "cell_type": "markdown",
   "metadata": {},
   "source": [
    "### Gŕafico de tempo\n"
   ]
  },
  {
   "cell_type": "code",
   "execution_count": 22,
   "metadata": {},
   "outputs": [],
   "source": [
    "df_mean4 = df4.groupby(['algorithm', 'file']).mean(numeric_only=True).reset_index()\n",
    "df_mean4.sort_values(by=['tempo'], inplace=True)"
   ]
  },
  {
   "cell_type": "code",
   "execution_count": 23,
   "metadata": {},
   "outputs": [
    {
     "data": {
      "text/html": [
       "<div>\n",
       "<style scoped>\n",
       "    .dataframe tbody tr th:only-of-type {\n",
       "        vertical-align: middle;\n",
       "    }\n",
       "\n",
       "    .dataframe tbody tr th {\n",
       "        vertical-align: top;\n",
       "    }\n",
       "\n",
       "    .dataframe thead th {\n",
       "        text-align: right;\n",
       "    }\n",
       "</style>\n",
       "<table border=\"1\" class=\"dataframe\">\n",
       "  <thead>\n",
       "    <tr style=\"text-align: right;\">\n",
       "      <th></th>\n",
       "      <th>algorithm</th>\n",
       "      <th>file</th>\n",
       "      <th>tempo</th>\n",
       "    </tr>\n",
       "  </thead>\n",
       "  <tbody>\n",
       "    <tr>\n",
       "      <th>2</th>\n",
       "      <td>exaustiva</td>\n",
       "      <td>input_30_3.txt</td>\n",
       "      <td>0.002160</td>\n",
       "    </tr>\n",
       "    <tr>\n",
       "      <th>7</th>\n",
       "      <td>exaustiva_opmp</td>\n",
       "      <td>input_30_3.txt</td>\n",
       "      <td>0.002356</td>\n",
       "    </tr>\n",
       "    <tr>\n",
       "      <th>1</th>\n",
       "      <td>exaustiva</td>\n",
       "      <td>input_30_10.txt</td>\n",
       "      <td>0.121651</td>\n",
       "    </tr>\n",
       "    <tr>\n",
       "      <th>6</th>\n",
       "      <td>exaustiva_opmp</td>\n",
       "      <td>input_30_10.txt</td>\n",
       "      <td>0.126471</td>\n",
       "    </tr>\n",
       "    <tr>\n",
       "      <th>9</th>\n",
       "      <td>exaustiva_opmp</td>\n",
       "      <td>input_30_8.txt</td>\n",
       "      <td>0.285276</td>\n",
       "    </tr>\n",
       "    <tr>\n",
       "      <th>4</th>\n",
       "      <td>exaustiva</td>\n",
       "      <td>input_30_8.txt</td>\n",
       "      <td>0.296621</td>\n",
       "    </tr>\n",
       "    <tr>\n",
       "      <th>3</th>\n",
       "      <td>exaustiva</td>\n",
       "      <td>input_30_5.txt</td>\n",
       "      <td>0.446614</td>\n",
       "    </tr>\n",
       "    <tr>\n",
       "      <th>8</th>\n",
       "      <td>exaustiva_opmp</td>\n",
       "      <td>input_30_5.txt</td>\n",
       "      <td>0.451895</td>\n",
       "    </tr>\n",
       "    <tr>\n",
       "      <th>0</th>\n",
       "      <td>exaustiva</td>\n",
       "      <td>input_30_1.txt</td>\n",
       "      <td>1.002665</td>\n",
       "    </tr>\n",
       "    <tr>\n",
       "      <th>5</th>\n",
       "      <td>exaustiva_opmp</td>\n",
       "      <td>input_30_1.txt</td>\n",
       "      <td>1.087771</td>\n",
       "    </tr>\n",
       "  </tbody>\n",
       "</table>\n",
       "</div>"
      ],
      "text/plain": [
       "        algorithm             file     tempo\n",
       "2       exaustiva   input_30_3.txt  0.002160\n",
       "7  exaustiva_opmp   input_30_3.txt  0.002356\n",
       "1       exaustiva  input_30_10.txt  0.121651\n",
       "6  exaustiva_opmp  input_30_10.txt  0.126471\n",
       "9  exaustiva_opmp   input_30_8.txt  0.285276\n",
       "4       exaustiva   input_30_8.txt  0.296621\n",
       "3       exaustiva   input_30_5.txt  0.446614\n",
       "8  exaustiva_opmp   input_30_5.txt  0.451895\n",
       "0       exaustiva   input_30_1.txt  1.002665\n",
       "5  exaustiva_opmp   input_30_1.txt  1.087771"
      ]
     },
     "execution_count": 23,
     "metadata": {},
     "output_type": "execute_result"
    }
   ],
   "source": [
    "df_mean4"
   ]
  },
  {
   "cell_type": "code",
   "execution_count": 24,
   "metadata": {},
   "outputs": [
    {
     "data": {
      "image/png": "[encoded data removed]",
      "text/plain": [
       "<Figure size 1200x500 with 1 Axes>"
      ]
     },
     "metadata": {},
     "output_type": "display_data"
    }
   ],
   "source": [
    "import matplotlib.pyplot as plt\n",
    "\n",
    "fig, ax = plt.subplots(figsize=(12, 5))\n",
    "for algorithm in df_mean4['algorithm'].unique():\n",
    "    df_aux4 = df_mean4[df_mean4['algorithm'] == algorithm]\n",
    "    ax.plot(df_aux4['file'], df_aux4['tempo'], label=algorithm)\n",
    "\n",
    "ax.set_title('Time of each algorith by file')\n",
    "ax.set_xlabel('File')\n",
    "ax.set_ylabel('Time (s)')\n",
    "ax.legend()\n",
    "plt.show()"
   ]
  },
  {
   "attachments": {},
   "cell_type": "markdown",
   "metadata": {},
   "source": [
    "considerações considerações considerações considerações considerações considerações considerações considerações considerações considerações considerações considerações considerações considerações considerações considerações considerações considerações considerações considerações considerações considerações considerações considerações considerações considerações considerações considerações considerações considerações considerações considerações considerações considerações considerações considerações "
   ]
  },
  {
   "attachments": {},
   "cell_type": "markdown",
   "metadata": {},
   "source": [
    "### Gráfico de filmes por input\n"
   ]
  },
  {
   "cell_type": "code",
   "execution_count": 25,
   "metadata": {},
   "outputs": [],
   "source": [
    "df_mean_movies4 = df4.drop(columns=['tempo','iteration'])\n",
    "df_mean_movies4 = df_mean_movies4.groupby(['algorithm', 'file']).mean().reset_index()\n",
    "order_files4 = list(data4['exaustiva'].keys())\n",
    "\n",
    "df_mean_movies4['file'] = pd.Categorical(df_mean_movies4['file'], categories=order_files4, ordered=True)\n",
    "df_mean_movies2 = df_mean_movies4.sort_values(by=['file'])\n",
    "\n"
   ]
  },
  {
   "cell_type": "code",
   "execution_count": 26,
   "metadata": {},
   "outputs": [
    {
     "data": {
      "image/png": "[encoded data removed]",
      "text/plain": [
       "<Figure size 1000x500 with 1 Axes>"
      ]
     },
     "metadata": {},
     "output_type": "display_data"
    }
   ],
   "source": [
    "fig, ax = plt.subplots(figsize=(10, 5))\n",
    "\n",
    "for algorithm in df_mean_movies4['algorithm'].unique():\n",
    "    df_aux4 = df_mean_movies4[df_mean_movies4['algorithm'] == algorithm]\n",
    "    ax.plot(df_aux4['file'], df_aux4['memoria'], label=algorithm)\n",
    "\n",
    "ax.set_title('Movies for each file')\n",
    "ax.set_xlabel('file')\n",
    "ax.set_ylabel('# movies')\n",
    "ax.legend()\n",
    "plt.show()"
   ]
  },
  {
   "attachments": {},
   "cell_type": "markdown",
   "metadata": {},
   "source": [
    "considerações considerações considerações considerações considerações considerações considerações considerações considerações considerações considerações considerações considerações considerações considerações considerações considerações considerações considerações considerações considerações considerações considerações considerações considerações considerações considerações "
   ]
  },
  {
   "attachments": {},
   "cell_type": "markdown",
   "metadata": {},
   "source": [
    "## considerações finais"
   ]
  },
  {
   "attachments": {},
   "cell_type": "markdown",
   "metadata": {},
   "source": [
    "considerações considerações considerações considerações considerações considerações considerações considerações considerações considerações considerações considerações considerações considerações considerações considerações considerações considerações considerações considerações considerações considerações considerações considerações considerações considerações considerações considerações considerações considerações considerações considerações considerações considerações considerações considerações considerações considerações considerações considerações considerações considerações considerações considerações considerações "
   ]
  }
 ],
 "metadata": {
  "kernelspec": {
   "display_name": "Python 3",
   "language": "python",
   "name": "python3"
  },
  "language_info": {
   "codemirror_mode": {
    "name": "ipython",
    "version": 3
   },
   "file_extension": ".py",
   "mimetype": "text/x-python",
   "name": "python",
   "nbconvert_exporter": "python",
   "pygments_lexer": "ipython3",
   "version": "3.10.6"
  }
 },
 "nbformat": 4,
 "nbformat_minor": 2
}
