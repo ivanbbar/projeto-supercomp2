{
 "cells": [
  {
   "attachments": {},
   "cell_type": "markdown",
   "metadata": {},
   "source": [
    "## Maratona de Filmes\n",
    "\n",
    "##### Ivan Barros"
   ]
  },
  {
   "attachments": {},
   "cell_type": "markdown",
   "metadata": {},
   "source": [
    "Você quer passar um final de semana assistindo ao máximo de filmes possível, mas há restrições quanto aos horários disponíveis e ao número de títulos que podem ser vistos em cada categoria (comédia, drama, ação, etc).\n",
    "\n",
    "Entrada: Um inteiro N representando o número de filmes disponíveis para assistir e N trios de inteiros (H[i], F[i], C[i]), representando a hora de início, a hora de fim e a categoria do i-ésimo filme. Além disso, um inteiro M representando o número de categorias e uma lista de M inteiros representando o número máximo de filmes que podem ser assistidos em cada categoria.\n",
    "\n",
    "Saída: Um inteiro representando o número máximo de filmes que podem ser assistidos de acordo com as restrições de horários e número máximo por categoria.\n",
    "\n",
    "### Exaustiva com GPU\n",
    "\n",
    "A estrutura Movie representa um filme, com os atributos id, start (hora de início), end (hora de término) e category (categoria). Os filmes são armazenados em um vetor chamado movies_vector.\n",
    "\n",
    "A função fill_schedule preenche os horários disponíveis para um filme, definindo os bits correspondentes aos horários ocupados.\n",
    "\n",
    "A estrutura exhaustive_search_gpu é o funtor que realiza a busca exaustiva na GPU. Ele recebe os parâmetros necessários para executar a busca: o número de filmes, o número de categorias, as disponibilidades das categorias, os horários dos filmes e as categorias dos filmes. O operador () é sobrecarregado para executar a busca para uma determinada configuração de filmes. O funtor verifica se a configuração atende às restrições de disponibilidade de categoria e se não há conflitos de horário. Ele retorna o número de filmes selecionados ou false se a configuração não for válida.\n",
    "\n",
    "No main(), são lidos os valores de entrada, incluindo o número de filmes (n) e o número de categorias (m). Em seguida, as informações dos filmes e as disponibilidades das categorias são lidas e armazenadas nas estruturas apropriadas.\n",
    "\n",
    "Os horários dos filmes são processados para preencher os horários disponíveis utilizando a função fill_schedule. Os dados são transferidos para as estruturas de vetor da GPU usando as classes thrust::host_vector e thrust::device_vector.\n",
    "\n",
    "Em seguida, é criado um vetor gpu_possibility_vector com todas as possibilidades de configurações de filmes. O funtor exhaustive_search_gpu é usado para transformar cada configuração em um número representando a quantidade de filmes selecionados.\n",
    "\n",
    "O resultado final é obtido encontrando o máximo valor no vetor final_config_vector_cpu, que representa o número máximo de filmes selecionados. Em seguida, é encontrado o índice da configuração com o máximo valor (max_config).\n",
    "\n",
    "Por fim, o resultado é impresso, mostrando os filmes selecionados para a configuração com o número máximo de filmes.\n",
    "\n",
    "### Exaustiva\n",
    "\n",
    "A estrutura Movie representa um filme, com os atributos id, start_time (hora de início), end_time (hora de término) e category (categoria). O número total de filmes é lido do usuário como n.\n",
    "\n",
    "O programa lê as informações dos filmes e as disponibilidades das categorias dos filmes a partir da entrada. Os filmes são armazenados em um vetor movies e as disponibilidades das categorias são armazenadas em um vetor categories.\n",
    "\n",
    "Em seguida, o programa chama a função select_movies para encontrar a solução ótima. A função select_movies é uma função recursiva que realiza a busca exaustiva. Ela percorre todos os filmes possíveis, selecionando e não selecionando cada um deles, para encontrar a combinação que maximize o número de filmes selecionados.\n",
    "\n",
    "A função select_movies possui os seguintes parâmetros:\n",
    "\n",
    "movies: vetor de filmes.\n",
    "categories: vetor de disponibilidades das categorias.\n",
    "index: índice do filme atual sendo considerado.\n",
    "num_selected: número de filmes já selecionados.\n",
    "best_solution: vetor que armazena a melhor solução encontrada até o momento.\n",
    "A função verifica se já percorreu todos os filmes (index == movies.size()). Se sim, ela compara o número de categorias disponíveis na solução atual com a melhor solução encontrada até o momento. Se a solução atual for melhor, atualiza a melhor solução.\n",
    "\n",
    "Em seguida, a função faz duas chamadas recursivas:\n",
    "\n",
    "select_movies(movies, categories, index + 1, num_selected, best_solution): não seleciona o filme atual e passa para o próximo filme.\n",
    "select_movies(movies, categories, index + 1, num_selected + 1, best_solution): seleciona o filme atual se ainda for possível, incrementa o número de filmes selecionados e passa para o próximo filme.\n",
    "A função print_selected_movies é responsável por imprimir os filmes selecionados com base na solução encontrada. Ela percorre o vetor movies e verifica se cada filme está selecionado de acordo com o vetor categories. Os filmes selecionados são armazenados em um vetor selected_movies. Em seguida, imprime o número de filmes selecionados e, para cada filme selecionado, imprime o seu id e categoria.\n",
    "\n",
    "No final, o programa chama a função print_selected_movies passando os filmes e a melhor solução encontrada.\n",
    "\n",
    "### Exaustiva com Open MP\n",
    "\n",
    "A estrutura Movie representa um filme, com os atributos id, start_time (hora de início), end_time (hora de término) e category (categoria). O número total de filmes é lido do usuário como movieCount.\n",
    "\n",
    "O programa lê as informações dos filmes e as disponibilidades das categorias dos filmes a partir da entrada. Os filmes são armazenados em um vetor moviesVector e as disponibilidades das categorias são armazenadas em um vetor categoryAvailability.\n",
    "\n",
    "Em seguida, o programa cria vetores do tipo thrust::host_vector para armazenar as informações dos filmes e categorias em uma forma adequada para a utilização com a biblioteca Thrust. Além disso, são criados vetores do tipo thrust::device_vector para armazenar os dados no dispositivo GPU.\n",
    "\n",
    "O código paraleliza o processo de busca exaustiva utilizando a diretiva #pragma omp parallel for. Cada iteração do loop paralelo é atribuída a uma thread diferente. Dentro do loop, a função operator() da classe ExhaustiveSearchGPU é chamada para cada configuração possível de filmes. Essa função verifica se a configuração atual é válida, ou seja, se atende às restrições de disponibilidade das categorias e dos horários dos filmes. Se for válida, ela atualiza o contador maxCount com o número de filmes selecionados, utilizando a função atomicMax para garantir que a atualização seja feita corretamente em paralelo.\n",
    "\n",
    "Após o loop paralelo, o programa extrai a melhor solução encontrada do vetor finalConfigVectorCPU e imprime o número máximo de filmes selecionados. Em seguida, a função printSelectedMovies é chamada para imprimir os filmes selecionados de acordo com a melhor configuração.\n",
    "\n",
    "### Heurística Gulosa\n",
    "\n",
    "Elaborado no relatório intermediário\n",
    "\n",
    "\n",
    "### Aleatoriedade\n",
    "\n",
    "Elaborado no relatório intermediário\n"
   ]
  },
  {
   "attachments": {},
   "cell_type": "markdown",
   "metadata": {},
   "source": [
    "## Output Gerado"
   ]
  },
  {
   "attachments": {},
   "cell_type": "markdown",
   "metadata": {},
   "source": [
    "O arquivo .txt gerado na saída do programa tem o seguinte formato:\n",
    " - Linha 1: Quantidade n de filmes ajustados para a situação\n",
    " - Linhas 2 a n+1: id dos filmes escolhidos, juntamente com sua categoria"
   ]
  },
  {
   "attachments": {},
   "cell_type": "markdown",
   "metadata": {},
   "source": [
    "Exemplo de arquivo gerado na saída:\n",
    "\n",
    "~~~javascript\n",
    "24\n",
    "1215 2\n",
    "2427 4\n",
    "2256 3\n",
    "9419 1\n",
    "1783 5\n",
    "5382 3\n",
    "7192 5\n",
    "6915 6\n",
    "9276 7\n",
    "8657 3\n",
    "2230 3\n",
    "7821 4\n",
    "672 7\n",
    "3193 7\n",
    "543 7\n",
    "2722 4\n",
    "1343 4\n",
    "1469 4\n",
    "9240 3\n",
    "4585 3\n",
    "4040 6\n",
    "1732 6\n",
    "2959 4\n",
    "7711 6\n",
    "\n",
    "~~~"
   ]
  },
  {
   "attachments": {},
   "cell_type": "markdown",
   "metadata": {},
   "source": [
    "## Profiling"
   ]
  },
  {
   "attachments": {},
   "cell_type": "markdown",
   "metadata": {},
   "source": [
    "É preciso realizar uma análise de um programa durante sua execução, de modo a determinar seu consumo de memória e/ou tempo de execução\n",
    "\n",
    "Com profiling, podemos responder duas importantes perguntas:\n",
    " - Onde o programa consome mais recursos?\n",
    " - Onde devo concentrar meus esforços de otimização?"
   ]
  },
  {
   "attachments": {},
   "cell_type": "markdown",
   "metadata": {},
   "source": [
    "Vamos fazer uso da ferramenta Valgrind para realizar o profiling desse código e entender esses pontos relacionados ao programa"
   ]
  },
  {
   "attachments": {},
   "cell_type": "markdown",
   "metadata": {},
   "source": [
    "### Exaustiva"
   ]
  },
  {
   "cell_type": "code",
   "execution_count": 27,
   "metadata": {},
   "outputs": [
    {
     "name": "stdout",
     "output_type": "stream",
     "text": [
      "==27914== Callgrind, a call-graph generating cache profiler\n",
      "==27914== Copyright (C) 2002-2017, and GNU GPL'd, by Josef Weidendorfer et al.\n",
      "==27914== Using Valgrind-3.18.1 and LibVEX; rerun with -h for copyright info\n",
      "==27914== Command: ./exaustiva\n",
      "==27914== \n",
      "==27914== For interactive control, run 'callgrind_control -h'.\n",
      "==27914== \n",
      "==27914== Events    : Ir\n",
      "==27914== Collected : 2350771\n",
      "==27914== \n",
      "==27914== I   refs:      2,350,771\n"
     ]
    }
   ],
   "source": [
    "!valgrind --tool=callgrind ./exaustiva <input_valgrind.txt > exaustiva_valgrind_output.txt"
   ]
  },
  {
   "attachments": {},
   "cell_type": "markdown",
   "metadata": {},
   "source": [
    "Com isso, encontramos o valor de PID= 27914 e podemos executar o codigo:"
   ]
  },
  {
   "cell_type": "code",
   "execution_count": 28,
   "metadata": {},
   "outputs": [
    {
     "name": "stdout",
     "output_type": "stream",
     "text": [
      "--------------------------------------------------------------------------------\n",
      "Profile data file 'callgrind.out.27914' (creator: callgrind-3.18.1)\n",
      "--------------------------------------------------------------------------------\n",
      "I1 cache: \n",
      "D1 cache: \n",
      "LL cache: \n",
      "Timerange: Basic block 0 - 378365\n",
      "Trigger: Program termination\n",
      "Profiled target:  ./exaustiva (PID 27914, part 1)\n",
      "Events recorded:  Ir\n",
      "Events shown:     Ir\n",
      "Event sort order: Ir\n",
      "Thresholds:       99\n",
      "Include dirs:     \n",
      "User annotated:   exaustiva.cpp\n",
      "Auto-annotation:  on\n",
      "\n",
      "--------------------------------------------------------------------------------\n",
      "Ir                 \n",
      "--------------------------------------------------------------------------------\n",
      "2,350,771 (100.0%)  PROGRAM TOTALS\n",
      "\n",
      "--------------------------------------------------------------------------------\n",
      "Ir                file:function\n",
      "--------------------------------------------------------------------------------\n",
      "983,058 (41.82%)  ./elf/./elf/dl-lookup.c:_dl_lookup_symbol_x [/usr/lib/x86_64-linux-gnu/ld-linux-x86-64.so.2]\n",
      "568,624 (24.19%)  ./elf/./elf/dl-lookup.c:do_lookup_x [/usr/lib/x86_64-linux-gnu/ld-linux-x86-64.so.2]\n",
      "260,144 (11.07%)  ./elf/../sysdeps/x86_64/dl-machine.h:_dl_relocate_object\n",
      "118,781 ( 5.05%)  ./elf/./elf/dl-lookup.c:check_match [/usr/lib/x86_64-linux-gnu/ld-linux-x86-64.so.2]\n",
      "108,431 ( 4.61%)  ./elf/./elf/do-rel.h:_dl_relocate_object\n",
      " 73,695 ( 3.13%)  ./string/../sysdeps/x86_64/strcmp.S:strcmp [/usr/lib/x86_64-linux-gnu/ld-linux-x86-64.so.2]\n",
      " 49,834 ( 2.12%)  ./elf/./elf/dl-tunables.c:__GI___tunables_init [/usr/lib/x86_64-linux-gnu/ld-linux-x86-64.so.2]\n",
      " 19,788 ( 0.84%)  ./elf/../sysdeps/generic/dl-protected.h:do_lookup_x\n",
      " 12,128 ( 0.52%)  ???:std::locale::_Impl::_M_install_facet(std::locale::id const*, std::locale::facet const*) [/usr/lib/x86_64-linux-gnu/libstdc++.so.6.0.30]\n",
      " 11,753 ( 0.50%)  ./elf/./elf/dl-version.c:_dl_check_map_versions [/usr/lib/x86_64-linux-gnu/ld-linux-x86-64.so.2]\n",
      " 10,935 ( 0.47%)  ./elf/../sysdeps/generic/ldsodefs.h:do_lookup_x\n",
      " 10,240 ( 0.44%)  ./wcsmbs/./wcsmbs/btowc.c:btowc [/usr/lib/x86_64-linux-gnu/libc.so.6]\n",
      " 10,173 ( 0.43%)  ./elf/../sysdeps/generic/ldsodefs.h:_dl_relocate_object\n",
      "  8,276 ( 0.35%)  ./elf/./elf/dl-runtime.c:_dl_fixup [/usr/lib/x86_64-linux-gnu/ld-linux-x86-64.so.2]\n",
      "  4,164 ( 0.18%)  ./elf/./elf/dl-reloc.c:_dl_relocate_object [/usr/lib/x86_64-linux-gnu/ld-linux-x86-64.so.2]\n",
      "  3,862 ( 0.16%)  ./elf/./elf/dl-tunables.h:__GI___tunables_init\n",
      "  3,782 ( 0.16%)  ./elf/./elf/dl-load.c:_dl_map_object_from_fd [/usr/lib/x86_64-linux-gnu/ld-linux-x86-64.so.2]\n",
      "  3,608 ( 0.15%)  ./elf/../sysdeps/x86_64/dl-trampoline.h:_dl_runtime_resolve_xsave [/usr/lib/x86_64-linux-gnu/ld-linux-x86-64.so.2]\n",
      "  3,456 ( 0.15%)  ./wcsmbs/./wcsmbs/wctob.c:wctob [/usr/lib/x86_64-linux-gnu/libc.so.6]\n",
      "  3,132 ( 0.13%)  ./elf/./elf/dl-cache.c:_dl_cache_libcmp [/usr/lib/x86_64-linux-gnu/ld-linux-x86-64.so.2]\n",
      "  3,085 ( 0.13%)  ./elf/../sysdeps/x86/dl-cacheinfo.h:intel_check_word.constprop.0 [/usr/lib/x86_64-linux-gnu/ld-linux-x86-64.so.2]\n",
      "  2,848 ( 0.12%)  ./elf/./elf/dl-misc.c:_dl_name_match_p [/usr/lib/x86_64-linux-gnu/ld-linux-x86-64.so.2]\n",
      "  2,733 ( 0.12%)  ???:std::ctype<wchar_t>::_M_initialize_ctype() [/usr/lib/x86_64-linux-gnu/libstdc++.so.6.0.30]\n",
      "  2,640 ( 0.11%)  ???:__dynamic_cast [/usr/lib/x86_64-linux-gnu/libstdc++.so.6.0.30]\n",
      "  2,243 ( 0.10%)  ./elf/./elf/dl-load.c:_dl_map_object [/usr/lib/x86_64-linux-gnu/ld-linux-x86-64.so.2]\n",
      "  2,226 ( 0.09%)  ./elf/./elf/dl-deps.c:_dl_map_object_deps [/usr/lib/x86_64-linux-gnu/ld-linux-x86-64.so.2]\n",
      "  2,222 ( 0.09%)  ./elf/../bits/stdlib-bsearch.h:intel_check_word.constprop.0\n",
      "  1,513 ( 0.06%)  ./elf/./elf/dl-load.c:open_verify.constprop.0 [/usr/lib/x86_64-linux-gnu/ld-linux-x86-64.so.2]\n",
      "  1,492 ( 0.06%)  ./elf/./elf/get-dynamic-info.h:_dl_map_object_from_fd\n",
      "  1,480 ( 0.06%)  ???:__cxxabiv1::__si_class_type_info::__do_dyncast(long, __cxxabiv1::__class_type_info::__sub_kind, __cxxabiv1::__class_type_info const*, void const*, __cxxabiv1::__class_type_info const*, void const*, __cxxabiv1::__class_type_info::__dyncast_result&) const [/usr/lib/x86_64-linux-gnu/libstdc++.so.6.0.30]\n",
      "  1,308 ( 0.06%)  ./elf/./elf/rtld.c:dl_main [/usr/lib/x86_64-linux-gnu/ld-linux-x86-64.so.2]\n",
      "  1,266 ( 0.05%)  ./elf/./elf/dl-load.c:open_path [/usr/lib/x86_64-linux-gnu/ld-linux-x86-64.so.2]\n",
      "  1,226 ( 0.05%)  ./elf/./elf/dl-cache.c:_dl_load_cache_lookup [/usr/lib/x86_64-linux-gnu/ld-linux-x86-64.so.2]\n",
      "  1,129 ( 0.05%)  ./elf/./elf/dl-object.c:_dl_new_object [/usr/lib/x86_64-linux-gnu/ld-linux-x86-64.so.2]\n",
      "  1,115 ( 0.05%)  ./elf/./elf/dl-minimal-malloc.c:__minimal_malloc [/usr/lib/x86_64-linux-gnu/ld-linux-x86-64.so.2]\n",
      "  1,098 ( 0.05%)  ???:std::locale::id::_M_id() const [/usr/lib/x86_64-linux-gnu/libstdc++.so.6.0.30]\n",
      "  1,095 ( 0.05%)  ./string/../sysdeps/x86_64/multiarch/memcmp-avx2-movbe.S:__memcmp_avx2_movbe [/usr/lib/x86_64-linux-gnu/libc.so.6]\n",
      "  1,036 ( 0.04%)  ./wctype/./wctype/wctype_l.c:wctype_l [/usr/lib/x86_64-linux-gnu/libc.so.6]\n",
      "    952 ( 0.04%)  ./string/../sysdeps/x86_64/multiarch/strlen-avx2.S:__strlen_avx2 [/usr/lib/x86_64-linux-gnu/libc.so.6]\n",
      "    896 ( 0.04%)  ./wcsmbs/./wcsmbsload.h:btowc\n",
      "    883 ( 0.04%)  ./elf/../sysdeps/x86_64/dl-machine.h:_dl_start\n",
      "    816 ( 0.03%)  ./string/../sysdeps/x86_64/multiarch/memset-vec-unaligned-erms.S:memset [/usr/lib/x86_64-linux-gnu/ld-linux-x86-64.so.2]\n",
      "    815 ( 0.03%)  ./elf/./elf/do-rel.h:_dl_start\n",
      "    797 ( 0.03%)  ./string/../sysdeps/x86_64/multiarch/strlen-vec.S:strlen [/usr/lib/x86_64-linux-gnu/ld-linux-x86-64.so.2]\n",
      "    776 ( 0.03%)  ./malloc/./malloc/malloc.c:ptmalloc_init.part.0\n",
      "    774 ( 0.03%)  ./elf/../sysdeps/nptl/dl-tls_init_tp.c:rtld_mutex_dummy [/usr/lib/x86_64-linux-gnu/ld-linux-x86-64.so.2]\n",
      "    768 ( 0.03%)  ./elf/./elf/dl-hwcaps.c:_dl_important_hwcaps [/usr/lib/x86_64-linux-gnu/ld-linux-x86-64.so.2]\n",
      "    768 ( 0.03%)  ./elf/./elf/dl-profstub.c:_dl_mcount_wrapper_check [/usr/lib/x86_64-linux-gnu/libc.so.6]\n",
      "    768 ( 0.03%)  ./iconv/./iconv/gconv_simple.c:__gconv_btwoc_ascii [/usr/lib/x86_64-linux-gnu/libc.so.6]\n",
      "    744 ( 0.03%)  ./string/../sysdeps/x86_64/multiarch/../strchr.S:index [/usr/lib/x86_64-linux-gnu/ld-linux-x86-64.so.2]\n",
      "    740 ( 0.03%)  ./elf/./elf/dl-tunables.c:__tunable_get_val [/usr/lib/x86_64-linux-gnu/ld-linux-x86-64.so.2]\n",
      "    732 ( 0.03%)  ???:std::ctype<char>::_M_widen_init() const [/usr/lib/x86_64-linux-gnu/libstdc++.so.6.0.30]\n",
      "    715 ( 0.03%)  ./elf/./dl-map-segments.h:_dl_map_object_from_fd\n",
      "    705 ( 0.03%)  ./stdlib/./stdlib/cxa_finalize.c:__cxa_finalize [/usr/lib/x86_64-linux-gnu/libc.so.6]\n",
      "    666 ( 0.03%)  ???:std::locale::_Impl::_Impl(unsigned long) [/usr/lib/x86_64-linux-gnu/libstdc++.so.6.0.30]\n",
      "    651 ( 0.03%)  ./elf/./elf/dl-environ.c:_dl_next_ld_env_entry [/usr/lib/x86_64-linux-gnu/ld-linux-x86-64.so.2]\n",
      "    633 ( 0.03%)  ./elf/../elf/dl-sysdep.c:_dl_sysdep_start [/usr/lib/x86_64-linux-gnu/ld-linux-x86-64.so.2]\n",
      "    629 ( 0.03%)  ./string/../sysdeps/x86_64/multiarch/memmove-vec-unaligned-erms.S:mempcpy [/usr/lib/x86_64-linux-gnu/ld-linux-x86-64.so.2]\n",
      "    596 ( 0.03%)  ./elf/../sysdeps/x86/dl-cacheinfo.h:handle_intel.constprop.0 [/usr/lib/x86_64-linux-gnu/ld-linux-x86-64.so.2]\n",
      "    594 ( 0.03%)  ./string/../sysdeps/x86_64/multiarch/memmove-vec-unaligned-erms.S:memcpy [/usr/lib/x86_64-linux-gnu/ld-linux-x86-64.so.2]\n",
      "    584 ( 0.02%)  ???:__cxxabiv1::__vmi_class_type_info::__do_dyncast(long, __cxxabiv1::__class_type_info::__sub_kind, __cxxabiv1::__class_type_info const*, void const*, __cxxabiv1::__class_type_info const*, void const*, __cxxabiv1::__class_type_info::__dyncast_result&) const [/usr/lib/x86_64-linux-gnu/libstdc++.so.6.0.30]\n",
      "    561 ( 0.02%)  ./malloc/./malloc/malloc.c:_int_malloc [/usr/lib/x86_64-linux-gnu/libc.so.6]\n",
      "    530 ( 0.02%)  ./elf/./elf/dl-sort-maps.c:dfs_traversal.part.0 [/usr/lib/x86_64-linux-gnu/ld-linux-x86-64.so.2]\n",
      "    517 ( 0.02%)  ???:0x00000000048f7a90 [???]\n",
      "    502 ( 0.02%)  ./elf/../sysdeps/x86/dl-prop.h:_dl_map_object_from_fd\n",
      "    464 ( 0.02%)  ???:std::ios_base::ios_base() [/usr/lib/x86_64-linux-gnu/libstdc++.so.6.0.30]\n",
      "    437 ( 0.02%)  ./elf/./elf/dl-hwcaps_split.c:_dl_hwcaps_split_masked [/usr/lib/x86_64-linux-gnu/ld-linux-x86-64.so.2]\n",
      "    436 ( 0.02%)  ./elf/./dl-find_object.h:_dl_find_object_from_map [/usr/lib/x86_64-linux-gnu/ld-linux-x86-64.so.2]\n",
      "    429 ( 0.02%)  ./stdlib/./stdlib/cxa_atexit.c:__cxa_atexit [/usr/lib/x86_64-linux-gnu/libc.so.6]\n",
      "    420 ( 0.02%)  ./elf/./elf/dl-error-skeleton.c:_dl_catch_exception [/usr/lib/x86_64-linux-gnu/ld-linux-x86-64.so.2]\n",
      "    414 ( 0.02%)  ./elf/./elf/dl-fini.c:_dl_fini [/usr/lib/x86_64-linux-gnu/ld-linux-x86-64.so.2]\n",
      "    414 ( 0.02%)  ???:std::__cxx11::numpunct<char>::_M_initialize_numpunct(__locale_struct*) [/usr/lib/x86_64-linux-gnu/libstdc++.so.6.0.30]\n",
      "    414 ( 0.02%)  ???:std::numpunct<char>::_M_initialize_numpunct(__locale_struct*) [/usr/lib/x86_64-linux-gnu/libstdc++.so.6.0.30]\n",
      "    413 ( 0.02%)  ./elf/./elf/dl-init.c:call_init.part.0 [/usr/lib/x86_64-linux-gnu/ld-linux-x86-64.so.2]\n",
      "    400 ( 0.02%)  ./io/../sysdeps/unix/sysv/linux/open64_nocancel.c:__open_nocancel [/usr/lib/x86_64-linux-gnu/ld-linux-x86-64.so.2]\n",
      "    392 ( 0.02%)  ./stdlib/./stdlib/cxa_atexit.c:__new_exitfn [/usr/lib/x86_64-linux-gnu/libc.so.6]\n",
      "    374 ( 0.02%)  ???:std::locale::locale() [/usr/lib/x86_64-linux-gnu/libstdc++.so.6.0.30]\n",
      "    360 ( 0.02%)  ./libio/./libio/iofflush.c:fflush [/usr/lib/x86_64-linux-gnu/libc.so.6]\n",
      "    350 ( 0.01%)  ./elf/../elf/dl-tls.c:_dl_allocate_tls_storage [/usr/lib/x86_64-linux-gnu/ld-linux-x86-64.so.2]\n",
      "    350 ( 0.01%)  ???:std::__cxx11::numpunct<wchar_t>::_M_initialize_numpunct(__locale_struct*) [/usr/lib/x86_64-linux-gnu/libstdc++.so.6.0.30]\n",
      "    350 ( 0.01%)  ???:std::numpunct<wchar_t>::_M_initialize_numpunct(__locale_struct*) [/usr/lib/x86_64-linux-gnu/libstdc++.so.6.0.30]\n",
      "    344 ( 0.01%)  ./elf/./elf/dl-sort-maps.c:_dl_sort_maps [/usr/lib/x86_64-linux-gnu/ld-linux-x86-64.so.2]\n",
      "    342 ( 0.01%)  ./elf/./get-dynamic-info.h:dl_main\n",
      "    315 ( 0.01%)  ???:0x0000000000003740 [/usr/lib/x86_64-linux-gnu/libgcc_s.so.1]\n",
      "    312 ( 0.01%)  ./elf/./elf/dl-load.c:_dl_init_paths [/usr/lib/x86_64-linux-gnu/ld-linux-x86-64.so.2]\n",
      "    310 ( 0.01%)  ./setjmp/../sysdeps/x86_64/setjmp.S:__sigsetjmp [/usr/lib/x86_64-linux-gnu/libc.so.6]\n",
      "    294 ( 0.01%)  ???:0x00000000000dc720 [/usr/lib/x86_64-linux-gnu/libstdc++.so.6.0.30]\n",
      "    278 ( 0.01%)  ./elf/./elf/dl-find_object.c:_dlfo_process_initial [/usr/lib/x86_64-linux-gnu/ld-linux-x86-64.so.2]\n",
      "\n",
      "--------------------------------------------------------------------------------\n",
      "-- User-annotated source: exaustiva.cpp\n",
      "--------------------------------------------------------------------------------\n",
      "  No information has been collected for exaustiva.cpp\n",
      "\n",
      "--------------------------------------------------------------------------------\n",
      "The following files chosen for auto-annotation could not be found:\n",
      "--------------------------------------------------------------------------------\n",
      "  ./elf/../bits/stdlib-bsearch.h\n",
      "  ./elf/../elf/dl-sysdep.c\n",
      "  ./elf/../elf/dl-tls.c\n",
      "  ./elf/../sysdeps/generic/dl-protected.h\n",
      "  ./elf/../sysdeps/generic/ldsodefs.h\n",
      "  ./elf/../sysdeps/nptl/dl-tls_init_tp.c\n",
      "  ./elf/../sysdeps/x86/dl-cacheinfo.h\n",
      "  ./elf/../sysdeps/x86/dl-prop.h\n",
      "  ./elf/../sysdeps/x86_64/dl-machine.h\n",
      "  ./elf/../sysdeps/x86_64/dl-trampoline.h\n",
      "  ./elf/./dl-find_object.h\n",
      "  ./elf/./dl-map-segments.h\n",
      "  ./elf/./elf/dl-cache.c\n",
      "  ./elf/./elf/dl-deps.c\n",
      "  ./elf/./elf/dl-environ.c\n",
      "  ./elf/./elf/dl-error-skeleton.c\n",
      "  ./elf/./elf/dl-find_object.c\n",
      "  ./elf/./elf/dl-fini.c\n",
      "  ./elf/./elf/dl-hwcaps.c\n",
      "  ./elf/./elf/dl-hwcaps_split.c\n",
      "  ./elf/./elf/dl-init.c\n",
      "  ./elf/./elf/dl-load.c\n",
      "  ./elf/./elf/dl-lookup.c\n",
      "  ./elf/./elf/dl-minimal-malloc.c\n",
      "  ./elf/./elf/dl-misc.c\n",
      "  ./elf/./elf/dl-object.c\n",
      "  ./elf/./elf/dl-profstub.c\n",
      "  ./elf/./elf/dl-reloc.c\n",
      "  ./elf/./elf/dl-runtime.c\n",
      "  ./elf/./elf/dl-sort-maps.c\n",
      "  ./elf/./elf/dl-tunables.c\n",
      "  ./elf/./elf/dl-tunables.h\n",
      "  ./elf/./elf/dl-version.c\n",
      "  ./elf/./elf/do-rel.h\n",
      "  ./elf/./elf/get-dynamic-info.h\n",
      "  ./elf/./elf/rtld.c\n",
      "  ./elf/./get-dynamic-info.h\n",
      "  ./iconv/./iconv/gconv_simple.c\n",
      "  ./io/../sysdeps/unix/sysv/linux/open64_nocancel.c\n",
      "  ./libio/./libio/iofflush.c\n",
      "  ./malloc/./malloc/malloc.c\n",
      "  ./setjmp/../sysdeps/x86_64/setjmp.S\n",
      "  ./stdlib/./stdlib/cxa_atexit.c\n",
      "  ./stdlib/./stdlib/cxa_finalize.c\n",
      "  ./string/../sysdeps/x86_64/multiarch/../strchr.S\n",
      "  ./string/../sysdeps/x86_64/multiarch/memcmp-avx2-movbe.S\n",
      "  ./string/../sysdeps/x86_64/multiarch/memmove-vec-unaligned-erms.S\n",
      "  ./string/../sysdeps/x86_64/multiarch/memset-vec-unaligned-erms.S\n",
      "  ./string/../sysdeps/x86_64/multiarch/strlen-avx2.S\n",
      "  ./string/../sysdeps/x86_64/multiarch/strlen-vec.S\n",
      "  ./string/../sysdeps/x86_64/strcmp.S\n",
      "  ./wcsmbs/./wcsmbs/btowc.c\n",
      "  ./wcsmbs/./wcsmbs/wctob.c\n",
      "  ./wcsmbs/./wcsmbsload.h\n",
      "  ./wctype/./wctype/wctype_l.c\n",
      "\n"
     ]
    }
   ],
   "source": [
    "!callgrind_annotate callgrind.out.27914 exaustiva.cpp "
   ]
  },
  {
   "attachments": {},
   "cell_type": "markdown",
   "metadata": {},
   "source": [
    "### Exaustiva com Open MP"
   ]
  },
  {
   "cell_type": "code",
   "execution_count": 29,
   "metadata": {},
   "outputs": [
    {
     "name": "stdout",
     "output_type": "stream",
     "text": [
      "==27931== Callgrind, a call-graph generating cache profiler\n",
      "==27931== Copyright (C) 2002-2017, and GNU GPL'd, by Josef Weidendorfer et al.\n",
      "==27931== Using Valgrind-3.18.1 and LibVEX; rerun with -h for copyright info\n",
      "==27931== Command: ./exaustiva_opmp\n",
      "==27931== \n",
      "==27931== For interactive control, run 'callgrind_control -h'.\n",
      "==27931== \n",
      "==27931== Events    : Ir\n",
      "==27931== Collected : 2350771\n",
      "==27931== \n",
      "==27931== I   refs:      2,350,771\n"
     ]
    }
   ],
   "source": [
    "!valgrind --tool=callgrind ./exaustiva_opmp <input_valgrind.txt > exaustiva_opmp_valgrind_output.txt"
   ]
  },
  {
   "attachments": {},
   "cell_type": "markdown",
   "metadata": {},
   "source": [
    "Com isso, encontramos o valor de PID= 27931 e podemos executar o codigo:"
   ]
  },
  {
   "cell_type": "code",
   "execution_count": 30,
   "metadata": {},
   "outputs": [
    {
     "name": "stdout",
     "output_type": "stream",
     "text": [
      "--------------------------------------------------------------------------------\n",
      "Profile data file 'callgrind.out.27931' (creator: callgrind-3.18.1)\n",
      "--------------------------------------------------------------------------------\n",
      "I1 cache: \n",
      "D1 cache: \n",
      "LL cache: \n",
      "Timerange: Basic block 0 - 378365\n",
      "Trigger: Program termination\n",
      "Profiled target:  ./exaustiva_opmp (PID 27931, part 1)\n",
      "Events recorded:  Ir\n",
      "Events shown:     Ir\n",
      "Event sort order: Ir\n",
      "Thresholds:       99\n",
      "Include dirs:     \n",
      "User annotated:   exaustiva_opmp.cpp\n",
      "Auto-annotation:  on\n",
      "\n",
      "--------------------------------------------------------------------------------\n",
      "Ir                 \n",
      "--------------------------------------------------------------------------------\n",
      "2,350,771 (100.0%)  PROGRAM TOTALS\n",
      "\n",
      "--------------------------------------------------------------------------------\n",
      "Ir                file:function\n",
      "--------------------------------------------------------------------------------\n",
      "983,058 (41.82%)  ./elf/./elf/dl-lookup.c:_dl_lookup_symbol_x [/usr/lib/x86_64-linux-gnu/ld-linux-x86-64.so.2]\n",
      "568,624 (24.19%)  ./elf/./elf/dl-lookup.c:do_lookup_x [/usr/lib/x86_64-linux-gnu/ld-linux-x86-64.so.2]\n",
      "260,144 (11.07%)  ./elf/../sysdeps/x86_64/dl-machine.h:_dl_relocate_object\n",
      "118,781 ( 5.05%)  ./elf/./elf/dl-lookup.c:check_match [/usr/lib/x86_64-linux-gnu/ld-linux-x86-64.so.2]\n",
      "108,431 ( 4.61%)  ./elf/./elf/do-rel.h:_dl_relocate_object\n",
      " 73,695 ( 3.13%)  ./string/../sysdeps/x86_64/strcmp.S:strcmp [/usr/lib/x86_64-linux-gnu/ld-linux-x86-64.so.2]\n",
      " 49,834 ( 2.12%)  ./elf/./elf/dl-tunables.c:__GI___tunables_init [/usr/lib/x86_64-linux-gnu/ld-linux-x86-64.so.2]\n",
      " 19,788 ( 0.84%)  ./elf/../sysdeps/generic/dl-protected.h:do_lookup_x\n",
      " 12,128 ( 0.52%)  ???:std::locale::_Impl::_M_install_facet(std::locale::id const*, std::locale::facet const*) [/usr/lib/x86_64-linux-gnu/libstdc++.so.6.0.30]\n",
      " 11,753 ( 0.50%)  ./elf/./elf/dl-version.c:_dl_check_map_versions [/usr/lib/x86_64-linux-gnu/ld-linux-x86-64.so.2]\n",
      " 10,935 ( 0.47%)  ./elf/../sysdeps/generic/ldsodefs.h:do_lookup_x\n",
      " 10,240 ( 0.44%)  ./wcsmbs/./wcsmbs/btowc.c:btowc [/usr/lib/x86_64-linux-gnu/libc.so.6]\n",
      " 10,173 ( 0.43%)  ./elf/../sysdeps/generic/ldsodefs.h:_dl_relocate_object\n",
      "  8,276 ( 0.35%)  ./elf/./elf/dl-runtime.c:_dl_fixup [/usr/lib/x86_64-linux-gnu/ld-linux-x86-64.so.2]\n",
      "  4,164 ( 0.18%)  ./elf/./elf/dl-reloc.c:_dl_relocate_object [/usr/lib/x86_64-linux-gnu/ld-linux-x86-64.so.2]\n",
      "  3,862 ( 0.16%)  ./elf/./elf/dl-tunables.h:__GI___tunables_init\n",
      "  3,782 ( 0.16%)  ./elf/./elf/dl-load.c:_dl_map_object_from_fd [/usr/lib/x86_64-linux-gnu/ld-linux-x86-64.so.2]\n",
      "  3,608 ( 0.15%)  ./elf/../sysdeps/x86_64/dl-trampoline.h:_dl_runtime_resolve_xsave [/usr/lib/x86_64-linux-gnu/ld-linux-x86-64.so.2]\n",
      "  3,456 ( 0.15%)  ./wcsmbs/./wcsmbs/wctob.c:wctob [/usr/lib/x86_64-linux-gnu/libc.so.6]\n",
      "  3,132 ( 0.13%)  ./elf/./elf/dl-cache.c:_dl_cache_libcmp [/usr/lib/x86_64-linux-gnu/ld-linux-x86-64.so.2]\n",
      "  3,085 ( 0.13%)  ./elf/../sysdeps/x86/dl-cacheinfo.h:intel_check_word.constprop.0 [/usr/lib/x86_64-linux-gnu/ld-linux-x86-64.so.2]\n",
      "  2,848 ( 0.12%)  ./elf/./elf/dl-misc.c:_dl_name_match_p [/usr/lib/x86_64-linux-gnu/ld-linux-x86-64.so.2]\n",
      "  2,733 ( 0.12%)  ???:std::ctype<wchar_t>::_M_initialize_ctype() [/usr/lib/x86_64-linux-gnu/libstdc++.so.6.0.30]\n",
      "  2,640 ( 0.11%)  ???:__dynamic_cast [/usr/lib/x86_64-linux-gnu/libstdc++.so.6.0.30]\n",
      "  2,243 ( 0.10%)  ./elf/./elf/dl-load.c:_dl_map_object [/usr/lib/x86_64-linux-gnu/ld-linux-x86-64.so.2]\n",
      "  2,226 ( 0.09%)  ./elf/./elf/dl-deps.c:_dl_map_object_deps [/usr/lib/x86_64-linux-gnu/ld-linux-x86-64.so.2]\n",
      "  2,222 ( 0.09%)  ./elf/../bits/stdlib-bsearch.h:intel_check_word.constprop.0\n",
      "  1,513 ( 0.06%)  ./elf/./elf/dl-load.c:open_verify.constprop.0 [/usr/lib/x86_64-linux-gnu/ld-linux-x86-64.so.2]\n",
      "  1,492 ( 0.06%)  ./elf/./elf/get-dynamic-info.h:_dl_map_object_from_fd\n",
      "  1,480 ( 0.06%)  ???:__cxxabiv1::__si_class_type_info::__do_dyncast(long, __cxxabiv1::__class_type_info::__sub_kind, __cxxabiv1::__class_type_info const*, void const*, __cxxabiv1::__class_type_info const*, void const*, __cxxabiv1::__class_type_info::__dyncast_result&) const [/usr/lib/x86_64-linux-gnu/libstdc++.so.6.0.30]\n",
      "  1,308 ( 0.06%)  ./elf/./elf/rtld.c:dl_main [/usr/lib/x86_64-linux-gnu/ld-linux-x86-64.so.2]\n",
      "  1,266 ( 0.05%)  ./elf/./elf/dl-load.c:open_path [/usr/lib/x86_64-linux-gnu/ld-linux-x86-64.so.2]\n",
      "  1,226 ( 0.05%)  ./elf/./elf/dl-cache.c:_dl_load_cache_lookup [/usr/lib/x86_64-linux-gnu/ld-linux-x86-64.so.2]\n",
      "  1,129 ( 0.05%)  ./elf/./elf/dl-object.c:_dl_new_object [/usr/lib/x86_64-linux-gnu/ld-linux-x86-64.so.2]\n",
      "  1,115 ( 0.05%)  ./elf/./elf/dl-minimal-malloc.c:__minimal_malloc [/usr/lib/x86_64-linux-gnu/ld-linux-x86-64.so.2]\n",
      "  1,098 ( 0.05%)  ???:std::locale::id::_M_id() const [/usr/lib/x86_64-linux-gnu/libstdc++.so.6.0.30]\n",
      "  1,095 ( 0.05%)  ./string/../sysdeps/x86_64/multiarch/memcmp-avx2-movbe.S:__memcmp_avx2_movbe [/usr/lib/x86_64-linux-gnu/libc.so.6]\n",
      "  1,036 ( 0.04%)  ./wctype/./wctype/wctype_l.c:wctype_l [/usr/lib/x86_64-linux-gnu/libc.so.6]\n",
      "    952 ( 0.04%)  ./string/../sysdeps/x86_64/multiarch/strlen-avx2.S:__strlen_avx2 [/usr/lib/x86_64-linux-gnu/libc.so.6]\n",
      "    896 ( 0.04%)  ./wcsmbs/./wcsmbsload.h:btowc\n",
      "    883 ( 0.04%)  ./elf/../sysdeps/x86_64/dl-machine.h:_dl_start\n",
      "    816 ( 0.03%)  ./string/../sysdeps/x86_64/multiarch/memset-vec-unaligned-erms.S:memset [/usr/lib/x86_64-linux-gnu/ld-linux-x86-64.so.2]\n",
      "    815 ( 0.03%)  ./elf/./elf/do-rel.h:_dl_start\n",
      "    797 ( 0.03%)  ./string/../sysdeps/x86_64/multiarch/strlen-vec.S:strlen [/usr/lib/x86_64-linux-gnu/ld-linux-x86-64.so.2]\n",
      "    776 ( 0.03%)  ./malloc/./malloc/malloc.c:ptmalloc_init.part.0\n",
      "    774 ( 0.03%)  ./elf/../sysdeps/nptl/dl-tls_init_tp.c:rtld_mutex_dummy [/usr/lib/x86_64-linux-gnu/ld-linux-x86-64.so.2]\n",
      "    768 ( 0.03%)  ./elf/./elf/dl-hwcaps.c:_dl_important_hwcaps [/usr/lib/x86_64-linux-gnu/ld-linux-x86-64.so.2]\n",
      "    768 ( 0.03%)  ./elf/./elf/dl-profstub.c:_dl_mcount_wrapper_check [/usr/lib/x86_64-linux-gnu/libc.so.6]\n",
      "    768 ( 0.03%)  ./iconv/./iconv/gconv_simple.c:__gconv_btwoc_ascii [/usr/lib/x86_64-linux-gnu/libc.so.6]\n",
      "    744 ( 0.03%)  ./string/../sysdeps/x86_64/multiarch/../strchr.S:index [/usr/lib/x86_64-linux-gnu/ld-linux-x86-64.so.2]\n",
      "    740 ( 0.03%)  ./elf/./elf/dl-tunables.c:__tunable_get_val [/usr/lib/x86_64-linux-gnu/ld-linux-x86-64.so.2]\n",
      "    732 ( 0.03%)  ???:std::ctype<char>::_M_widen_init() const [/usr/lib/x86_64-linux-gnu/libstdc++.so.6.0.30]\n",
      "    715 ( 0.03%)  ./elf/./dl-map-segments.h:_dl_map_object_from_fd\n",
      "    705 ( 0.03%)  ./stdlib/./stdlib/cxa_finalize.c:__cxa_finalize [/usr/lib/x86_64-linux-gnu/libc.so.6]\n",
      "    666 ( 0.03%)  ???:std::locale::_Impl::_Impl(unsigned long) [/usr/lib/x86_64-linux-gnu/libstdc++.so.6.0.30]\n",
      "    651 ( 0.03%)  ./elf/./elf/dl-environ.c:_dl_next_ld_env_entry [/usr/lib/x86_64-linux-gnu/ld-linux-x86-64.so.2]\n",
      "    633 ( 0.03%)  ./elf/../elf/dl-sysdep.c:_dl_sysdep_start [/usr/lib/x86_64-linux-gnu/ld-linux-x86-64.so.2]\n",
      "    629 ( 0.03%)  ./string/../sysdeps/x86_64/multiarch/memmove-vec-unaligned-erms.S:mempcpy [/usr/lib/x86_64-linux-gnu/ld-linux-x86-64.so.2]\n",
      "    596 ( 0.03%)  ./elf/../sysdeps/x86/dl-cacheinfo.h:handle_intel.constprop.0 [/usr/lib/x86_64-linux-gnu/ld-linux-x86-64.so.2]\n",
      "    594 ( 0.03%)  ./string/../sysdeps/x86_64/multiarch/memmove-vec-unaligned-erms.S:memcpy [/usr/lib/x86_64-linux-gnu/ld-linux-x86-64.so.2]\n",
      "    584 ( 0.02%)  ???:__cxxabiv1::__vmi_class_type_info::__do_dyncast(long, __cxxabiv1::__class_type_info::__sub_kind, __cxxabiv1::__class_type_info const*, void const*, __cxxabiv1::__class_type_info const*, void const*, __cxxabiv1::__class_type_info::__dyncast_result&) const [/usr/lib/x86_64-linux-gnu/libstdc++.so.6.0.30]\n",
      "    561 ( 0.02%)  ./malloc/./malloc/malloc.c:_int_malloc [/usr/lib/x86_64-linux-gnu/libc.so.6]\n",
      "    530 ( 0.02%)  ./elf/./elf/dl-sort-maps.c:dfs_traversal.part.0 [/usr/lib/x86_64-linux-gnu/ld-linux-x86-64.so.2]\n",
      "    517 ( 0.02%)  ???:0x00000000048f7a90 [???]\n",
      "    502 ( 0.02%)  ./elf/../sysdeps/x86/dl-prop.h:_dl_map_object_from_fd\n",
      "    464 ( 0.02%)  ???:std::ios_base::ios_base() [/usr/lib/x86_64-linux-gnu/libstdc++.so.6.0.30]\n",
      "    437 ( 0.02%)  ./elf/./elf/dl-hwcaps_split.c:_dl_hwcaps_split_masked [/usr/lib/x86_64-linux-gnu/ld-linux-x86-64.so.2]\n",
      "    436 ( 0.02%)  ./elf/./dl-find_object.h:_dl_find_object_from_map [/usr/lib/x86_64-linux-gnu/ld-linux-x86-64.so.2]\n",
      "    429 ( 0.02%)  ./stdlib/./stdlib/cxa_atexit.c:__cxa_atexit [/usr/lib/x86_64-linux-gnu/libc.so.6]\n",
      "    420 ( 0.02%)  ./elf/./elf/dl-error-skeleton.c:_dl_catch_exception [/usr/lib/x86_64-linux-gnu/ld-linux-x86-64.so.2]\n",
      "    414 ( 0.02%)  ./elf/./elf/dl-fini.c:_dl_fini [/usr/lib/x86_64-linux-gnu/ld-linux-x86-64.so.2]\n",
      "    414 ( 0.02%)  ???:std::__cxx11::numpunct<char>::_M_initialize_numpunct(__locale_struct*) [/usr/lib/x86_64-linux-gnu/libstdc++.so.6.0.30]\n",
      "    414 ( 0.02%)  ???:std::numpunct<char>::_M_initialize_numpunct(__locale_struct*) [/usr/lib/x86_64-linux-gnu/libstdc++.so.6.0.30]\n",
      "    413 ( 0.02%)  ./elf/./elf/dl-init.c:call_init.part.0 [/usr/lib/x86_64-linux-gnu/ld-linux-x86-64.so.2]\n",
      "    400 ( 0.02%)  ./io/../sysdeps/unix/sysv/linux/open64_nocancel.c:__open_nocancel [/usr/lib/x86_64-linux-gnu/ld-linux-x86-64.so.2]\n",
      "    392 ( 0.02%)  ./stdlib/./stdlib/cxa_atexit.c:__new_exitfn [/usr/lib/x86_64-linux-gnu/libc.so.6]\n",
      "    374 ( 0.02%)  ???:std::locale::locale() [/usr/lib/x86_64-linux-gnu/libstdc++.so.6.0.30]\n",
      "    360 ( 0.02%)  ./libio/./libio/iofflush.c:fflush [/usr/lib/x86_64-linux-gnu/libc.so.6]\n",
      "    350 ( 0.01%)  ./elf/../elf/dl-tls.c:_dl_allocate_tls_storage [/usr/lib/x86_64-linux-gnu/ld-linux-x86-64.so.2]\n",
      "    350 ( 0.01%)  ???:std::__cxx11::numpunct<wchar_t>::_M_initialize_numpunct(__locale_struct*) [/usr/lib/x86_64-linux-gnu/libstdc++.so.6.0.30]\n",
      "    350 ( 0.01%)  ???:std::numpunct<wchar_t>::_M_initialize_numpunct(__locale_struct*) [/usr/lib/x86_64-linux-gnu/libstdc++.so.6.0.30]\n",
      "    344 ( 0.01%)  ./elf/./elf/dl-sort-maps.c:_dl_sort_maps [/usr/lib/x86_64-linux-gnu/ld-linux-x86-64.so.2]\n",
      "    342 ( 0.01%)  ./elf/./get-dynamic-info.h:dl_main\n",
      "    315 ( 0.01%)  ???:0x0000000000003740 [/usr/lib/x86_64-linux-gnu/libgcc_s.so.1]\n",
      "    312 ( 0.01%)  ./elf/./elf/dl-load.c:_dl_init_paths [/usr/lib/x86_64-linux-gnu/ld-linux-x86-64.so.2]\n",
      "    310 ( 0.01%)  ./setjmp/../sysdeps/x86_64/setjmp.S:__sigsetjmp [/usr/lib/x86_64-linux-gnu/ld-linux-x86-64.so.2]\n",
      "    294 ( 0.01%)  ???:0x00000000000dc720 [/usr/lib/x86_64-linux-gnu/libstdc++.so.6.0.30]\n",
      "    278 ( 0.01%)  ./elf/./elf/dl-find_object.c:_dlfo_process_initial [/usr/lib/x86_64-linux-gnu/ld-linux-x86-64.so.2]\n",
      "\n",
      "--------------------------------------------------------------------------------\n",
      "-- User-annotated source: exaustiva_opmp.cpp\n",
      "--------------------------------------------------------------------------------\n",
      "  No information has been collected for exaustiva_opmp.cpp\n",
      "\n",
      "--------------------------------------------------------------------------------\n",
      "The following files chosen for auto-annotation could not be found:\n",
      "--------------------------------------------------------------------------------\n",
      "  ./elf/../bits/stdlib-bsearch.h\n",
      "  ./elf/../elf/dl-sysdep.c\n",
      "  ./elf/../elf/dl-tls.c\n",
      "  ./elf/../sysdeps/generic/dl-protected.h\n",
      "  ./elf/../sysdeps/generic/ldsodefs.h\n",
      "  ./elf/../sysdeps/nptl/dl-tls_init_tp.c\n",
      "  ./elf/../sysdeps/x86/dl-cacheinfo.h\n",
      "  ./elf/../sysdeps/x86/dl-prop.h\n",
      "  ./elf/../sysdeps/x86_64/dl-machine.h\n",
      "  ./elf/../sysdeps/x86_64/dl-trampoline.h\n",
      "  ./elf/./dl-find_object.h\n",
      "  ./elf/./dl-map-segments.h\n",
      "  ./elf/./elf/dl-cache.c\n",
      "  ./elf/./elf/dl-deps.c\n",
      "  ./elf/./elf/dl-environ.c\n",
      "  ./elf/./elf/dl-error-skeleton.c\n",
      "  ./elf/./elf/dl-find_object.c\n",
      "  ./elf/./elf/dl-fini.c\n",
      "  ./elf/./elf/dl-hwcaps.c\n",
      "  ./elf/./elf/dl-hwcaps_split.c\n",
      "  ./elf/./elf/dl-init.c\n",
      "  ./elf/./elf/dl-load.c\n",
      "  ./elf/./elf/dl-lookup.c\n",
      "  ./elf/./elf/dl-minimal-malloc.c\n",
      "  ./elf/./elf/dl-misc.c\n",
      "  ./elf/./elf/dl-object.c\n",
      "  ./elf/./elf/dl-profstub.c\n",
      "  ./elf/./elf/dl-reloc.c\n",
      "  ./elf/./elf/dl-runtime.c\n",
      "  ./elf/./elf/dl-sort-maps.c\n",
      "  ./elf/./elf/dl-tunables.c\n",
      "  ./elf/./elf/dl-tunables.h\n",
      "  ./elf/./elf/dl-version.c\n",
      "  ./elf/./elf/do-rel.h\n",
      "  ./elf/./elf/get-dynamic-info.h\n",
      "  ./elf/./elf/rtld.c\n",
      "  ./elf/./get-dynamic-info.h\n",
      "  ./iconv/./iconv/gconv_simple.c\n",
      "  ./io/../sysdeps/unix/sysv/linux/open64_nocancel.c\n",
      "  ./libio/./libio/iofflush.c\n",
      "  ./malloc/./malloc/malloc.c\n",
      "  ./setjmp/../sysdeps/x86_64/setjmp.S\n",
      "  ./stdlib/./stdlib/cxa_atexit.c\n",
      "  ./stdlib/./stdlib/cxa_finalize.c\n",
      "  ./string/../sysdeps/x86_64/multiarch/../strchr.S\n",
      "  ./string/../sysdeps/x86_64/multiarch/memcmp-avx2-movbe.S\n",
      "  ./string/../sysdeps/x86_64/multiarch/memmove-vec-unaligned-erms.S\n",
      "  ./string/../sysdeps/x86_64/multiarch/memset-vec-unaligned-erms.S\n",
      "  ./string/../sysdeps/x86_64/multiarch/strlen-avx2.S\n",
      "  ./string/../sysdeps/x86_64/multiarch/strlen-vec.S\n",
      "  ./string/../sysdeps/x86_64/strcmp.S\n",
      "  ./wcsmbs/./wcsmbs/btowc.c\n",
      "  ./wcsmbs/./wcsmbs/wctob.c\n",
      "  ./wcsmbs/./wcsmbsload.h\n",
      "  ./wctype/./wctype/wctype_l.c\n",
      "\n"
     ]
    }
   ],
   "source": [
    "!callgrind_annotate callgrind.out.27931 exaustiva_opmp.cpp "
   ]
  },
  {
   "attachments": {},
   "cell_type": "markdown",
   "metadata": {},
   "source": [
    "### Exaustiva com GPU"
   ]
  },
  {
   "cell_type": "code",
   "execution_count": 1,
   "metadata": {},
   "outputs": [
    {
     "name": "stdout",
     "output_type": "stream",
     "text": [
      "==1257032== Callgrind, a call-graph generating cache profiler\n",
      "==1257032== Copyright (C) 2002-2017, and GNU GPL'd, by Josef Weidendorfer et al.\n",
      "==1257032== Using Valgrind-3.15.0 and LibVEX; rerun with -h for copyright info\n",
      "==1257032== Command: ./exaustivacu\n",
      "==1257032== \n",
      "==1257032== For interactive control, run 'callgrind_control -h'.\n",
      "^C\n",
      "==1257032== \n",
      "==1257032== Process terminating with default action of signal 2 (SIGINT)\n",
      "==1257032==    at 0x1113B0: ??? (in /home/user/projeto-supercomp2/exaustivacu)\n",
      "==1257032==    by 0x111F41: inputMovies(std::vector<Movie, std::allocator<Movie> >&, int) (in /home/user/projeto-supercomp2/exaustivacu)\n",
      "==1257032==    by 0x112277: main (in /home/user/projeto-supercomp2/exaustivacu)\n",
      "==1257032== \n",
      "==1257032== Events    : Ir\n",
      "==1257032== Collected : 15523244562\n",
      "==1257032== \n",
      "==1257032== I   refs:      15,523,244,562\n"
     ]
    }
   ],
   "source": [
    "!valgrind --tool=callgrind ./exaustivacu <input_valgrind.txt > exaustiva_valgrind_cu_output.txt"
   ]
  },
  {
   "attachments": {},
   "cell_type": "markdown",
   "metadata": {},
   "source": [
    "Com isso, encontramos o valor de PID= 1257032 e podemos executar o codigo:\n"
   ]
  },
  {
   "cell_type": "code",
   "execution_count": 2,
   "metadata": {},
   "outputs": [
    {
     "name": "stdout",
     "output_type": "stream",
     "text": [
      "--------------------------------------------------------------------------------\n",
      "Profile data file 'callgrind.out.1257032' (creator: callgrind-3.15.0)\n",
      "--------------------------------------------------------------------------------\n",
      "I1 cache: \n",
      "D1 cache: \n",
      "LL cache: \n",
      "Timerange: Basic block 0 - 2810141682\n",
      "Trigger: Program termination\n",
      "Profiled target:  ./exaustivacu (PID 1257032, part 1)\n",
      "Events recorded:  Ir\n",
      "Events shown:     Ir\n",
      "Event sort order: Ir\n",
      "Thresholds:       99\n",
      "Include dirs:     \n",
      "User annotated:   exaustiva.cu\n",
      "Auto-annotation:  off\n",
      "\n",
      "--------------------------------------------------------------------------------\n",
      "Ir             \n",
      "--------------------------------------------------------------------------------\n",
      "15,523,244,562  PROGRAM TOTALS\n",
      "\n",
      "--------------------------------------------------------------------------------\n",
      "Ir             file:function\n",
      "--------------------------------------------------------------------------------\n",
      "3,831,906,624  ???:std::istream::operator>>(int&) [/usr/lib/x86_64-linux-gnu/libstdc++.so.6.0.28]\n",
      "3,242,382,560  ???:std::istream::sentry::sentry(std::istream&, bool) [/usr/lib/x86_64-linux-gnu/libstdc++.so.6.0.28]\n",
      "2,014,207,305  ???:inputMovies(std::vector<Movie, std::allocator<Movie> >&, int) [/home/user/projeto-supercomp2/exaustivacu]\n",
      "1,375,556,088  ???:std::vector<Movie, std::allocator<Movie> >::push_back(Movie const&) [/home/user/projeto-supercomp2/exaustivacu]\n",
      "1,277,302,182  ???:void __gnu_cxx::new_allocator<Movie>::construct<Movie, Movie const&>(Movie*, Movie const&) [/home/user/projeto-supercomp2/exaustivacu]\n",
      "1,031,667,168  ???:std::basic_ios<char, std::char_traits<char> >::clear(std::_Ios_Iostate) [/usr/lib/x86_64-linux-gnu/libstdc++.so.6.0.28]\n",
      "  933,413,133  ???:void std::allocator_traits<std::allocator<Movie> >::construct<Movie, Movie const&>(std::allocator<Movie>&, Movie*, Movie const&) [/home/user/projeto-supercomp2/exaustivacu]\n",
      "  687,778,287  ???:Movie const& std::forward<Movie const&>(std::remove_reference<Movie const&>::type&) [/home/user/projeto-supercomp2/exaustivacu]\n",
      "  393,016,056  ???:operator new(unsigned long, void*) [/home/user/projeto-supercomp2/exaustivacu]\n",
      "  294,762,053  ???:0x00000000049196a0 [???]\n",
      "  294,762,053  ???:0x0000000004919a20 [???]\n",
      "\n",
      "--------------------------------------------------------------------------------\n",
      "-- User-annotated source: exaustiva.cu\n",
      "--------------------------------------------------------------------------------\n",
      "  No information has been collected for exaustiva.cu\n",
      "\n"
     ]
    }
   ],
   "source": [
    "!callgrind_annotate callgrind.out.1257032 exaustiva.cu"
   ]
  },
  {
   "attachments": {},
   "cell_type": "markdown",
   "metadata": {},
   "source": [
    "## comparando desempenhos"
   ]
  },
  {
   "attachments": {},
   "cell_type": "markdown",
   "metadata": {},
   "source": [
    "### Compilando"
   ]
  },
  {
   "attachments": {},
   "cell_type": "markdown",
   "metadata": {},
   "source": [
    "Exemplo de compilação"
   ]
  },
  {
   "cell_type": "code",
   "execution_count": null,
   "metadata": {},
   "outputs": [],
   "source": [
    " g++ -Wall -O3 -g exaustiva.cpp -o exaustiva"
   ]
  },
  {
   "attachments": {},
   "cell_type": "markdown",
   "metadata": {},
   "source": [
    "### Executando"
   ]
  },
  {
   "attachments": {},
   "cell_type": "markdown",
   "metadata": {},
   "source": [
    "Exemplo de execução"
   ]
  },
  {
   "cell_type": "code",
   "execution_count": null,
   "metadata": {},
   "outputs": [],
   "source": [
    "./exaustiva < input_files3/input_10000_100.txt > /output_files3/greedy_output_10000_100.txt"
   ]
  },
  {
   "attachments": {},
   "cell_type": "markdown",
   "metadata": {},
   "source": [
    "## Comparação de resultados"
   ]
  },
  {
   "attachments": {},
   "cell_type": "markdown",
   "metadata": {},
   "source": [
    "## Cenário 1: número de categorias constante"
   ]
  },
  {
   "attachments": {},
   "cell_type": "markdown",
   "metadata": {},
   "source": [
    "### Utilizaremos um número constante (5) de categorias. Os arquivos estão presentes na pasta input_files3"
   ]
  },
  {
   "attachments": {},
   "cell_type": "markdown",
   "metadata": {},
   "source": [
    "O código abaixo é responsável por testar o desempenho de tres algoritmos diferentes - \"exaustiva\" , \"exaustivacu\" e \"exaustiva_opmp\" - em diferentes arquivos de entrada com diferentes tamanhos de dados. O objetivo é comparar o tempo de execução e o consumo de memória dos dois algoritmos em diferentes cenários.\n",
    "\n",
    "O código cria uma estrutura de dados em forma de dicionário que armazena os resultados de cada teste. Para cada algoritmo e arquivo de entrada, o código executa o algoritmo dez vezes e mede o tempo de execução e o consumo de memória para cada execução. Os resultados são armazenados no dicionário criado anteriormente para posterior análise.\n",
    "\n",
    "O código usa a biblioteca pandas para criar um dataframe que organiza os resultados em uma tabela e a biblioteca matplotlib para plotar gráficos que mostram a comparação de desempenho entre os dois algoritmos em diferentes cenários."
   ]
  },
  {
   "cell_type": "code",
   "execution_count": 33,
   "metadata": {},
   "outputs": [
    {
     "name": "stdout",
     "output_type": "stream",
     "text": [
      "exaustiva_opmp - input_12_5.txt - 1/10\n",
      "\tTime: 0.19109344482421875\n",
      "exaustiva_opmp - input_12_5.txt - 2/10\n",
      "\tTime: 0.006313323974609375\n",
      "exaustiva_opmp - input_12_5.txt - 3/10\n",
      "\tTime: 0.004718303680419922\n",
      "exaustiva_opmp - input_12_5.txt - 4/10\n"
     ]
    },
    {
     "name": "stderr",
     "output_type": "stream",
     "text": [
      "realloc(): invalid pointer\n",
      "Aborted (core dumped)\n"
     ]
    },
    {
     "name": "stdout",
     "output_type": "stream",
     "text": [
      "\tTime: 0.004812479019165039\n",
      "exaustiva_opmp - input_12_5.txt - 5/10\n",
      "\tTime: 0.007016897201538086\n",
      "exaustiva_opmp - input_12_5.txt - 6/10\n",
      "\tTime: 0.1869339942932129\n",
      "exaustiva_opmp - input_12_5.txt - 7/10\n"
     ]
    },
    {
     "name": "stderr",
     "output_type": "stream",
     "text": [
      "realloc(): invalid pointer\n",
      "Aborted (core dumped)\n"
     ]
    },
    {
     "name": "stdout",
     "output_type": "stream",
     "text": [
      "\tTime: 0.01647043228149414\n",
      "exaustiva_opmp - input_12_5.txt - 8/10\n",
      "\tTime: 0.18547415733337402\n",
      "exaustiva_opmp - input_12_5.txt - 9/10\n"
     ]
    },
    {
     "name": "stderr",
     "output_type": "stream",
     "text": [
      "realloc(): invalid pointer\n",
      "Aborted (core dumped)\n",
      "realloc(): invalid pointer\n",
      "Aborted (core dumped)\n"
     ]
    },
    {
     "name": "stdout",
     "output_type": "stream",
     "text": [
      "\tTime: 0.1875293254852295\n",
      "exaustiva_opmp - input_12_5.txt - 10/10\n",
      "\tTime: 0.01645183563232422\n",
      "exaustiva_opmp - input_16_5.txt - 1/10\n"
     ]
    },
    {
     "name": "stderr",
     "output_type": "stream",
     "text": [
      "Segmentation fault (core dumped)\n",
      "Segmentation fault (core dumped)\n"
     ]
    },
    {
     "name": "stdout",
     "output_type": "stream",
     "text": [
      "\tTime: 0.1896820068359375\n",
      "exaustiva_opmp - input_16_5.txt - 2/10\n",
      "\tTime: 0.18389439582824707\n",
      "exaustiva_opmp - input_16_5.txt - 3/10\n"
     ]
    },
    {
     "name": "stderr",
     "output_type": "stream",
     "text": [
      "Segmentation fault (core dumped)\n",
      "Segmentation fault (core dumped)\n"
     ]
    },
    {
     "name": "stdout",
     "output_type": "stream",
     "text": [
      "\tTime: 0.18710732460021973\n",
      "exaustiva_opmp - input_16_5.txt - 4/10\n",
      "\tTime: 0.18735384941101074\n",
      "exaustiva_opmp - input_16_5.txt - 5/10\n"
     ]
    },
    {
     "name": "stderr",
     "output_type": "stream",
     "text": [
      "Segmentation fault (core dumped)\n",
      "Segmentation fault (core dumped)\n"
     ]
    },
    {
     "name": "stdout",
     "output_type": "stream",
     "text": [
      "\tTime: 0.18761801719665527\n",
      "exaustiva_opmp - input_16_5.txt - 6/10\n",
      "\tTime: 0.18412160873413086\n",
      "exaustiva_opmp - input_16_5.txt - 7/10\n"
     ]
    },
    {
     "name": "stderr",
     "output_type": "stream",
     "text": [
      "Segmentation fault (core dumped)\n",
      "Segmentation fault (core dumped)\n"
     ]
    },
    {
     "name": "stdout",
     "output_type": "stream",
     "text": [
      "\tTime: 0.18432855606079102\n",
      "exaustiva_opmp - input_16_5.txt - 8/10\n",
      "\tTime: 0.18984532356262207\n",
      "exaustiva_opmp - input_16_5.txt - 9/10\n"
     ]
    },
    {
     "name": "stderr",
     "output_type": "stream",
     "text": [
      "Segmentation fault (core dumped)\n",
      "Segmentation fault (core dumped)\n"
     ]
    },
    {
     "name": "stdout",
     "output_type": "stream",
     "text": [
      "\tTime: 0.18344950675964355\n",
      "exaustiva_opmp - input_16_5.txt - 10/10\n",
      "\tTime: 0.18934345245361328\n",
      "exaustiva_opmp - input_24_5.txt - 1/10\n"
     ]
    },
    {
     "name": "stderr",
     "output_type": "stream",
     "text": [
      "Segmentation fault (core dumped)\n"
     ]
    },
    {
     "name": "stdout",
     "output_type": "stream",
     "text": [
      "\tTime: 0.26009464263916016\n",
      "exaustiva_opmp - input_24_5.txt - 2/10\n"
     ]
    },
    {
     "name": "stderr",
     "output_type": "stream",
     "text": [
      "Segmentation fault (core dumped)\n"
     ]
    },
    {
     "name": "stdout",
     "output_type": "stream",
     "text": [
      "\tTime: 0.25238680839538574\n",
      "exaustiva_opmp - input_24_5.txt - 3/10\n"
     ]
    },
    {
     "name": "stderr",
     "output_type": "stream",
     "text": [
      "Segmentation fault (core dumped)\n"
     ]
    },
    {
     "name": "stdout",
     "output_type": "stream",
     "text": [
      "\tTime: 0.25418949127197266\n",
      "exaustiva_opmp - input_24_5.txt - 4/10\n"
     ]
    },
    {
     "name": "stderr",
     "output_type": "stream",
     "text": [
      "Segmentation fault (core dumped)\n"
     ]
    },
    {
     "name": "stdout",
     "output_type": "stream",
     "text": [
      "\tTime: 0.24802851676940918\n",
      "exaustiva_opmp - input_24_5.txt - 5/10\n"
     ]
    },
    {
     "name": "stderr",
     "output_type": "stream",
     "text": [
      "Segmentation fault (core dumped)\n"
     ]
    },
    {
     "name": "stdout",
     "output_type": "stream",
     "text": [
      "\tTime: 0.24927067756652832\n",
      "exaustiva_opmp - input_24_5.txt - 6/10\n"
     ]
    },
    {
     "name": "stderr",
     "output_type": "stream",
     "text": [
      "Segmentation fault (core dumped)\n"
     ]
    },
    {
     "name": "stdout",
     "output_type": "stream",
     "text": [
      "\tTime: 0.2511293888092041\n",
      "exaustiva_opmp - input_24_5.txt - 7/10\n"
     ]
    },
    {
     "name": "stderr",
     "output_type": "stream",
     "text": [
      "Segmentation fault (core dumped)\n"
     ]
    },
    {
     "name": "stdout",
     "output_type": "stream",
     "text": [
      "\tTime: 0.2485513687133789\n",
      "exaustiva_opmp - input_24_5.txt - 8/10\n"
     ]
    },
    {
     "name": "stderr",
     "output_type": "stream",
     "text": [
      "Segmentation fault (core dumped)\n"
     ]
    },
    {
     "name": "stdout",
     "output_type": "stream",
     "text": [
      "\tTime: 0.24967598915100098\n",
      "exaustiva_opmp - input_24_5.txt - 9/10\n"
     ]
    },
    {
     "name": "stderr",
     "output_type": "stream",
     "text": [
      "Segmentation fault (core dumped)\n"
     ]
    },
    {
     "name": "stdout",
     "output_type": "stream",
     "text": [
      "\tTime: 0.2448716163635254\n",
      "exaustiva_opmp - input_24_5.txt - 10/10\n"
     ]
    },
    {
     "name": "stderr",
     "output_type": "stream",
     "text": [
      "Segmentation fault (core dumped)\n"
     ]
    },
    {
     "name": "stdout",
     "output_type": "stream",
     "text": [
      "\tTime: 0.2471332550048828\n",
      "exaustiva_opmp - input_28_5.txt - 1/10\n"
     ]
    },
    {
     "name": "stderr",
     "output_type": "stream",
     "text": [
      "Segmentation fault (core dumped)\n"
     ]
    },
    {
     "name": "stdout",
     "output_type": "stream",
     "text": [
      "\tTime: 0.6791739463806152\n",
      "exaustiva_opmp - input_28_5.txt - 2/10\n"
     ]
    },
    {
     "name": "stderr",
     "output_type": "stream",
     "text": [
      "Segmentation fault (core dumped)\n"
     ]
    },
    {
     "name": "stdout",
     "output_type": "stream",
     "text": [
      "\tTime: 0.6810059547424316\n",
      "exaustiva_opmp - input_28_5.txt - 3/10\n"
     ]
    },
    {
     "name": "stderr",
     "output_type": "stream",
     "text": [
      "Segmentation fault (core dumped)\n"
     ]
    },
    {
     "name": "stdout",
     "output_type": "stream",
     "text": [
      "\tTime: 0.6801786422729492\n",
      "exaustiva_opmp - input_28_5.txt - 4/10\n"
     ]
    },
    {
     "name": "stderr",
     "output_type": "stream",
     "text": [
      "Segmentation fault (core dumped)\n"
     ]
    },
    {
     "name": "stdout",
     "output_type": "stream",
     "text": [
      "\tTime: 0.6772050857543945\n",
      "exaustiva_opmp - input_28_5.txt - 5/10\n"
     ]
    },
    {
     "name": "stderr",
     "output_type": "stream",
     "text": [
      "Segmentation fault (core dumped)\n"
     ]
    },
    {
     "name": "stdout",
     "output_type": "stream",
     "text": [
      "\tTime: 0.6887264251708984\n",
      "exaustiva_opmp - input_28_5.txt - 6/10\n"
     ]
    },
    {
     "name": "stderr",
     "output_type": "stream",
     "text": [
      "Segmentation fault (core dumped)\n"
     ]
    },
    {
     "name": "stdout",
     "output_type": "stream",
     "text": [
      "\tTime: 0.6783156394958496\n",
      "exaustiva_opmp - input_28_5.txt - 7/10\n"
     ]
    },
    {
     "name": "stderr",
     "output_type": "stream",
     "text": [
      "Segmentation fault (core dumped)\n"
     ]
    },
    {
     "name": "stdout",
     "output_type": "stream",
     "text": [
      "\tTime: 0.6912214756011963\n",
      "exaustiva_opmp - input_28_5.txt - 8/10\n"
     ]
    },
    {
     "name": "stderr",
     "output_type": "stream",
     "text": [
      "Segmentation fault (core dumped)\n"
     ]
    },
    {
     "name": "stdout",
     "output_type": "stream",
     "text": [
      "\tTime: 0.678680419921875\n",
      "exaustiva_opmp - input_28_5.txt - 9/10\n"
     ]
    },
    {
     "name": "stderr",
     "output_type": "stream",
     "text": [
      "Segmentation fault (core dumped)\n"
     ]
    },
    {
     "name": "stdout",
     "output_type": "stream",
     "text": [
      "\tTime: 0.6774957180023193\n",
      "exaustiva_opmp - input_28_5.txt - 10/10\n"
     ]
    },
    {
     "name": "stderr",
     "output_type": "stream",
     "text": [
      "Segmentation fault (core dumped)\n"
     ]
    },
    {
     "name": "stdout",
     "output_type": "stream",
     "text": [
      "\tTime: 0.6809422969818115\n",
      "exaustivacu - input_12_5.txt - 1/10\n",
      "\tTime: 2.1374521255493164\n",
      "exaustivacu - input_12_5.txt - 2/10\n",
      "\tTime: 2.1315531730651855\n",
      "exaustivacu - input_12_5.txt - 3/10\n",
      "\tTime: 2.134828567504883\n",
      "exaustivacu - input_12_5.txt - 4/10\n",
      "\tTime: 2.127673864364624\n",
      "exaustivacu - input_12_5.txt - 5/10\n",
      "\tTime: 2.1264448165893555\n",
      "exaustivacu - input_12_5.txt - 6/10\n",
      "\tTime: 2.1399085521698\n",
      "exaustivacu - input_12_5.txt - 7/10\n",
      "\tTime: 2.1329336166381836\n",
      "exaustivacu - input_12_5.txt - 8/10\n",
      "\tTime: 2.146353244781494\n",
      "exaustivacu - input_12_5.txt - 9/10\n",
      "\tTime: 2.125655174255371\n",
      "exaustivacu - input_12_5.txt - 10/10\n",
      "\tTime: 2.155461549758911\n",
      "exaustivacu - input_16_5.txt - 1/10\n",
      "\tTime: 2.137335777282715\n",
      "exaustivacu - input_16_5.txt - 2/10\n",
      "\tTime: 2.1282033920288086\n",
      "exaustivacu - input_16_5.txt - 3/10\n",
      "\tTime: 2.1301701068878174\n",
      "exaustivacu - input_16_5.txt - 4/10\n",
      "\tTime: 2.129044771194458\n",
      "exaustivacu - input_16_5.txt - 5/10\n",
      "\tTime: 2.131011724472046\n",
      "exaustivacu - input_16_5.txt - 6/10\n",
      "\tTime: 2.138183355331421\n",
      "exaustivacu - input_16_5.txt - 7/10\n",
      "\tTime: 2.1359939575195312\n",
      "exaustivacu - input_16_5.txt - 8/10\n",
      "\tTime: 2.152012348175049\n",
      "exaustivacu - input_16_5.txt - 9/10\n",
      "\tTime: 2.1294891834259033\n",
      "exaustivacu - input_16_5.txt - 10/10\n",
      "\tTime: 2.1263680458068848\n",
      "exaustivacu - input_24_5.txt - 1/10\n",
      "\tTime: 2.3665528297424316\n",
      "exaustivacu - input_24_5.txt - 2/10\n",
      "\tTime: 2.345513105392456\n",
      "exaustivacu - input_24_5.txt - 3/10\n",
      "\tTime: 2.350189447402954\n",
      "exaustivacu - input_24_5.txt - 4/10\n",
      "\tTime: 2.3536360263824463\n",
      "exaustivacu - input_24_5.txt - 5/10\n",
      "\tTime: 2.343785285949707\n",
      "exaustivacu - input_24_5.txt - 6/10\n",
      "\tTime: 2.3485946655273438\n",
      "exaustivacu - input_24_5.txt - 7/10\n",
      "\tTime: 2.3460075855255127\n",
      "exaustivacu - input_24_5.txt - 8/10\n",
      "\tTime: 2.362546920776367\n",
      "exaustivacu - input_24_5.txt - 9/10\n",
      "\tTime: 2.353421688079834\n",
      "exaustivacu - input_24_5.txt - 10/10\n",
      "\tTime: 2.3540830612182617\n",
      "exaustivacu - input_28_5.txt - 1/10\n",
      "\tTime: 5.598416566848755\n",
      "exaustivacu - input_28_5.txt - 2/10\n",
      "\tTime: 5.606767892837524\n",
      "exaustivacu - input_28_5.txt - 3/10\n",
      "\tTime: 5.604358673095703\n",
      "exaustivacu - input_28_5.txt - 4/10\n",
      "\tTime: 5.6238744258880615\n",
      "exaustivacu - input_28_5.txt - 5/10\n",
      "\tTime: 5.607861757278442\n",
      "exaustivacu - input_28_5.txt - 6/10\n",
      "\tTime: 5.601718902587891\n",
      "exaustivacu - input_28_5.txt - 7/10\n",
      "\tTime: 5.606893539428711\n",
      "exaustivacu - input_28_5.txt - 8/10\n",
      "\tTime: 5.609379529953003\n",
      "exaustivacu - input_28_5.txt - 9/10\n",
      "\tTime: 5.5976409912109375\n",
      "exaustivacu - input_28_5.txt - 10/10\n",
      "\tTime: 5.614046335220337\n",
      "exaustiva - input_12_5.txt - 1/10\n",
      "\tTime: 0.00543975830078125\n",
      "exaustiva - input_12_5.txt - 2/10\n",
      "\tTime: 0.004053831100463867\n",
      "exaustiva - input_12_5.txt - 3/10\n",
      "\tTime: 0.0035636425018310547\n",
      "exaustiva - input_12_5.txt - 4/10\n",
      "\tTime: 0.003362894058227539\n",
      "exaustiva - input_12_5.txt - 5/10\n",
      "\tTime: 0.003698110580444336\n",
      "exaustiva - input_12_5.txt - 6/10\n",
      "\tTime: 0.0035445690155029297\n",
      "exaustiva - input_12_5.txt - 7/10\n",
      "\tTime: 0.0036220550537109375\n",
      "exaustiva - input_12_5.txt - 8/10\n",
      "\tTime: 0.0035829544067382812\n",
      "exaustiva - input_12_5.txt - 9/10\n",
      "\tTime: 0.00330352783203125\n",
      "exaustiva - input_12_5.txt - 10/10\n",
      "\tTime: 0.003640413284301758\n",
      "exaustiva - input_16_5.txt - 1/10\n",
      "\tTime: 0.003920316696166992\n",
      "exaustiva - input_16_5.txt - 2/10\n",
      "\tTime: 0.0039997100830078125\n",
      "exaustiva - input_16_5.txt - 3/10\n",
      "\tTime: 0.003801107406616211\n",
      "exaustiva - input_16_5.txt - 4/10\n",
      "\tTime: 0.0040624141693115234\n",
      "exaustiva - input_16_5.txt - 5/10\n",
      "\tTime: 0.0038700103759765625\n",
      "exaustiva - input_16_5.txt - 6/10\n",
      "\tTime: 0.003780841827392578\n",
      "exaustiva - input_16_5.txt - 7/10\n",
      "\tTime: 0.0037202835083007812\n",
      "exaustiva - input_16_5.txt - 8/10\n",
      "\tTime: 0.004621028900146484\n",
      "exaustiva - input_16_5.txt - 9/10\n",
      "\tTime: 0.004571437835693359\n",
      "exaustiva - input_16_5.txt - 10/10\n",
      "\tTime: 0.003692150115966797\n",
      "exaustiva - input_24_5.txt - 1/10\n",
      "\tTime: 0.06271481513977051\n",
      "exaustiva - input_24_5.txt - 2/10\n",
      "\tTime: 0.0643777847290039\n",
      "exaustiva - input_24_5.txt - 3/10\n",
      "\tTime: 0.06342172622680664\n",
      "exaustiva - input_24_5.txt - 4/10\n",
      "\tTime: 0.064422607421875\n",
      "exaustiva - input_24_5.txt - 5/10\n",
      "\tTime: 0.0636904239654541\n",
      "exaustiva - input_24_5.txt - 6/10\n",
      "\tTime: 0.06465864181518555\n",
      "exaustiva - input_24_5.txt - 7/10\n",
      "\tTime: 0.06558609008789062\n",
      "exaustiva - input_24_5.txt - 8/10\n",
      "\tTime: 0.06374168395996094\n",
      "exaustiva - input_24_5.txt - 9/10\n",
      "\tTime: 0.06366777420043945\n",
      "exaustiva - input_24_5.txt - 10/10\n",
      "\tTime: 0.0648200511932373\n",
      "exaustiva - input_28_5.txt - 1/10\n",
      "\tTime: 0.493516206741333\n",
      "exaustiva - input_28_5.txt - 2/10\n",
      "\tTime: 0.49611854553222656\n",
      "exaustiva - input_28_5.txt - 3/10\n",
      "\tTime: 0.4940454959869385\n",
      "exaustiva - input_28_5.txt - 4/10\n",
      "\tTime: 0.49338269233703613\n",
      "exaustiva - input_28_5.txt - 5/10\n",
      "\tTime: 0.4931068420410156\n",
      "exaustiva - input_28_5.txt - 6/10\n",
      "\tTime: 0.4926724433898926\n",
      "exaustiva - input_28_5.txt - 7/10\n",
      "\tTime: 0.4935338497161865\n",
      "exaustiva - input_28_5.txt - 8/10\n",
      "\tTime: 0.49344539642333984\n",
      "exaustiva - input_28_5.txt - 9/10\n",
      "\tTime: 0.4937162399291992\n",
      "exaustiva - input_28_5.txt - 10/10\n",
      "\tTime: 0.5117597579956055\n"
     ]
    }
   ],
   "source": [
    "import time\n",
    "import subprocess\n",
    "\n",
    "algorithms = ['exaustiva_opmp', 'exaustivacu', 'exaustiva']\n",
    "file_sizes = ['input_12_5.txt', 'input_16_5.txt', 'input_24_5.txt', 'input_28_5.txt']\n",
    "\n",
    "data3 = {algo: {file: {'tempo': [], 'memoria': []} for file in file_sizes} for algo in algorithms}\n",
    "\n",
    "def number_of_movies(file):\n",
    "    with open(file, 'r') as f:\n",
    "        line = f.readline().split()\n",
    "        return int(line[0])\n",
    "    \n",
    "for algorithm, files in data3.items():\n",
    "    for file_name, measurements in files.items():\n",
    "        for i in range(10):\n",
    "            print(f\"{algorithm} - {file_name} - {i+1}/10\")\n",
    "            output_name = f\"{i}_{file_name.split('.')[0]}\"\n",
    "            start_time = time.time()\n",
    "            subprocess.run(f'./{algorithm} < input_files3/{file_name} > output_files3/{algorithm}_output_{output_name}', shell=True)\n",
    "            #!./{algorithm} < input_files1/{file_name} > output_files1/{algorithm}_output_{output_name}\n",
    "            end_time = time.time() - start_time\n",
    "            print(f\"\\tTime: {end_time}\")\n",
    "            measurements[\"tempo\"].append(end_time)\n",
    "            measurements[\"memoria\"].append(number_of_movies(f\"output_files3/{algorithm}_output_{output_name}\"))"
   ]
  },
  {
   "attachments": {},
   "cell_type": "markdown",
   "metadata": {},
   "source": [
    "Agora salvaremos o resultado em um json"
   ]
  },
  {
   "cell_type": "code",
   "execution_count": 34,
   "metadata": {},
   "outputs": [],
   "source": [
    "import json\n",
    "\n",
    "with open('data3.json', 'w') as fp:\n",
    "    json.dump(json.dumps(data3, indent=2), fp)"
   ]
  },
  {
   "attachments": {},
   "cell_type": "markdown",
   "metadata": {},
   "source": [
    "Gerando o DataFrame para ser utilizado no gráfico"
   ]
  },
  {
   "cell_type": "code",
   "execution_count": 35,
   "metadata": {},
   "outputs": [
    {
     "data": {
      "text/html": [
       "<div>\n",
       "<style scoped>\n",
       "    .dataframe tbody tr th:only-of-type {\n",
       "        vertical-align: middle;\n",
       "    }\n",
       "\n",
       "    .dataframe tbody tr th {\n",
       "        vertical-align: top;\n",
       "    }\n",
       "\n",
       "    .dataframe thead th {\n",
       "        text-align: right;\n",
       "    }\n",
       "</style>\n",
       "<table border=\"1\" class=\"dataframe\">\n",
       "  <thead>\n",
       "    <tr style=\"text-align: right;\">\n",
       "      <th></th>\n",
       "      <th>algorithm</th>\n",
       "      <th>file</th>\n",
       "      <th>iteration</th>\n",
       "      <th>tempo</th>\n",
       "      <th>memoria</th>\n",
       "    </tr>\n",
       "  </thead>\n",
       "  <tbody>\n",
       "    <tr>\n",
       "      <th>0</th>\n",
       "      <td>exaustiva_opmp</td>\n",
       "      <td>input_12_5.txt</td>\n",
       "      <td>1</td>\n",
       "      <td>0.191093</td>\n",
       "      <td>5</td>\n",
       "    </tr>\n",
       "    <tr>\n",
       "      <th>0</th>\n",
       "      <td>exaustiva_opmp</td>\n",
       "      <td>input_12_5.txt</td>\n",
       "      <td>2</td>\n",
       "      <td>0.006313</td>\n",
       "      <td>4</td>\n",
       "    </tr>\n",
       "    <tr>\n",
       "      <th>0</th>\n",
       "      <td>exaustiva_opmp</td>\n",
       "      <td>input_12_5.txt</td>\n",
       "      <td>3</td>\n",
       "      <td>0.004718</td>\n",
       "      <td>4</td>\n",
       "    </tr>\n",
       "    <tr>\n",
       "      <th>0</th>\n",
       "      <td>exaustiva_opmp</td>\n",
       "      <td>input_12_5.txt</td>\n",
       "      <td>4</td>\n",
       "      <td>0.004812</td>\n",
       "      <td>4</td>\n",
       "    </tr>\n",
       "    <tr>\n",
       "      <th>0</th>\n",
       "      <td>exaustiva_opmp</td>\n",
       "      <td>input_12_5.txt</td>\n",
       "      <td>5</td>\n",
       "      <td>0.007017</td>\n",
       "      <td>4</td>\n",
       "    </tr>\n",
       "    <tr>\n",
       "      <th>...</th>\n",
       "      <td>...</td>\n",
       "      <td>...</td>\n",
       "      <td>...</td>\n",
       "      <td>...</td>\n",
       "      <td>...</td>\n",
       "    </tr>\n",
       "    <tr>\n",
       "      <th>0</th>\n",
       "      <td>exaustiva</td>\n",
       "      <td>input_28_5.txt</td>\n",
       "      <td>6</td>\n",
       "      <td>0.492672</td>\n",
       "      <td>8</td>\n",
       "    </tr>\n",
       "    <tr>\n",
       "      <th>0</th>\n",
       "      <td>exaustiva</td>\n",
       "      <td>input_28_5.txt</td>\n",
       "      <td>7</td>\n",
       "      <td>0.493534</td>\n",
       "      <td>8</td>\n",
       "    </tr>\n",
       "    <tr>\n",
       "      <th>0</th>\n",
       "      <td>exaustiva</td>\n",
       "      <td>input_28_5.txt</td>\n",
       "      <td>8</td>\n",
       "      <td>0.493445</td>\n",
       "      <td>8</td>\n",
       "    </tr>\n",
       "    <tr>\n",
       "      <th>0</th>\n",
       "      <td>exaustiva</td>\n",
       "      <td>input_28_5.txt</td>\n",
       "      <td>9</td>\n",
       "      <td>0.493716</td>\n",
       "      <td>8</td>\n",
       "    </tr>\n",
       "    <tr>\n",
       "      <th>0</th>\n",
       "      <td>exaustiva</td>\n",
       "      <td>input_28_5.txt</td>\n",
       "      <td>10</td>\n",
       "      <td>0.511760</td>\n",
       "      <td>8</td>\n",
       "    </tr>\n",
       "  </tbody>\n",
       "</table>\n",
       "<p>120 rows × 5 columns</p>\n",
       "</div>"
      ],
      "text/plain": [
       "         algorithm            file iteration     tempo memoria\n",
       "0   exaustiva_opmp  input_12_5.txt         1  0.191093       5\n",
       "0   exaustiva_opmp  input_12_5.txt         2  0.006313       4\n",
       "0   exaustiva_opmp  input_12_5.txt         3  0.004718       4\n",
       "0   exaustiva_opmp  input_12_5.txt         4  0.004812       4\n",
       "0   exaustiva_opmp  input_12_5.txt         5  0.007017       4\n",
       "..             ...             ...       ...       ...     ...\n",
       "0        exaustiva  input_28_5.txt         6  0.492672       8\n",
       "0        exaustiva  input_28_5.txt         7  0.493534       8\n",
       "0        exaustiva  input_28_5.txt         8  0.493445       8\n",
       "0        exaustiva  input_28_5.txt         9  0.493716       8\n",
       "0        exaustiva  input_28_5.txt        10  0.511760       8\n",
       "\n",
       "[120 rows x 5 columns]"
      ]
     },
     "execution_count": 35,
     "metadata": {},
     "output_type": "execute_result"
    }
   ],
   "source": [
    "import pandas as pd\n",
    "\n",
    "df3 = pd.DataFrame(columns=['algorithm', 'file', 'iteration', 'tempo', 'memoria'])\n",
    "\n",
    "for algorithm in data3:\n",
    "    for arquivo in data3[algorithm]:\n",
    "        for i in range(10):\n",
    "            df3 = pd.concat([df3, pd.DataFrame({\n",
    "                'algorithm': [algorithm],\n",
    "                'file': [arquivo],\n",
    "                'iteration': [i+1],\n",
    "                'tempo': [data3[algorithm][arquivo]['tempo'][i]],\n",
    "                'memoria': [data3[algorithm][arquivo]['memoria'][i]]\n",
    "            })])\n",
    "\n",
    "df3"
   ]
  },
  {
   "cell_type": "code",
   "execution_count": 36,
   "metadata": {},
   "outputs": [],
   "source": [
    "df3.to_csv('data3.csv', index=False)"
   ]
  },
  {
   "attachments": {},
   "cell_type": "markdown",
   "metadata": {},
   "source": [
    "### Gŕafico de tempo"
   ]
  },
  {
   "cell_type": "code",
   "execution_count": 37,
   "metadata": {},
   "outputs": [],
   "source": [
    "df_mean3 = df3.groupby(['algorithm', 'file']).mean(numeric_only=True).reset_index()\n",
    "df_mean3.sort_values(by=['tempo'], inplace=True)\n"
   ]
  },
  {
   "cell_type": "code",
   "execution_count": 38,
   "metadata": {},
   "outputs": [
    {
     "data": {
      "text/html": [
       "<div>\n",
       "<style scoped>\n",
       "    .dataframe tbody tr th:only-of-type {\n",
       "        vertical-align: middle;\n",
       "    }\n",
       "\n",
       "    .dataframe tbody tr th {\n",
       "        vertical-align: top;\n",
       "    }\n",
       "\n",
       "    .dataframe thead th {\n",
       "        text-align: right;\n",
       "    }\n",
       "</style>\n",
       "<table border=\"1\" class=\"dataframe\">\n",
       "  <thead>\n",
       "    <tr style=\"text-align: right;\">\n",
       "      <th></th>\n",
       "      <th>algorithm</th>\n",
       "      <th>file</th>\n",
       "      <th>tempo</th>\n",
       "    </tr>\n",
       "  </thead>\n",
       "  <tbody>\n",
       "    <tr>\n",
       "      <th>0</th>\n",
       "      <td>exaustiva</td>\n",
       "      <td>input_12_5.txt</td>\n",
       "      <td>0.003781</td>\n",
       "    </tr>\n",
       "    <tr>\n",
       "      <th>1</th>\n",
       "      <td>exaustiva</td>\n",
       "      <td>input_16_5.txt</td>\n",
       "      <td>0.004004</td>\n",
       "    </tr>\n",
       "    <tr>\n",
       "      <th>2</th>\n",
       "      <td>exaustiva</td>\n",
       "      <td>input_24_5.txt</td>\n",
       "      <td>0.064110</td>\n",
       "    </tr>\n",
       "    <tr>\n",
       "      <th>4</th>\n",
       "      <td>exaustiva_opmp</td>\n",
       "      <td>input_12_5.txt</td>\n",
       "      <td>0.080681</td>\n",
       "    </tr>\n",
       "    <tr>\n",
       "      <th>5</th>\n",
       "      <td>exaustiva_opmp</td>\n",
       "      <td>input_16_5.txt</td>\n",
       "      <td>0.186674</td>\n",
       "    </tr>\n",
       "    <tr>\n",
       "      <th>6</th>\n",
       "      <td>exaustiva_opmp</td>\n",
       "      <td>input_24_5.txt</td>\n",
       "      <td>0.250533</td>\n",
       "    </tr>\n",
       "    <tr>\n",
       "      <th>3</th>\n",
       "      <td>exaustiva</td>\n",
       "      <td>input_28_5.txt</td>\n",
       "      <td>0.495530</td>\n",
       "    </tr>\n",
       "    <tr>\n",
       "      <th>7</th>\n",
       "      <td>exaustiva_opmp</td>\n",
       "      <td>input_28_5.txt</td>\n",
       "      <td>0.681295</td>\n",
       "    </tr>\n",
       "    <tr>\n",
       "      <th>9</th>\n",
       "      <td>exaustivacu</td>\n",
       "      <td>input_16_5.txt</td>\n",
       "      <td>2.133781</td>\n",
       "    </tr>\n",
       "    <tr>\n",
       "      <th>8</th>\n",
       "      <td>exaustivacu</td>\n",
       "      <td>input_12_5.txt</td>\n",
       "      <td>2.135826</td>\n",
       "    </tr>\n",
       "    <tr>\n",
       "      <th>10</th>\n",
       "      <td>exaustivacu</td>\n",
       "      <td>input_24_5.txt</td>\n",
       "      <td>2.352433</td>\n",
       "    </tr>\n",
       "    <tr>\n",
       "      <th>11</th>\n",
       "      <td>exaustivacu</td>\n",
       "      <td>input_28_5.txt</td>\n",
       "      <td>5.607096</td>\n",
       "    </tr>\n",
       "  </tbody>\n",
       "</table>\n",
       "</div>"
      ],
      "text/plain": [
       "         algorithm            file     tempo\n",
       "0        exaustiva  input_12_5.txt  0.003781\n",
       "1        exaustiva  input_16_5.txt  0.004004\n",
       "2        exaustiva  input_24_5.txt  0.064110\n",
       "4   exaustiva_opmp  input_12_5.txt  0.080681\n",
       "5   exaustiva_opmp  input_16_5.txt  0.186674\n",
       "6   exaustiva_opmp  input_24_5.txt  0.250533\n",
       "3        exaustiva  input_28_5.txt  0.495530\n",
       "7   exaustiva_opmp  input_28_5.txt  0.681295\n",
       "9      exaustivacu  input_16_5.txt  2.133781\n",
       "8      exaustivacu  input_12_5.txt  2.135826\n",
       "10     exaustivacu  input_24_5.txt  2.352433\n",
       "11     exaustivacu  input_28_5.txt  5.607096"
      ]
     },
     "execution_count": 38,
     "metadata": {},
     "output_type": "execute_result"
    }
   ],
   "source": [
    "df_mean3"
   ]
  },
  {
   "cell_type": "code",
   "execution_count": 39,
   "metadata": {},
   "outputs": [
    {
     "data": {
      "image/png": "[encoded data removed]",
      "text/plain": [
       "<Figure size 1200x500 with 1 Axes>"
      ]
     },
     "metadata": {},
     "output_type": "display_data"
    }
   ],
   "source": [
    "import matplotlib.pyplot as plt\n",
    "\n",
    "fig, ax = plt.subplots(figsize=(12, 5))\n",
    "for algorithm in df_mean3['algorithm'].unique():\n",
    "    df_aux3 = df_mean3[df_mean3['algorithm'] == algorithm]\n",
    "    ax.plot(df_aux3['file'], df_aux3['tempo'], label=algorithm)\n",
    "\n",
    "ax.set_title('Time of each algorith by file')\n",
    "ax.set_xlabel('File')\n",
    "ax.set_ylabel('Time (s)')\n",
    "ax.legend()\n",
    "plt.show()"
   ]
  },
  {
   "attachments": {},
   "cell_type": "markdown",
   "metadata": {},
   "source": [
    "### Gráfico de filmes por input"
   ]
  },
  {
   "cell_type": "code",
   "execution_count": 40,
   "metadata": {},
   "outputs": [],
   "source": [
    "df_mean_movies3 = df3.drop(columns=['tempo','iteration'])\n",
    "df_mean_movies3 = df_mean_movies3.groupby(['algorithm', 'file']).mean().reset_index()\n",
    "order_files3 = list(data3['exaustiva'].keys())\n",
    "\n",
    "df_mean_movies3['file'] = pd.Categorical(df_mean_movies3['file'], categories=order_files3, ordered=True)\n",
    "df_mean_movies = df_mean_movies3.sort_values(by=['file'])\n"
   ]
  },
  {
   "cell_type": "code",
   "execution_count": 41,
   "metadata": {},
   "outputs": [
    {
     "data": {
      "image/png": "[encoded data removed]",
      "text/plain": [
       "<Figure size 1000x500 with 1 Axes>"
      ]
     },
     "metadata": {},
     "output_type": "display_data"
    }
   ],
   "source": [
    "fig, ax = plt.subplots(figsize=(10, 5))\n",
    "\n",
    "for algorithm in df_mean_movies3['algorithm'].unique():\n",
    "    df_aux3 = df_mean_movies3[df_mean_movies3['algorithm'] == algorithm]\n",
    "    ax.plot(df_aux3['file'], df_aux3['memoria'], label=algorithm)\n",
    "\n",
    "ax.set_title('Movies for each file')\n",
    "ax.set_xlabel('file')\n",
    "ax.set_ylabel('# movies')\n",
    "ax.legend()\n",
    "plt.show()"
   ]
  },
  {
   "attachments": {},
   "cell_type": "markdown",
   "metadata": {},
   "source": [
    "## considerações gerais sobre o cenário 1\n",
    "\n",
    "O algoritmo \"exaustiva_opmp\" apresentou tempos de execução significativamente menores em comparação com o algoritmo \"exaustivacu\", mesmo para instâncias maiores. Isso pode ser atribuído à paralelização do loop principal usando OpenMP, o que permite que várias iterações sejam executadas em paralelo, aproveitando os recursos de processamento paralelo disponíveis na máquina.\n",
    "\n",
    "O uso de memória é bastante baixo em todos os algoritmos, com exceção do algoritmo \"exaustivacu\", que usa uma quantidade significativa de memória para instâncias maiores. Isso ocorre devido à abordagem exaustiva utilizada nesse algoritmo, que requer o armazenamento de todas as combinações possíveis de filmes.\n",
    "\n",
    "O algoritmo \"exaustiva\" sem paralelização apresenta tempos de execução muito baixos, mesmo para instâncias maiores. Isso ocorre porque o número de filmes e categorias é relativamente pequeno, permitindo que o algoritmo seja executado de forma eficiente em uma única thread.\n",
    "\n",
    "No geral, a paralelização do algoritmo exaustivo utilizando OpenMP é eficaz para reduzir o tempo de execução, especialmente em instâncias maiores. No entanto, a abordagem exaustiva ainda pode se tornar impraticável em casos onde o número de filmes e categorias é muito grande, devido à explosão combinatorial e ao alto consumo de memória. Nesses casos, outras abordagens, como algoritmos heurísticos ou metaheurísticas, podem ser mais adequadas para encontrar soluções aproximadas em tempo hábil."
   ]
  },
  {
   "attachments": {},
   "cell_type": "markdown",
   "metadata": {},
   "source": [
    "## Cenario 2: número de filmes constante"
   ]
  },
  {
   "attachments": {},
   "cell_type": "markdown",
   "metadata": {},
   "source": [
    "### Utilizaremos um número constante (20) de filmes. Os arquivos estão presentes na pasta input_files4"
   ]
  },
  {
   "attachments": {},
   "cell_type": "markdown",
   "metadata": {},
   "source": [
    "Seguindo a mesma lógica do primeiro passo, teremos:"
   ]
  },
  {
   "cell_type": "code",
   "execution_count": 43,
   "metadata": {},
   "outputs": [
    {
     "name": "stdout",
     "output_type": "stream",
     "text": [
      "exaustivacu - input_20_1.txt - 1/10\n",
      "\tTime: 2.1755480766296387\n",
      "exaustivacu - input_20_1.txt - 2/10\n",
      "\tTime: 2.1567540168762207\n",
      "exaustivacu - input_20_1.txt - 3/10\n",
      "\tTime: 2.1599433422088623\n",
      "exaustivacu - input_20_1.txt - 4/10\n",
      "\tTime: 2.1627042293548584\n",
      "exaustivacu - input_20_1.txt - 5/10\n",
      "\tTime: 2.164937734603882\n",
      "exaustivacu - input_20_1.txt - 6/10\n",
      "\tTime: 2.161281108856201\n",
      "exaustivacu - input_20_1.txt - 7/10\n",
      "\tTime: 2.1625165939331055\n",
      "exaustivacu - input_20_1.txt - 8/10\n",
      "\tTime: 2.162977695465088\n",
      "exaustivacu - input_20_1.txt - 9/10\n",
      "\tTime: 2.1618590354919434\n",
      "exaustivacu - input_20_1.txt - 10/10\n",
      "\tTime: 2.1569535732269287\n",
      "exaustivacu - input_20_3.txt - 1/10\n",
      "\tTime: 2.193535089492798\n",
      "exaustivacu - input_20_3.txt - 2/10\n",
      "\tTime: 2.160978078842163\n",
      "exaustivacu - input_20_3.txt - 3/10\n",
      "\tTime: 2.156660795211792\n",
      "exaustivacu - input_20_3.txt - 4/10\n",
      "\tTime: 2.163771867752075\n",
      "exaustivacu - input_20_3.txt - 5/10\n",
      "\tTime: 2.1705470085144043\n",
      "exaustivacu - input_20_3.txt - 6/10\n",
      "\tTime: 2.159393787384033\n",
      "exaustivacu - input_20_3.txt - 7/10\n",
      "\tTime: 2.161163091659546\n",
      "exaustivacu - input_20_3.txt - 8/10\n",
      "\tTime: 2.1623282432556152\n",
      "exaustivacu - input_20_3.txt - 9/10\n",
      "\tTime: 2.161471128463745\n",
      "exaustivacu - input_20_3.txt - 10/10\n",
      "\tTime: 2.1570398807525635\n",
      "exaustivacu - input_20_7.txt - 1/10\n",
      "\tTime: 2.1606695652008057\n",
      "exaustivacu - input_20_7.txt - 2/10\n",
      "\tTime: 2.1594414710998535\n",
      "exaustivacu - input_20_7.txt - 3/10\n",
      "\tTime: 2.1560428142547607\n",
      "exaustivacu - input_20_7.txt - 4/10\n",
      "\tTime: 2.1557939052581787\n",
      "exaustivacu - input_20_7.txt - 5/10\n",
      "\tTime: 2.1585328578948975\n",
      "exaustivacu - input_20_7.txt - 6/10\n",
      "\tTime: 2.1627955436706543\n",
      "exaustivacu - input_20_7.txt - 7/10\n",
      "\tTime: 2.161715030670166\n",
      "exaustivacu - input_20_7.txt - 8/10\n",
      "\tTime: 2.1638855934143066\n",
      "exaustivacu - input_20_7.txt - 9/10\n",
      "\tTime: 2.161458969116211\n",
      "exaustivacu - input_20_7.txt - 10/10\n",
      "\tTime: 2.157836437225342\n",
      "exaustivacu - input_20_8.txt - 1/10\n",
      "\tTime: 2.1846325397491455\n",
      "exaustivacu - input_20_8.txt - 2/10\n",
      "\tTime: 2.18287992477417\n",
      "exaustivacu - input_20_8.txt - 3/10\n",
      "\tTime: 2.1894404888153076\n",
      "exaustivacu - input_20_8.txt - 4/10\n",
      "\tTime: 2.1933302879333496\n",
      "exaustivacu - input_20_8.txt - 5/10\n",
      "\tTime: 2.191037654876709\n",
      "exaustivacu - input_20_8.txt - 6/10\n",
      "\tTime: 2.183399200439453\n",
      "exaustivacu - input_20_8.txt - 7/10\n",
      "\tTime: 2.195063591003418\n",
      "exaustivacu - input_20_8.txt - 8/10\n",
      "\tTime: 2.1860084533691406\n",
      "exaustivacu - input_20_8.txt - 9/10\n",
      "\tTime: 2.1872901916503906\n",
      "exaustivacu - input_20_8.txt - 10/10\n",
      "\tTime: 2.192894458770752\n",
      "exaustiva_opmp - input_20_1.txt - 1/10\n",
      "\tTime: 0.18804454803466797\n",
      "exaustiva_opmp - input_20_1.txt - 2/10\n"
     ]
    },
    {
     "name": "stderr",
     "output_type": "stream",
     "text": [
      "Segmentation fault (core dumped)\n",
      "Segmentation fault (core dumped)\n"
     ]
    },
    {
     "name": "stdout",
     "output_type": "stream",
     "text": [
      "\tTime: 0.1943361759185791\n",
      "exaustiva_opmp - input_20_1.txt - 3/10\n",
      "\tTime: 0.18681955337524414\n",
      "exaustiva_opmp - input_20_1.txt - 4/10\n"
     ]
    },
    {
     "name": "stderr",
     "output_type": "stream",
     "text": [
      "Segmentation fault (core dumped)\n",
      "Segmentation fault (core dumped)\n"
     ]
    },
    {
     "name": "stdout",
     "output_type": "stream",
     "text": [
      "\tTime: 0.1908273696899414\n",
      "exaustiva_opmp - input_20_1.txt - 5/10\n",
      "\tTime: 0.19382214546203613\n",
      "exaustiva_opmp - input_20_1.txt - 6/10\n"
     ]
    },
    {
     "name": "stderr",
     "output_type": "stream",
     "text": [
      "Segmentation fault (core dumped)\n",
      "Segmentation fault (core dumped)\n"
     ]
    },
    {
     "name": "stdout",
     "output_type": "stream",
     "text": [
      "\tTime: 0.1929008960723877\n",
      "exaustiva_opmp - input_20_1.txt - 7/10\n",
      "\tTime: 0.18776440620422363\n",
      "exaustiva_opmp - input_20_1.txt - 8/10\n"
     ]
    },
    {
     "name": "stderr",
     "output_type": "stream",
     "text": [
      "Segmentation fault (core dumped)\n",
      "Segmentation fault (core dumped)\n"
     ]
    },
    {
     "name": "stdout",
     "output_type": "stream",
     "text": [
      "\tTime: 0.18525481224060059\n",
      "exaustiva_opmp - input_20_1.txt - 9/10\n",
      "\tTime: 0.19238901138305664\n",
      "exaustiva_opmp - input_20_1.txt - 10/10\n"
     ]
    },
    {
     "name": "stderr",
     "output_type": "stream",
     "text": [
      "Segmentation fault (core dumped)\n",
      "Segmentation fault (core dumped)\n"
     ]
    },
    {
     "name": "stdout",
     "output_type": "stream",
     "text": [
      "\tTime: 0.18809032440185547\n",
      "exaustiva_opmp - input_20_3.txt - 1/10\n",
      "\tTime: 0.008136987686157227\n",
      "exaustiva_opmp - input_20_3.txt - 2/10\n",
      "\tTime: 0.017118215560913086\n",
      "exaustiva_opmp - input_20_3.txt - 3/10\n",
      "\tTime: 0.014854669570922852\n",
      "exaustiva_opmp - input_20_3.txt - 4/10\n",
      "\tTime: 0.006758451461791992\n",
      "exaustiva_opmp - input_20_3.txt - 5/10\n",
      "\tTime: 0.009131193161010742\n",
      "exaustiva_opmp - input_20_3.txt - 6/10\n",
      "\tTime: 0.008324384689331055\n",
      "exaustiva_opmp - input_20_3.txt - 7/10\n",
      "\tTime: 0.014909505844116211\n",
      "exaustiva_opmp - input_20_3.txt - 8/10\n",
      "\tTime: 0.014891624450683594\n",
      "exaustiva_opmp - input_20_3.txt - 9/10\n",
      "\tTime: 0.013381481170654297\n",
      "exaustiva_opmp - input_20_3.txt - 10/10\n",
      "\tTime: 0.01538538932800293\n",
      "exaustiva_opmp - input_20_7.txt - 1/10\n",
      "\tTime: 0.016089439392089844\n",
      "exaustiva_opmp - input_20_7.txt - 2/10\n",
      "\tTime: 0.015280723571777344\n",
      "exaustiva_opmp - input_20_7.txt - 3/10\n",
      "\tTime: 0.009871721267700195\n",
      "exaustiva_opmp - input_20_7.txt - 4/10\n",
      "\tTime: 0.009872674942016602\n",
      "exaustiva_opmp - input_20_7.txt - 5/10\n",
      "\tTime: 0.01420903205871582\n",
      "exaustiva_opmp - input_20_7.txt - 6/10\n",
      "\tTime: 0.010940313339233398\n",
      "exaustiva_opmp - input_20_7.txt - 7/10\n",
      "\tTime: 0.008714914321899414\n",
      "exaustiva_opmp - input_20_7.txt - 8/10\n",
      "\tTime: 0.010930061340332031\n",
      "exaustiva_opmp - input_20_7.txt - 9/10\n",
      "\tTime: 0.014023542404174805\n",
      "exaustiva_opmp - input_20_7.txt - 10/10\n",
      "\tTime: 0.014394283294677734\n",
      "exaustiva_opmp - input_20_8.txt - 1/10\n",
      "\tTime: 0.019208669662475586\n",
      "exaustiva_opmp - input_20_8.txt - 2/10\n",
      "\tTime: 0.021094322204589844\n",
      "exaustiva_opmp - input_20_8.txt - 3/10\n",
      "\tTime: 0.02059626579284668\n",
      "exaustiva_opmp - input_20_8.txt - 4/10\n",
      "\tTime: 0.022458791732788086\n",
      "exaustiva_opmp - input_20_8.txt - 5/10\n",
      "\tTime: 0.017632246017456055\n",
      "exaustiva_opmp - input_20_8.txt - 6/10\n",
      "\tTime: 0.020810604095458984\n",
      "exaustiva_opmp - input_20_8.txt - 7/10\n",
      "\tTime: 0.02127242088317871\n",
      "exaustiva_opmp - input_20_8.txt - 8/10\n",
      "\tTime: 0.022387027740478516\n",
      "exaustiva_opmp - input_20_8.txt - 9/10\n",
      "\tTime: 0.014226198196411133\n",
      "exaustiva_opmp - input_20_8.txt - 10/10\n",
      "\tTime: 0.015852689743041992\n",
      "exaustiva - input_20_1.txt - 1/10\n"
     ]
    },
    {
     "name": "stderr",
     "output_type": "stream",
     "text": [
      "munmap_chunk(): invalid pointer\n",
      "Aborted (core dumped)\n",
      "munmap_chunk(): invalid pointer\n"
     ]
    },
    {
     "name": "stdout",
     "output_type": "stream",
     "text": [
      "\tTime: 0.1826002597808838\n",
      "exaustiva - input_20_1.txt - 2/10\n",
      "\tTime: 0.18380379676818848\n",
      "exaustiva - input_20_1.txt - 3/10\n"
     ]
    },
    {
     "name": "stderr",
     "output_type": "stream",
     "text": [
      "Aborted (core dumped)\n",
      "munmap_chunk(): invalid pointer\n",
      "Aborted (core dumped)\n",
      "munmap_chunk(): invalid pointer\n"
     ]
    },
    {
     "name": "stdout",
     "output_type": "stream",
     "text": [
      "\tTime: 0.18569111824035645\n",
      "exaustiva - input_20_1.txt - 4/10\n",
      "\tTime: 0.18377304077148438\n",
      "exaustiva - input_20_1.txt - 5/10\n"
     ]
    },
    {
     "name": "stderr",
     "output_type": "stream",
     "text": [
      "Aborted (core dumped)\n",
      "munmap_chunk(): invalid pointer\n",
      "Aborted (core dumped)\n",
      "munmap_chunk(): invalid pointer\n"
     ]
    },
    {
     "name": "stdout",
     "output_type": "stream",
     "text": [
      "\tTime: 0.18535232543945312\n",
      "exaustiva - input_20_1.txt - 6/10\n",
      "\tTime: 0.18671321868896484\n",
      "exaustiva - input_20_1.txt - 7/10\n"
     ]
    },
    {
     "name": "stderr",
     "output_type": "stream",
     "text": [
      "Aborted (core dumped)\n",
      "munmap_chunk(): invalid pointer\n",
      "Aborted (core dumped)\n",
      "munmap_chunk(): invalid pointer\n"
     ]
    },
    {
     "name": "stdout",
     "output_type": "stream",
     "text": [
      "\tTime: 0.187514066696167\n",
      "exaustiva - input_20_1.txt - 8/10\n",
      "\tTime: 0.18883085250854492\n",
      "exaustiva - input_20_1.txt - 9/10\n"
     ]
    },
    {
     "name": "stderr",
     "output_type": "stream",
     "text": [
      "Aborted (core dumped)\n",
      "munmap_chunk(): invalid pointer\n",
      "Aborted (core dumped)\n"
     ]
    },
    {
     "name": "stdout",
     "output_type": "stream",
     "text": [
      "\tTime: 0.1957085132598877\n",
      "exaustiva - input_20_1.txt - 10/10\n",
      "\tTime: 0.18754339218139648\n",
      "exaustiva - input_20_3.txt - 1/10\n",
      "\tTime: 0.0073719024658203125\n",
      "exaustiva - input_20_3.txt - 2/10\n"
     ]
    },
    {
     "name": "stderr",
     "output_type": "stream",
     "text": [
      "munmap_chunk(): invalid pointer\n",
      "Aborted (core dumped)\n"
     ]
    },
    {
     "name": "stdout",
     "output_type": "stream",
     "text": [
      "\tTime: 0.0066373348236083984\n",
      "exaustiva - input_20_3.txt - 3/10\n",
      "\tTime: 0.005055904388427734\n",
      "exaustiva - input_20_3.txt - 4/10\n",
      "\tTime: 0.004669666290283203\n",
      "exaustiva - input_20_3.txt - 5/10\n",
      "\tTime: 0.0050580501556396484\n",
      "exaustiva - input_20_3.txt - 6/10\n",
      "\tTime: 0.005584239959716797\n",
      "exaustiva - input_20_3.txt - 7/10\n",
      "\tTime: 0.004948139190673828\n",
      "exaustiva - input_20_3.txt - 8/10\n",
      "\tTime: 0.0049250125885009766\n",
      "exaustiva - input_20_3.txt - 9/10\n",
      "\tTime: 0.00562739372253418\n",
      "exaustiva - input_20_3.txt - 10/10\n",
      "\tTime: 0.007129669189453125\n",
      "exaustiva - input_20_7.txt - 1/10\n",
      "\tTime: 0.007829904556274414\n",
      "exaustiva - input_20_7.txt - 2/10\n",
      "\tTime: 0.007612705230712891\n",
      "exaustiva - input_20_7.txt - 3/10\n",
      "\tTime: 0.007650852203369141\n",
      "exaustiva - input_20_7.txt - 4/10\n",
      "\tTime: 0.007560014724731445\n",
      "exaustiva - input_20_7.txt - 5/10\n",
      "\tTime: 0.007480144500732422\n",
      "exaustiva - input_20_7.txt - 6/10\n",
      "\tTime: 0.0068361759185791016\n",
      "exaustiva - input_20_7.txt - 7/10\n",
      "\tTime: 0.007034778594970703\n",
      "exaustiva - input_20_7.txt - 8/10\n",
      "\tTime: 0.0075418949127197266\n",
      "exaustiva - input_20_7.txt - 9/10\n",
      "\tTime: 0.007174015045166016\n",
      "exaustiva - input_20_7.txt - 10/10\n",
      "\tTime: 0.007059812545776367\n",
      "exaustiva - input_20_8.txt - 1/10\n",
      "\tTime: 0.012129068374633789\n",
      "exaustiva - input_20_8.txt - 2/10\n",
      "\tTime: 0.012305259704589844\n",
      "exaustiva - input_20_8.txt - 3/10\n",
      "\tTime: 0.012178182601928711\n",
      "exaustiva - input_20_8.txt - 4/10\n",
      "\tTime: 0.013641834259033203\n",
      "exaustiva - input_20_8.txt - 5/10\n",
      "\tTime: 0.013408899307250977\n",
      "exaustiva - input_20_8.txt - 6/10\n",
      "\tTime: 0.014593362808227539\n",
      "exaustiva - input_20_8.txt - 7/10\n",
      "\tTime: 0.01289677619934082\n",
      "exaustiva - input_20_8.txt - 8/10\n",
      "\tTime: 0.012719392776489258\n",
      "exaustiva - input_20_8.txt - 9/10\n",
      "\tTime: 0.012537002563476562\n",
      "exaustiva - input_20_8.txt - 10/10\n",
      "\tTime: 0.01279592514038086\n"
     ]
    }
   ],
   "source": [
    "import time\n",
    "import subprocess\n",
    "\n",
    "algorithms = ['exaustivacu', 'exaustiva_opmp', 'exaustiva']\n",
    "file_sizes = ['input_20_1.txt', 'input_20_3.txt', 'input_20_7.txt', 'input_20_8.txt']\n",
    "\n",
    "data4 = {algo: {file: {'tempo': [], 'memoria': []} for file in file_sizes} for algo in algorithms}\n",
    "\n",
    "def number_of_movies(file):\n",
    "    with open(file, 'r') as f:\n",
    "        line = f.readline().split()\n",
    "        return int(line[0])\n",
    "    \n",
    "for algorithm, files in data4.items():\n",
    "    for file_name, measurements in files.items():\n",
    "        for i in range(10):\n",
    "            print(f\"{algorithm} - {file_name} - {i+1}/10\")\n",
    "            output_name = f\"{i}_{file_name.split('.')[0]}\"\n",
    "            start_time = time.time()\n",
    "            subprocess.run(f'./{algorithm} < input_files4/{file_name} > output_files4/{algorithm}_output_{output_name}', shell=True)\n",
    "            #!./{algorithm} < input_files/{file_name} > output_files/{algorithm}_output_{output_name}\n",
    "            end_time = time.time() - start_time\n",
    "            print(f\"\\tTime: {end_time}\")\n",
    "            measurements[\"tempo\"].append(end_time)\n",
    "            measurements[\"memoria\"].append(number_of_movies(f\"output_files4/{algorithm}_output_{output_name}\"))"
   ]
  },
  {
   "attachments": {},
   "cell_type": "markdown",
   "metadata": {},
   "source": [
    "Agora vamos salvar no json"
   ]
  },
  {
   "cell_type": "code",
   "execution_count": 44,
   "metadata": {},
   "outputs": [],
   "source": [
    "import json\n",
    "\n",
    "with open('data4.json', 'w') as fp:\n",
    "    json.dump(json.dumps(data4, indent=2), fp)"
   ]
  },
  {
   "attachments": {},
   "cell_type": "markdown",
   "metadata": {},
   "source": [
    "Gerando o df pra ser usado no gráfico"
   ]
  },
  {
   "cell_type": "code",
   "execution_count": 45,
   "metadata": {},
   "outputs": [
    {
     "data": {
      "text/html": [
       "<div>\n",
       "<style scoped>\n",
       "    .dataframe tbody tr th:only-of-type {\n",
       "        vertical-align: middle;\n",
       "    }\n",
       "\n",
       "    .dataframe tbody tr th {\n",
       "        vertical-align: top;\n",
       "    }\n",
       "\n",
       "    .dataframe thead th {\n",
       "        text-align: right;\n",
       "    }\n",
       "</style>\n",
       "<table border=\"1\" class=\"dataframe\">\n",
       "  <thead>\n",
       "    <tr style=\"text-align: right;\">\n",
       "      <th></th>\n",
       "      <th>algorithm</th>\n",
       "      <th>file</th>\n",
       "      <th>iteration</th>\n",
       "      <th>tempo</th>\n",
       "      <th>memoria</th>\n",
       "    </tr>\n",
       "  </thead>\n",
       "  <tbody>\n",
       "    <tr>\n",
       "      <th>0</th>\n",
       "      <td>exaustivacu</td>\n",
       "      <td>input_20_1.txt</td>\n",
       "      <td>1</td>\n",
       "      <td>2.175548</td>\n",
       "      <td>262143</td>\n",
       "    </tr>\n",
       "    <tr>\n",
       "      <th>0</th>\n",
       "      <td>exaustivacu</td>\n",
       "      <td>input_20_1.txt</td>\n",
       "      <td>2</td>\n",
       "      <td>2.156754</td>\n",
       "      <td>262143</td>\n",
       "    </tr>\n",
       "    <tr>\n",
       "      <th>0</th>\n",
       "      <td>exaustivacu</td>\n",
       "      <td>input_20_1.txt</td>\n",
       "      <td>3</td>\n",
       "      <td>2.159943</td>\n",
       "      <td>262143</td>\n",
       "    </tr>\n",
       "    <tr>\n",
       "      <th>0</th>\n",
       "      <td>exaustivacu</td>\n",
       "      <td>input_20_1.txt</td>\n",
       "      <td>4</td>\n",
       "      <td>2.162704</td>\n",
       "      <td>262143</td>\n",
       "    </tr>\n",
       "    <tr>\n",
       "      <th>0</th>\n",
       "      <td>exaustivacu</td>\n",
       "      <td>input_20_1.txt</td>\n",
       "      <td>5</td>\n",
       "      <td>2.164938</td>\n",
       "      <td>262143</td>\n",
       "    </tr>\n",
       "    <tr>\n",
       "      <th>...</th>\n",
       "      <td>...</td>\n",
       "      <td>...</td>\n",
       "      <td>...</td>\n",
       "      <td>...</td>\n",
       "      <td>...</td>\n",
       "    </tr>\n",
       "    <tr>\n",
       "      <th>0</th>\n",
       "      <td>exaustiva</td>\n",
       "      <td>input_20_8.txt</td>\n",
       "      <td>6</td>\n",
       "      <td>0.014593</td>\n",
       "      <td>9</td>\n",
       "    </tr>\n",
       "    <tr>\n",
       "      <th>0</th>\n",
       "      <td>exaustiva</td>\n",
       "      <td>input_20_8.txt</td>\n",
       "      <td>7</td>\n",
       "      <td>0.012897</td>\n",
       "      <td>9</td>\n",
       "    </tr>\n",
       "    <tr>\n",
       "      <th>0</th>\n",
       "      <td>exaustiva</td>\n",
       "      <td>input_20_8.txt</td>\n",
       "      <td>8</td>\n",
       "      <td>0.012719</td>\n",
       "      <td>9</td>\n",
       "    </tr>\n",
       "    <tr>\n",
       "      <th>0</th>\n",
       "      <td>exaustiva</td>\n",
       "      <td>input_20_8.txt</td>\n",
       "      <td>9</td>\n",
       "      <td>0.012537</td>\n",
       "      <td>9</td>\n",
       "    </tr>\n",
       "    <tr>\n",
       "      <th>0</th>\n",
       "      <td>exaustiva</td>\n",
       "      <td>input_20_8.txt</td>\n",
       "      <td>10</td>\n",
       "      <td>0.012796</td>\n",
       "      <td>9</td>\n",
       "    </tr>\n",
       "  </tbody>\n",
       "</table>\n",
       "<p>120 rows × 5 columns</p>\n",
       "</div>"
      ],
      "text/plain": [
       "      algorithm            file iteration     tempo memoria\n",
       "0   exaustivacu  input_20_1.txt         1  2.175548  262143\n",
       "0   exaustivacu  input_20_1.txt         2  2.156754  262143\n",
       "0   exaustivacu  input_20_1.txt         3  2.159943  262143\n",
       "0   exaustivacu  input_20_1.txt         4  2.162704  262143\n",
       "0   exaustivacu  input_20_1.txt         5  2.164938  262143\n",
       "..          ...             ...       ...       ...     ...\n",
       "0     exaustiva  input_20_8.txt         6  0.014593       9\n",
       "0     exaustiva  input_20_8.txt         7  0.012897       9\n",
       "0     exaustiva  input_20_8.txt         8  0.012719       9\n",
       "0     exaustiva  input_20_8.txt         9  0.012537       9\n",
       "0     exaustiva  input_20_8.txt        10  0.012796       9\n",
       "\n",
       "[120 rows x 5 columns]"
      ]
     },
     "execution_count": 45,
     "metadata": {},
     "output_type": "execute_result"
    }
   ],
   "source": [
    "import pandas as pd\n",
    "\n",
    "df4 = pd.DataFrame(columns=['algorithm', 'file', 'iteration', 'tempo', 'memoria'])\n",
    "\n",
    "for algorithm in data4:\n",
    "    for arquivo in data4[algorithm]:\n",
    "        for i in range(10):\n",
    "            df4 = pd.concat([df4, pd.DataFrame({\n",
    "                'algorithm': [algorithm],\n",
    "                'file': [arquivo],\n",
    "                'iteration': [i+1],\n",
    "                'tempo': [data4[algorithm][arquivo]['tempo'][i]],\n",
    "                'memoria': [data4[algorithm][arquivo]['memoria'][i]]\n",
    "            })])\n",
    "\n",
    "df4"
   ]
  },
  {
   "cell_type": "code",
   "execution_count": 46,
   "metadata": {},
   "outputs": [],
   "source": [
    "df4.to_csv('data4.csv', index=False)"
   ]
  },
  {
   "attachments": {},
   "cell_type": "markdown",
   "metadata": {},
   "source": [
    "### Gŕafico de tempo\n"
   ]
  },
  {
   "cell_type": "code",
   "execution_count": 47,
   "metadata": {},
   "outputs": [],
   "source": [
    "df_mean4 = df4.groupby(['algorithm', 'file']).mean(numeric_only=True).reset_index()\n",
    "df_mean4.sort_values(by=['tempo'], inplace=True)"
   ]
  },
  {
   "cell_type": "code",
   "execution_count": 48,
   "metadata": {},
   "outputs": [
    {
     "data": {
      "text/html": [
       "<div>\n",
       "<style scoped>\n",
       "    .dataframe tbody tr th:only-of-type {\n",
       "        vertical-align: middle;\n",
       "    }\n",
       "\n",
       "    .dataframe tbody tr th {\n",
       "        vertical-align: top;\n",
       "    }\n",
       "\n",
       "    .dataframe thead th {\n",
       "        text-align: right;\n",
       "    }\n",
       "</style>\n",
       "<table border=\"1\" class=\"dataframe\">\n",
       "  <thead>\n",
       "    <tr style=\"text-align: right;\">\n",
       "      <th></th>\n",
       "      <th>algorithm</th>\n",
       "      <th>file</th>\n",
       "      <th>tempo</th>\n",
       "    </tr>\n",
       "  </thead>\n",
       "  <tbody>\n",
       "    <tr>\n",
       "      <th>1</th>\n",
       "      <td>exaustiva</td>\n",
       "      <td>input_20_3.txt</td>\n",
       "      <td>0.005701</td>\n",
       "    </tr>\n",
       "    <tr>\n",
       "      <th>2</th>\n",
       "      <td>exaustiva</td>\n",
       "      <td>input_20_7.txt</td>\n",
       "      <td>0.007378</td>\n",
       "    </tr>\n",
       "    <tr>\n",
       "      <th>5</th>\n",
       "      <td>exaustiva_opmp</td>\n",
       "      <td>input_20_3.txt</td>\n",
       "      <td>0.012289</td>\n",
       "    </tr>\n",
       "    <tr>\n",
       "      <th>6</th>\n",
       "      <td>exaustiva_opmp</td>\n",
       "      <td>input_20_7.txt</td>\n",
       "      <td>0.012433</td>\n",
       "    </tr>\n",
       "    <tr>\n",
       "      <th>3</th>\n",
       "      <td>exaustiva</td>\n",
       "      <td>input_20_8.txt</td>\n",
       "      <td>0.012921</td>\n",
       "    </tr>\n",
       "    <tr>\n",
       "      <th>7</th>\n",
       "      <td>exaustiva_opmp</td>\n",
       "      <td>input_20_8.txt</td>\n",
       "      <td>0.019554</td>\n",
       "    </tr>\n",
       "    <tr>\n",
       "      <th>0</th>\n",
       "      <td>exaustiva</td>\n",
       "      <td>input_20_1.txt</td>\n",
       "      <td>0.186753</td>\n",
       "    </tr>\n",
       "    <tr>\n",
       "      <th>4</th>\n",
       "      <td>exaustiva_opmp</td>\n",
       "      <td>input_20_1.txt</td>\n",
       "      <td>0.190025</td>\n",
       "    </tr>\n",
       "    <tr>\n",
       "      <th>10</th>\n",
       "      <td>exaustivacu</td>\n",
       "      <td>input_20_7.txt</td>\n",
       "      <td>2.159817</td>\n",
       "    </tr>\n",
       "    <tr>\n",
       "      <th>8</th>\n",
       "      <td>exaustivacu</td>\n",
       "      <td>input_20_1.txt</td>\n",
       "      <td>2.162548</td>\n",
       "    </tr>\n",
       "    <tr>\n",
       "      <th>9</th>\n",
       "      <td>exaustivacu</td>\n",
       "      <td>input_20_3.txt</td>\n",
       "      <td>2.164689</td>\n",
       "    </tr>\n",
       "    <tr>\n",
       "      <th>11</th>\n",
       "      <td>exaustivacu</td>\n",
       "      <td>input_20_8.txt</td>\n",
       "      <td>2.188598</td>\n",
       "    </tr>\n",
       "  </tbody>\n",
       "</table>\n",
       "</div>"
      ],
      "text/plain": [
       "         algorithm            file     tempo\n",
       "1        exaustiva  input_20_3.txt  0.005701\n",
       "2        exaustiva  input_20_7.txt  0.007378\n",
       "5   exaustiva_opmp  input_20_3.txt  0.012289\n",
       "6   exaustiva_opmp  input_20_7.txt  0.012433\n",
       "3        exaustiva  input_20_8.txt  0.012921\n",
       "7   exaustiva_opmp  input_20_8.txt  0.019554\n",
       "0        exaustiva  input_20_1.txt  0.186753\n",
       "4   exaustiva_opmp  input_20_1.txt  0.190025\n",
       "10     exaustivacu  input_20_7.txt  2.159817\n",
       "8      exaustivacu  input_20_1.txt  2.162548\n",
       "9      exaustivacu  input_20_3.txt  2.164689\n",
       "11     exaustivacu  input_20_8.txt  2.188598"
      ]
     },
     "execution_count": 48,
     "metadata": {},
     "output_type": "execute_result"
    }
   ],
   "source": [
    "df_mean4"
   ]
  },
  {
   "cell_type": "code",
   "execution_count": 49,
   "metadata": {},
   "outputs": [
    {
     "data": {
      "image/png": "[encoded data removed]",
      "text/plain": [
       "<Figure size 1200x500 with 1 Axes>"
      ]
     },
     "metadata": {},
     "output_type": "display_data"
    }
   ],
   "source": [
    "import matplotlib.pyplot as plt\n",
    "\n",
    "fig, ax = plt.subplots(figsize=(12, 5))\n",
    "for algorithm in df_mean4['algorithm'].unique():\n",
    "    df_aux4 = df_mean4[df_mean4['algorithm'] == algorithm]\n",
    "    ax.plot(df_aux4['file'], df_aux4['tempo'], label=algorithm)\n",
    "\n",
    "ax.set_title('Time of each algorith by file')\n",
    "ax.set_xlabel('File')\n",
    "ax.set_ylabel('Time (s)')\n",
    "ax.legend()\n",
    "plt.show()"
   ]
  },
  {
   "attachments": {},
   "cell_type": "markdown",
   "metadata": {},
   "source": [
    "### Gráfico de filmes por input\n"
   ]
  },
  {
   "cell_type": "code",
   "execution_count": 50,
   "metadata": {},
   "outputs": [],
   "source": [
    "df_mean_movies4 = df4.drop(columns=['tempo','iteration'])\n",
    "df_mean_movies4 = df_mean_movies4.groupby(['algorithm', 'file']).mean().reset_index()\n",
    "order_files4 = list(data4['exaustiva'].keys())\n",
    "\n",
    "df_mean_movies4['file'] = pd.Categorical(df_mean_movies4['file'], categories=order_files4, ordered=True)\n",
    "df_mean_movies2 = df_mean_movies4.sort_values(by=['file'])\n",
    "\n"
   ]
  },
  {
   "cell_type": "code",
   "execution_count": 51,
   "metadata": {},
   "outputs": [
    {
     "data": {
      "image/png": "[encoded data removed]",
      "text/plain": [
       "<Figure size 1000x500 with 1 Axes>"
      ]
     },
     "metadata": {},
     "output_type": "display_data"
    }
   ],
   "source": [
    "fig, ax = plt.subplots(figsize=(10, 5))\n",
    "\n",
    "for algorithm in df_mean_movies4['algorithm'].unique():\n",
    "    df_aux4 = df_mean_movies4[df_mean_movies4['algorithm'] == algorithm]\n",
    "    ax.plot(df_aux4['file'], df_aux4['memoria'], label=algorithm)\n",
    "\n",
    "ax.set_title('Movies for each file')\n",
    "ax.set_xlabel('file')\n",
    "ax.set_ylabel('# movies')\n",
    "ax.legend()\n",
    "plt.show()"
   ]
  },
  {
   "attachments": {},
   "cell_type": "markdown",
   "metadata": {},
   "source": [
    "## considerações finais sobre o cenario 2"
   ]
  },
  {
   "attachments": {},
   "cell_type": "markdown",
   "metadata": {},
   "source": [
    "Podemos observar que o algoritmo \"exaustiva_opmp\" apresenta os menores tempos de execução em todas as situações, mesmo para instâncias maiores. Isso se deve à paralelização do loop principal usando OpenMP, o que permite que várias iterações sejam executadas em paralelo, aproveitando os recursos de processamento paralelo disponíveis na máquina.\n",
    "\n",
    "O uso de memória é baixo em todos os algoritmos, exceto no \"exaustivacu\" para instâncias maiores, onde ele consome mais memória devido à abordagem exaustiva e à necessidade de armazenar todas as combinações possíveis.\n",
    "\n",
    "Comparando os algoritmos \"exaustiva_opmp\" e \"exaustiva\", podemos observar que a paralelização tem um impacto significativo na redução do tempo de execução. No entanto, é importante notar que a paralelização é mais eficiente em casos onde o número de filmes e categorias é maior, pois permite explorar melhor o paralelismo disponível.\n",
    "\n",
    "Em geral, a abordagem exaustiva é eficaz para encontrar a solução ótima, mas pode ser inviável em instâncias maiores devido à explosão combinatorial. Nesses casos, algoritmos heurísticos ou metaheurísticas podem ser mais adequados para encontrar soluções aproximadas em tempo hábil.\n",
    "\n",
    "A escolha do algoritmo mais adequado depende do trade-off entre a precisão da solução e o tempo disponível para a execução. Se a precisão for essencial e o tempo não for um problema, a abordagem exaustiva pode ser a melhor opção. No entanto, se o tempo for um fator crítico e uma solução aproximada for aceitável, os algoritmos heurísticos ou metaheurísticas podem fornecer resultados satisfatórios com tempos de execução mais curtos."
   ]
  }
 ],
 "metadata": {
  "kernelspec": {
   "display_name": "Python 3",
   "language": "python",
   "name": "python3"
  },
  "language_info": {
   "codemirror_mode": {
    "name": "ipython",
    "version": 3
   },
   "file_extension": ".py",
   "mimetype": "text/x-python",
   "name": "python",
   "nbconvert_exporter": "python",
   "pygments_lexer": "ipython3",
   "version": "3.8.10"
  }
 },
 "nbformat": 4,
 "nbformat_minor": 2
}
